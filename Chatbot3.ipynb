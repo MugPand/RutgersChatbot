{
 "cells": [
  {
   "cell_type": "markdown",
   "id": "02856ff7",
   "metadata": {
    "collapsed": false
   },
   "source": [
    "# Main Chatbot"
   ]
  },
  {
   "cell_type": "markdown",
   "id": "0c50f38f",
   "metadata": {
    "collapsed": false
   },
   "source": [
    "Handle imports and load data."
   ]
  },
  {
   "cell_type": "code",
   "execution_count": 105,
   "id": "e52ff851",
   "metadata": {
    "collapsed": false
   },
   "outputs": [],
   "source": [
    "import pandas\n",
    "import re\n",
    "import spacy\n",
    "import random"
   ]
  },
  {
   "cell_type": "code",
   "execution_count": null,
   "id": "552c5142",
   "metadata": {
    "collapsed": false
   },
   "outputs": [],
   "source": [
    "nlp = spacy.load(\"en_core_web_lg\")\n"
   ]
  },
  {
   "cell_type": "code",
   "execution_count": null,
   "id": "3ae73df3",
   "metadata": {
    "collapsed": false
   },
   "outputs": [],
   "source": [
    "class Query:\n",
    "    name = \"\"\n",
    "    examples = []\n",
    "    response = lambda self : print()\n",
    "    children = {}\n",
    "    model = None\n",
    "    decoder = None\n",
    "    responsegenerator = {}\n",
    "\n",
    "    def responses():\n",
    "        return {}\n",
    "\n",
    "    def __init__(self, name, examples, response, children = []):\n",
    "        self.name = name\n",
    "        self.examples = [nlp(x) for x in examples]\n",
    "        self.responsegenerator['response'] = lambda : print(response)\n",
    "        test = [[(e.text, e.label_) for e in d.ents] for d in self.examples]\n",
    "        print(test)\n",
    "        self.children = dict(zip(map(lambda x : x.name, children), children))\n",
    "        if len(self.children) > 0:\n",
    "            self.sktrainQuery()\n",
    "\n",
    "    def addChild(self, child, suppressTrain=False):\n",
    "        if child.name in self.children:\n",
    "            return None\n",
    "\n",
    "        self.children[child.name] = child\n",
    "\n",
    "        if not suppressTrain:\n",
    "            self.sktrainQuery()\n",
    "\n",
    "    def addChildren(self, childlist):\n",
    "        for childQ in childlist:\n",
    "            self.addChild(childQ, suppressTrain=True)\n",
    "\n",
    "        self.sktrainQuery()\n",
    "\n",
    "    def removeChild(self, name, suppressTrain=False):\n",
    "        self.children.discard(name)\n",
    "\n",
    "        if not suppressTrain:\n",
    "            self.sktrainQuery()\n",
    "\n",
    "    def removeChildren(self, namelist):\n",
    "        for name in namelist:\n",
    "            self.removeChild(name, suppressTrain=True)\n",
    "\n",
    "        if len(namelist) > 0:\n",
    "            self.sktrainQuery()\n",
    "\n",
    "\n",
    "\n",
    "    def trainingData(self):\n",
    "        # return [[s, self.name] for s in [x.vector.reshape(1,-1) for x in self.examples]]\n",
    "        return [[s, self.name] for s in self.examples]\n",
    "\n",
    "    def queriessqrt(self):\n",
    "        return round(math.sqrt(len(children)))\n",
    "\n",
    "    def getModel(self):\n",
    "        print('getting model')\n",
    "        rfc = sklearn.ensemble.RandomForestClassifier(max_features='auto')\n",
    "        # gnbc = sklearn.naive_bayes.GaussianNB()\n",
    "        sgdc = sklearn.linear_model.SGDClassifier()\n",
    "        ptronc = sklearn.linear_model.SGDClassifier(loss='perceptron')\n",
    "        # knc = sklearn.neighbors.KNeighborsClassifier()\n",
    "\n",
    "\n",
    "        # combinedclassifier = sklearn.naive_bayes.GaussianNB()\n",
    "        combinedclassifier = sklearn.linear_model.SGDClassifier(penalty='elasticnet', loss='hinge')\n",
    "\n",
    "        ensemblec = sklearn.ensemble.StackingClassifier(estimators=[('rf', rfc),\n",
    "                                                                    ('sgd', sgdc),\n",
    "                                                                    ('ptron', ptronc),\n",
    "                                                                    # ('gnb', gnbc),\n",
    "                                                                    # ('kn', knc)\n",
    "                                                                    ],\n",
    "                                                        final_estimator=combinedclassifier)\n",
    "\n",
    "        params = {'cv': [None, 2],\n",
    "                  'rf__n_estimators': [100, self.queriessqrt()],\n",
    "                  # 'rf__criterion': ['gini', 'entropy'],\n",
    "                  # 'rf__max_features': ['auto', 'log2'],\n",
    "                  # 'rf__warm_start':['true'],\n",
    "                  'rf__class_weight':[None, 'balanced'],\n",
    "                  # 'sgd__loss': ['hinge', 'log'],\n",
    "                  'sgd__penalty': ['l2', 'elasticnet'],\n",
    "                  # 'kn__n_neighbors': [5, self.queriessqrt()],\n",
    "                  'final_estimator__warm_start': [False]\n",
    "                  }\n",
    "        gc = sklearn.model_selection.GridSearchCV(ensemblec, params)\n",
    "\n",
    "        return sgdc\n",
    "\n",
    "\n",
    "    def sktrain(datalist, le=None, vc=None):\n",
    "        # print(datalist)\n",
    "        train = datalist\n",
    "        target = train[train.columns[len(train.columns)-1]]\n",
    "        train.drop(train.columns[len(train.columns)-1], axis=1, inplace=True)\n",
    "        if le is None:\n",
    "            le = sklearn.preprocessing.LabelEncoder()\n",
    "            le.fit(target)\n",
    "        target = le.transform(target)\n",
    "        # print(train.values.tolist())\n",
    "        # print(train)\n",
    "        # train = pd.DataFrame(list(train.apply(lambda x : x.vector.reshape(1,-1), axis=1, result_type='reduce')))\n",
    "        train = np.stack([d[0][0] for d in train.values.tolist()])\n",
    "        # print(\"train\")\n",
    "        # print(train)\n",
    "        # print(\"target\")\n",
    "        # print(target)\n",
    "        # print()\n",
    "        if vc is None:\n",
    "            vc = sklearn.linear_model.SGDClassifier()\n",
    "            with warnings.catch_warnings():\n",
    "                warnings.simplefilter(\"ignore\")\n",
    "                vc = getModel()\n",
    "        vc.fit(train, target)\n",
    "\n",
    "\n",
    "        # vectorizer = sklearn.feature_extraction.text.TfidfVectorizer(input='content', use_idf=True, ngram_range=(1,2))\n",
    "\n",
    "        self.model = vc\n",
    "        self.decoder = le\n",
    "        return vc, le\n",
    "\n",
    "\n",
    "\n",
    "    def sktrainQuery(self):\n",
    "        queries = self.children.values()\n",
    "        classifier = None\n",
    "        le = None\n",
    "        with warnings.catch_warnings():\n",
    "            warnings.simplefilter('ignore')\n",
    "            data = pd.concat([pd.DataFrame(q.trainingData(), columns=['data', 'target']) for q in list(queries.values())])\n",
    "            data.reset_index(drop=True, inplace=True)\n",
    "            data['data'] = pd.Series([x.vector.reshape(1,-1) for x in data['data'].tolist()])\n",
    "            classifier, le = sktrain(data)\n",
    "        return classifier, le\n",
    "\n",
    "    def sktestQuery(self, cl=None, le=None):\n",
    "        queries = self.children.values()\n",
    "        data = pd.concat([pd.DataFrame(q.trainingData(), columns=['data', 'target']) for q in list(queries.values())])\n",
    "        # datalist = pd.DataFrame([q.trainingData() for q in list(queries.values())], columns = ['data', 'target'])\n",
    "        data.reset_index(drop=True, inplace=True)\n",
    "        datalist = data.copy()\n",
    "        datalist['data'] = pd.Series([x.vector.reshape(1,-1) for x in data['data'].tolist()])\n",
    "\n",
    "        traindatalist = pd.DataFrame(columns=['data', 'target'])\n",
    "        testdatalist = pd.DataFrame(columns=['data', 'target'])\n",
    "\n",
    "        idxs = random.sample(range(len(datalist)), min(round(0.6*len(datalist)), len(datalist)))\n",
    "        traindatalist = datalist.iloc[idxs]\n",
    "        testdatalist = datalist.drop(labels=idxs, axis=0)\n",
    "\n",
    "    # while not all(traindatalist['target'].tolist().count(elem) > 2 for elem in datalist['target'].tolist()):\n",
    "    #     traindatalist = datalist.sample(frac=0.6, replace=False)\n",
    "\n",
    "    # while not all(testdatalist['target'].tolist().count(elem) > 2 for elem in datalist['target'].tolist()):\n",
    "    #     testdatalist = datalist.sample(frac=0.4, replace=False)\n",
    "\n",
    "\n",
    "    # print(traindatalist)\n",
    "    # print(testdatalist)\n",
    "\n",
    "\n",
    "    # temp = []\n",
    "    # rowsSelected = []\n",
    "\n",
    "    # print(datalist)\n",
    "    # for i in range(len(datalist)):\n",
    "    #     print(i)\n",
    "    #     print(datalist['target'][i])\n",
    "    #     if datalist['target'][i] not in temp:\n",
    "    #         temp.append(datalist['target'][i])\n",
    "    #         rowsSelected.append(i)\n",
    "    #         print('added')\n",
    "    #     print('not added. useless.')\n",
    "\n",
    "    # # rowsNotSelected = [i for i in list(range(len(datalist))) if i not in rowsSelected]\n",
    "    # temp = np.random.choice(temp, round(len(datalist)*0.5), replace=False)\n",
    "\n",
    "    # rowsSelected = rowsSelected.extend(temp)\n",
    "    # # rowsNotSelected = [i for i in list(range(len(datalist))) if i not in rowsSelected]\n",
    "\n",
    "    # traindatalist = datalist.iloc[rowsSelected]\n",
    "    # print(len(traindatalist))\n",
    "    # testdatalist = datalist.drop(index=rowsSelected)\n",
    "\n",
    "\n",
    "    # print(len(testdatalist))\n",
    "    # print(traindatalist)\n",
    "    # print(testdatalist)\n",
    "    # print(datalist)\n",
    "    # print(rowsSelected)\n",
    "\n",
    "\n",
    "    # print(\"train data lsit\")\n",
    "    # print(traindatalist)\n",
    "    # print(traindatalist['data'].to_numpy())\n",
    "\n",
    "    # print(\"actual dataframe generated\")\n",
    "    # print(pd.DataFrame(traindatalist['data'].to_numpy()))\n",
    "\n",
    "    # print('train columns')\n",
    "    # print(traindatalist.columns)\n",
    "\n",
    "\n",
    "        print('training...')\n",
    "        cl, le = sktrain(traindatalist, vc=cl, le=le)\n",
    "\n",
    "        testdatalist['target'] = le.transform(testdatalist['target'])\n",
    "\n",
    "\n",
    "        score = cl.score(np.stack([d[0] for d in testdatalist['data'].values.tolist()]), testdatalist['target'])\n",
    "\n",
    "        print(\"sklearn classifier scored \" + str(score))\n",
    "        # print(\"data was\")\n",
    "        # print(data)\n",
    "        # print()\n",
    "        # print('test indices are ')\n",
    "        # print(testdatalist.index)\n",
    "        # print(data['data'][1])\n",
    "        data.columns = ['dataname', 'target']\n",
    "\n",
    "        printtestdatalist = testdatalist.copy()\n",
    "        printtestdatalist['target'] = le.inverse_transform(testdatalist['target'])\n",
    "        printtestdatalist = printtestdatalist.join(data.drop('target', axis=1))\n",
    "        print(printtestdatalist)\n",
    "        print()\n",
    "\n",
    "        return score, traindatalist, testdatalist, datalist\n",
    "\n"
   ]
  },
  {
   "cell_type": "code",
   "execution_count": null,
   "id": "e3742e6d",
   "metadata": {
    "collapsed": false
   },
   "outputs": [],
   "source": [
    "queries = {'greeting': Query('greeting',\n",
    "                             [\"hello, how are you?\",\n",
    "                              \"greetings!\",\n",
    "                              \"salutations!\",\n",
    "                              \"nice to meet you!\",\n",
    "                              \"good morning!\",\n",
    "                              \"hello.\",\n",
    "                              \"hi.\",\n",
    "                              \"hi!\"],\n",
    "                             lambda : print(\"hello to you too!\")),\n",
    "           'farewell': Query('farewell',\n",
    "                             [\"goodbye.\",\n",
    "                              \"goodbye!\",\n",
    "                              \"see you later!\",\n",
    "                              \"see you later, then!\",\n",
    "                              \"farewell!\"],\n",
    "                             lambda : print(\"goodbye to you too!\")),\n",
    "           'whatclass': Query('whatclass',\n",
    "                              ['What course should I take?',\n",
    "                               'What course does it make sense for me to take?',\n",
    "                               'What course should I add?',\n",
    "                               'What course deals with Z?',\n",
    "                               'What course can teach me about Z?',\n",
    "                               'What class do you suggest?'],\n",
    "                              lambda : print(\"whatclass\")),\n",
    "           'shouldtake': Query('shouldtake',\n",
    "                               ['Does it make sense for me to take Discrete?',\n",
    "                                'Is Discrete applicable for the Y minor?',\n",
    "                                'Should I add Discrete?',\n",
    "                                'Should I take Discrete?',\n",
    "                                'Do I have to take Discrete?',\n",
    "                                'Do I need to take Discrete?',\n",
    "                                'Is Discrete required for the Y minor?',\n",
    "                                'Would you recommend Discrete?',\n",
    "                                'What do you think about Discrete?',\n",
    "                                'What about Discrete?',\n",
    "                                'How is Discrete?'],\n",
    "                               lambda : print(\"shouldtake\")),\n",
    "           'shoulddrop': Query('shoulddrop',\n",
    "                               ['Should I drop Discrete?',\n",
    "                                'Should I drop Discrete course?',\n",
    "                                'I don\\'t think I should take Discrete',\n",
    "                                'Can I avoid taking Discrete?',\n",
    "                                'Am I able to drop Discrete?',\n",
    "                                'Will I have to take Discrete or can I drop it?',\n",
    "                                'Will I have to take Discrete or can I skip it?',\n",
    "                                'What course can I switch for Discrete?',\n",
    "                                'I don\\'t think I should take Discrete. What could I take instead?',\n",
    "                                'And without Discrete?',\n",
    "                                'What course can I swap for Discrete?'],\n",
    "                               lambda : print(\"shoulddrop\")),\n",
    "           'cantake': Query('cantake',\n",
    "                            ['Can I take Discrete?',\n",
    "                             'Do I have the prerequisites to take Discrete?',\n",
    "                             'Can I register for Discrete?'],\n",
    "                            lambda : print(\"cantake\"))}\n",
    "\n",
    "childrenmap = {'greeting': ['farewell', 'shouldtake', 'shoulddrop', 'cantake', 'whatclass'],\n",
    "               'shoulddrop': ['farewell', 'shouldtake', 'shoulddrop', 'cantake', 'whatclass'],\n",
    "               'shouldtake': ['farewell', 'shouldtake', 'shoulddrop', 'cantake', 'whatclass'],\n",
    "               'cantake': ['farewell', 'shouldtake', 'cantake', 'whatclass']}\n",
    "\n",
    "for k in childrenmap:\n",
    "    queries[k].addChild(list(map(lambda a: queries[a], childrenmap[k])))"
   ]
  },
  {
   "cell_type": "code",
   "execution_count": null,
   "id": "14f7482a",
   "metadata": {
    "collapsed": false
   },
   "outputs": [],
   "source": [
    "def chatbot(statement):\n",
    "\n",
    "    statement = nlp(statement)\n",
    "    print(statement)\n",
    "\n",
    "    currQ = queries[greeting]\n",
    "\n",
    "    likelihoods = dict(map(lambda a: (a, max([statement.similarity(x) for x in currQ.children[a].examples])), currQ.children))\n",
    "    print(likelihoods)\n",
    "    try:\n",
    "        largest = max(likelihoods, key=likelihoods.get)\n",
    "    except:\n",
    "        largest = None\n",
    "    print(largest)\n",
    "    currq.children.get(largest, 'farewell').response()['response']()\n",
    "\n",
    "    cl = currQ.model\n",
    "    le = currQ.decoder\n",
    "\n",
    "    print(\"sklearn\")\n",
    "    print(le.inverse_transform(cl.predict([statement.vector])))\n",
    "    print(\"sklearn probabilities\")\n",
    "    try:\n",
    "        with warnings.catch_warnings():\n",
    "            warnings.simplefilter(\"ignore\")\n",
    "            prob = cl.predict_proba([statement.vector]).tolist()[0]\n",
    "            print(prob)\n",
    "            print(le.inverse_transform(range(len(prob))))\n",
    "            print(dict(zip(le.inverse_transform(range(len(prob))), prob)))\n",
    "    except:\n",
    "        print(\"probabilities not available\")\n",
    "\n",
    "    queries.get(le.inverse_transform(cl.predict([statement.vector]))[0], 'farewell').response()['response']()\n",
    "\n",
    "def run():\n",
    "    tempvar = \"\"\n",
    "    leaverlist = queries['farewell'].examples\n",
    "    leaverlist = leaverlist + [nlp(x) for x in [\"quit.\", \"quit\", \"exit\", \"leave\", \"goodbye\"]]\n",
    "    while max([nlp(tempvar).similarity(leaver) for leaver in leaverlist]) < 0.85:\n",
    "        tempvar = input(\"say something!\")\n",
    "        print()\n",
    "        chatbot(tempvar)\n",
    "        print()\n",
    "        print(\"leaver max:\")\n",
    "        print(max([nlp(tempvar).similarity(leaver) for leaver in leaverlist]))\n",
    "        print()\n",
    "        print()"
   ]
  },
  {
   "cell_type": "code",
   "execution_count": 106,
   "id": "dc5460ee",
   "metadata": {
    "collapsed": false
   },
   "outputs": [
    {
     "data": {
      "text/html": [
       "<div>\n",
       "<style scoped>\n",
       "    .dataframe tbody tr th:only-of-type {\n",
       "        vertical-align: middle;\n",
       "    }\n",
       "\n",
       "    .dataframe tbody tr th {\n",
       "        vertical-align: top;\n",
       "    }\n",
       "\n",
       "    .dataframe thead th {\n",
       "        text-align: right;\n",
       "    }\n",
       "</style>\n",
       "<table border=\"1\" class=\"dataframe\">\n",
       "  <thead>\n",
       "    <tr style=\"text-align: right;\">\n",
       "      <th></th>\n",
       "      <th>id</th>\n",
       "      <th>name</th>\n",
       "      <th>description</th>\n",
       "      <th>credits</th>\n",
       "      <th>prerequisites</th>\n",
       "      <th>SAS core</th>\n",
       "      <th>link</th>\n",
       "      <th>keywords</th>\n",
       "    </tr>\n",
       "  </thead>\n",
       "  <tbody>\n",
       "    <tr>\n",
       "      <th>0</th>\n",
       "      <td>01:198:105</td>\n",
       "      <td>Great Insights in Computer Science</td>\n",
       "      <td>The class is a tour of the big ideas that make...</td>\n",
       "      <td>3</td>\n",
       "      <td>01:640:026 or 01:640:027</td>\n",
       "      <td>QR, ITR</td>\n",
       "      <td>https://www.cs.rutgers.edu/academics/undergrad...</td>\n",
       "      <td>introduction, elementary,</td>\n",
       "    </tr>\n",
       "  </tbody>\n",
       "</table>\n",
       "</div>"
      ],
      "text/plain": [
       "           id                                name  \\\n",
       "0  01:198:105  Great Insights in Computer Science   \n",
       "\n",
       "                                         description  credits  \\\n",
       "0  The class is a tour of the big ideas that make...        3   \n",
       "\n",
       "              prerequisites SAS core  \\\n",
       "0  01:640:026 or 01:640:027  QR, ITR   \n",
       "\n",
       "                                                link  \\\n",
       "0  https://www.cs.rutgers.edu/academics/undergrad...   \n",
       "\n",
       "                    keywords  \n",
       "0  introduction, elementary,  "
      ]
     },
     "execution_count": 106,
     "metadata": {},
     "output_type": "execute_result"
    }
   ],
   "source": [
    "df = pandas.read_csv('smallData.csv')\n",
    "df.head(5)"
   ]
  },
  {
   "cell_type": "markdown",
   "id": "e617a90a",
   "metadata": {
    "collapsed": false
   },
   "source": [
    "Define retrieve function for accessing information in database"
   ]
  },
  {
   "cell_type": "code",
   "execution_count": 107,
   "id": "dadccd77",
   "metadata": {
    "collapsed": false
   },
   "outputs": [],
   "source": [
    "def retrieve(course, identifier):\n",
    "    i = df[(df['id']==course) | (df['name']==course)]\n",
    "    i = i[identifier].item()\n",
    "    return i"
   ]
  },
  {
   "cell_type": "code",
   "execution_count": 108,
   "id": "16e03a3c",
   "metadata": {
    "collapsed": false
   },
   "outputs": [],
   "source": [
    "# retrieve(\"01:198:112\", \"credits\")"
   ]
  },
  {
   "cell_type": "markdown",
   "id": "349b70dd",
   "metadata": {
    "collapsed": false
   },
   "source": [
    "Load Spacy Model & Tokenize utterances"
   ]
  },
  {
   "cell_type": "code",
   "execution_count": 109,
   "id": "82a86e27",
   "metadata": {
    "collapsed": false
   },
   "outputs": [],
   "source": [
    "nlp = spacy.load(\"en_core_web_sm\")\n",
    "def tokenize(utterance):\n",
    "    doc = nlp(utterance)\n",
    "    tagged_tokens = []\n",
    "    for token in doc:\n",
    "        tagged_tokens.append((token.text, token.pos_))\n",
    "\n",
    "    return tagged_tokens"
   ]
  },
  {
   "cell_type": "code",
   "execution_count": 110,
   "id": "6283e929",
   "metadata": {
    "collapsed": false
   },
   "outputs": [
    {
     "data": {
      "text/plain": [
       "[('I', 'PRON'),\n",
       " ('am', 'AUX'),\n",
       " ('very', 'ADV'),\n",
       " ('happy', 'ADJ'),\n",
       " ('!', 'PUNCT')]"
      ]
     },
     "execution_count": 110,
     "metadata": {},
     "output_type": "execute_result"
    }
   ],
   "source": [
    "tokenize(\"I am very happy!\")"
   ]
  },
  {
   "cell_type": "markdown",
   "id": "84ba87f2",
   "metadata": {
    "collapsed": false
   },
   "source": [
    "Handle Tagged & Untagged Reflections"
   ]
  },
  {
   "cell_type": "code",
   "execution_count": 111,
   "id": "077eafb7",
   "metadata": {
    "collapsed": false
   },
   "outputs": [],
   "source": [
    "tagged_reflection_of = {\n",
    "    (\"you\", \"PPSS\") : \"I\",\n",
    "    (\"you\", \"PPO\") : \"me\"\n",
    "}\n",
    "\n",
    "untagged_reflection_of = {\n",
    "    \"am\"    : \"are\",\n",
    "    \"i\"     : \"you\",\n",
    "    \"i'd\"   : \"you would\",\n",
    "    \"i've\"  : \"you have\",\n",
    "    \"i'll\"  : \"you will\",\n",
    "    \"i'm\"   : \"you are\",\n",
    "    \"my\"    : \"your\",\n",
    "    \"me\"    : \"you\",\n",
    "    \"you've\": \"I have\",\n",
    "    \"you'll\": \"I will\",\n",
    "    \"you're\": \"I am\",\n",
    "    \"your\"  : \"my\",\n",
    "    \"yours\" : \"mine\"\n",
    "}"
   ]
  },
  {
   "cell_type": "markdown",
   "id": "7f3b08b7",
   "metadata": {
    "collapsed": false
   },
   "source": [
    "Translate Tokens"
   ]
  },
  {
   "cell_type": "code",
   "execution_count": 112,
   "id": "34fd88c3",
   "metadata": {
    "collapsed": false
   },
   "outputs": [],
   "source": [
    "def translate_token(wt) :\n",
    "    (word, tag) = wt\n",
    "    wl = word.lower()\n",
    "    if (wl, tag) in tagged_reflection_of :\n",
    "        return (tagged_reflection_of[wl, tag], tag)\n",
    "    if wl in untagged_reflection_of :\n",
    "        return (untagged_reflection_of[wl], tag)\n",
    "    if tag.find(\"NP\") < 0 :\n",
    "        return (wl, tag)\n",
    "    return (word, tag)\n",
    "\n",
    "subject_tags = [\"PPS\",  # he, she, it | pronouns singular\n",
    "                \"PPSS\", # you, we, they | pronouns plural\n",
    "                \"PN\",   # everyone, someone | indefinite pronoun\n",
    "                \"NN\",   # dog, cat | noun, common, singular or mass\n",
    "                \"NNS\",  # dogs, cats | noun, common, plural\n",
    "                \"NP\",   # Fred, Jane | proper noun\n",
    "                \"NPS\"   # Republicans, Democrats | proper plural\n",
    "                ]\n",
    "\n",
    "def swap_ambiguous_verb(tagged_words, tagged_verb_form, target_subject_pronoun, replacement) :\n",
    "    for i, (w, t) in enumerate(tagged_words) :\n",
    "        if (w, t) == tagged_verb_form :\n",
    "            j = i - 1\n",
    "            # look earlier for the subject\n",
    "            while j >= 0 and tagged_words[j][1] not in subject_tags :\n",
    "                j = j - 1\n",
    "            # if subject is the target, swap verb forms\n",
    "            if j >= 0 and tagged_words[j][0].lower() == target_subject_pronoun :\n",
    "                tagged_words[i] = replacement\n",
    "            # didn't find a subject before the verb, so probably a question \n",
    "            if j < 0 :\n",
    "                j = i + 1\n",
    "                while j < len(tagged_words) and tagged_words[j][1] not in subject_tags :\n",
    "                    j = j + 1\n",
    "                # if subject is the target, swap verb forms\n",
    "                if j < len(tagged_words) and tagged_words[j][0].lower() == target_subject_pronoun :\n",
    "                    tagged_words[i] = replacement\n",
    "                    \n",
    "def handle_specials(tagged_words) :\n",
    "    # don't keep punctuation at the end\n",
    "    while tagged_words[-1][1] == 'PUNCT' :\n",
    "        tagged_words.pop()\n",
    "    # replace verb \"be\" to agree with swapped subjects\n",
    "    swap_ambiguous_verb(tagged_words, (\"are\", \"BER\"), \"i\", (\"am\", \"BEM\"))\n",
    "    swap_ambiguous_verb(tagged_words, (\"am\", \"BEM\"), \"you\", (\"are\", \"BER\"))\n",
    "    swap_ambiguous_verb(tagged_words, (\"were\", \"BED\"), \"i\", (\"was\", \"BEDZ\"))\n",
    "    swap_ambiguous_verb(tagged_words, (\"was\", \"BEDZ\"), \"you\", (\"were\", \"BED\"))\n",
    "\n",
    "    \n",
    "close_punc = ['.', ',', \"''\"]\n",
    "def translate(this):\n",
    "    '''tokens = tokenize(this)\n",
    "    tagged_tokens = tagger.tag(tokens)'''\n",
    "    tagged_tokens = tokenize(this)\n",
    "    print(tagged_tokens)\n",
    "    translation = [translate_token(tt) for tt in tagged_tokens]\n",
    "    handle_specials(translation)\n",
    "    if len(translation) > 0 :\n",
    "        with_spaces = [translation[0][0]]\n",
    "        for i in range(1, len(translation)) :\n",
    "            if translation[i-1][1] != '``' and translation[i][1] not in close_punc :\n",
    "                with_spaces.append(' ')\n",
    "            with_spaces.append(translation[i][0])           \n",
    "    return ''.join(with_spaces)"
   ]
  },
  {
   "cell_type": "code",
   "execution_count": 113,
   "id": "d3a98f1f",
   "metadata": {
    "collapsed": false
   },
   "outputs": [
    {
     "name": "stdout",
     "output_type": "stream",
     "text": [
      "[('I', 'PRON'), ('am', 'AUX'), ('very', 'ADV'), ('happy', 'ADJ'), ('!', 'PUNCT')]\n"
     ]
    },
    {
     "data": {
      "text/plain": [
       "'you are very happy'"
      ]
     },
     "execution_count": 113,
     "metadata": {},
     "output_type": "execute_result"
    }
   ],
   "source": [
    "translate(\"I am very happy!\")"
   ]
  },
  {
   "cell_type": "markdown",
   "id": "b0f44a18",
   "metadata": {
    "collapsed": false
   },
   "source": [
    "Eliza based responses"
   ]
  },
  {
   "cell_type": "code",
   "execution_count": 114,
   "id": "67f83d15",
   "metadata": {
    "collapsed": false
   },
   "outputs": [],
   "source": [
    "rules = [(re.compile(x[0]), x[1]) for x in [\n",
    "    ['How are you?',\n",
    "         [ \"I'm fine, thank you.\"]],\n",
    "    ['Thank you!',\n",
    "         ['No problem, did you have more questions?']],\n",
    "    [\"I had a question about (.*)\",\n",
    "         [  \"Ask away!\",\n",
    "            \"I am happy to help!\",\n",
    "            \"Ok, What is your question?\"]],\n",
    "    [\"Hello(.*)\",\n",
    "         [  \"Hello... I'm glad you could drop by today.\",\n",
    "            \"Hi there... how are you today?\"]],\n",
    "    [\"I'm great\", \n",
    "         [\"Great! Did you want to ask me anything?\",\n",
    "            \"Wonderful! Feel free to ask me any questions that you may have!\"]],\n",
    "    [\"Can you answer (.*)\",\n",
    "         [  \"Yes, I can!\",\n",
    "            \"What is your question?\"]],\n",
    "    [\"quit\",\n",
    "         [  \"Thank you for talking with me.\",\n",
    "            \"Good-bye.\",\n",
    "            \"Have a good day!\"]],\n",
    "    [\"(.*)\",\n",
    "         [  \"Please tell me more.\",\n",
    "        \"Can you elaborate on that?\", \"I don't understand. Can you rephrase? \"]]\n",
    "]]\n",
    "\n",
    "def respond(sentence):\n",
    "    # find a match among keys, last one is quaranteed to match.\n",
    "    for rule, value in rules:\n",
    "        match = rule.search(sentence)\n",
    "        if match is not None:\n",
    "            # found a match ... stuff with corresponding value\n",
    "            # chosen randomly from among the available options\n",
    "            resp = random.choice(value)\n",
    "            # we've got a response... stuff in reflected text where indicated\n",
    "            while '%' in resp:\n",
    "                pos = resp.find('%')\n",
    "                num = int(resp[pos+1:pos+2])\n",
    "                resp = resp.replace(resp[pos:pos+2], translate(match.group(num)))\n",
    "            return resp"
   ]
  },
  {
   "cell_type": "code",
   "execution_count": 115,
   "id": "a791a4a4",
   "metadata": {
    "collapsed": false
   },
   "outputs": [
    {
     "data": {
      "text/plain": [
       "'Ask away!'"
      ]
     },
     "execution_count": 115,
     "metadata": {},
     "output_type": "execute_result"
    }
   ],
   "source": [
    "respond(\"I had a question about computer science?\")"
   ]
  },
  {
   "cell_type": "code",
   "execution_count": 116,
   "id": "e9961fa2",
   "metadata": {
    "collapsed": false
   },
   "outputs": [
    {
     "data": {
      "text/plain": [
       "'Hi there... how are you today?'"
      ]
     },
     "execution_count": 116,
     "metadata": {},
     "output_type": "execute_result"
    }
   ],
   "source": [
    "respond(\"Hello, I wanted to ask about computer science.\")"
   ]
  },
  {
   "cell_type": "code",
   "execution_count": 117,
   "id": "5c2eb799",
   "metadata": {
    "collapsed": false
   },
   "outputs": [
    {
     "data": {
      "text/plain": [
       "'No problem, did you have more questions?'"
      ]
     },
     "execution_count": 117,
     "metadata": {},
     "output_type": "execute_result"
    }
   ],
   "source": [
    "respond(\"Thank you!\")"
   ]
  },
  {
   "cell_type": "markdown",
   "id": "8f84c5bc",
   "metadata": {
    "collapsed": false
   },
   "source": [
    "Build course suggestion tree"
   ]
  },
  {
   "cell_type": "code",
   "execution_count": 118,
   "id": "5b98337a",
   "metadata": {
    "collapsed": false
   },
   "outputs": [],
   "source": [
    "# define basic node class for course suggestion tree\n",
    "class Node(object):\n",
    "    \n",
    "    def __init__(self, val):\n",
    "        self.val = val\n",
    "        self.children = []\n",
    "        \n",
    "    def add_child(self, obj):\n",
    "        self.children.append(obj)\n",
    "        \n",
    "q1 = Node(\"suggesting courses, overview of CS or narrowed focus?\")\n",
    "q2 = Node(\"You picked overview of CS! academic discipline or applications?\")\n",
    "q3 = Node(\"You picked narrowed focus! software engineering or data science?\")\n",
    "q4 = Node(\"You picked applications! math & physical sciences or digital creation?\")\n",
    "q5 = Node(\"You picked software engineering! beginner or experienced?\")\n",
    "c1 = Node(\"You picked academic discipline! 01:198:105\tGreat Insights in Computer Science\")\n",
    "c2 = Node(\"You picked math & physical sciences! 01:198:107\tComputing for Math and the Sciences\")\n",
    "c3 = Node(\"You picked digital creation! 01:198:110\tPrinciples of Computer Science\")\n",
    "c4 = Node(\"You picked data science! 01:198:142\tData 101: Data Literacy\")\n",
    "c5 = Node(\"You picked beginner! 01:198:111\tIntroduction to Computer Science\")\n",
    "c6 = Node(\"You picked experienced! 01:198:112\tData Structures\")\n",
    "q1.add_child(q2)\n",
    "q1.add_child(q3)\n",
    "q2.add_child(c1)\n",
    "q2.add_child(q4)\n",
    "q4.add_child(c2)\n",
    "q4.add_child(c3)\n",
    "q3.add_child(c4)\n",
    "q3.add_child(q5)\n",
    "q5.add_child(c5)\n",
    "q5.add_child(c6)"
   ]
  },
  {
   "cell_type": "markdown",
   "id": "d1df9a0a",
   "metadata": {
    "collapsed": false
   },
   "source": [
    "Find possible actions for robot"
   ]
  },
  {
   "cell_type": "code",
   "execution_count": 119,
   "id": "621f1309",
   "metadata": {
    "collapsed": false
   },
   "outputs": [],
   "source": [
    "def possible(state):\n",
    "    # checking for eliza rules or task state\n",
    "    plans = []\n",
    "    \n",
    "    # check if 0 utterances have been said\n",
    "    if(len(state[utterances]) == 0):\n",
    "        plans.append(\"Type to chat!\")\n",
    "    else: \n",
    "        # gets eliza response\n",
    "        plans.append(respond(state[utterances][most_recent]))\n",
    "\n",
    "    \n",
    "        # check if no tasks have been initialized\n",
    "        # q1Rules = [\"suggest\", \"class\", \"course\", \"recommend\"]\n",
    "        q1Rules = [\"recommend\"]\n",
    "        if(len(state[tasks]) == 0):\n",
    "            for word in state[utterances][most_recent].split():\n",
    "                if word in q1Rules:\n",
    "                    # update_state(q1, state)\n",
    "                    plans.append(q1)\n",
    "                    break\n",
    "        # check if tasks have been initialized -> add the next appropriate task\n",
    "        elif(isinstance(state[tasks][most_recent], Node)):\n",
    "            for child in state[tasks][most_recent].children:\n",
    "                if state[tasks][most_recent] in child.val:\n",
    "                    # update_state(child, state)\n",
    "                    plans.append(child)\n",
    "                    break\n",
    "                    \n",
    "        # information retrieval \"tell me information about X\"\n",
    "        # infoRetrievalRules = [\"information\", \"tell me\", \"describe\"]\n",
    "        infoRetrievalRules = [\"information\"]\n",
    "        for rule in infoRetrievalRules:\n",
    "            if rule in state[utterances][most_recent].lower():\n",
    "                course = None\n",
    "                identifier = None\n",
    "                for id in df['id'].tolist():\n",
    "                    if id.lower() in state[utterances][most_recent].lower():\n",
    "                        course = id\n",
    "                        break\n",
    "                if course == None:\n",
    "                    for name in df['name'].tolist():\n",
    "                        if name.lower() in state[utterances][most_recent].lower():\n",
    "                            course = name\n",
    "                            break\n",
    "                for i in df.columns:\n",
    "                    if i.lower() in state[utterances][most_recent].lower():\n",
    "                        identifier = i\n",
    "                        break\n",
    "                plans.append(retrieve(course, identifier))\n",
    "        \n",
    "    \n",
    "    return plans"
   ]
  },
  {
   "cell_type": "markdown",
   "id": "8f849d24",
   "metadata": {
    "collapsed": false
   },
   "source": [
    "Find possible actions for user"
   ]
  },
  {
   "cell_type": "code",
   "execution_count": 120,
   "id": "e8f1bca5",
   "metadata": {
    "collapsed": false
   },
   "outputs": [],
   "source": [
    "def userUtterance(state):\n",
    "    # default plans\n",
    "    plans = [\"quit\", \"Mistake\"]\n",
    "    # respond to suggestion\n",
    "    if len(state[tasks]) > 0 and len(state[tasks][most_recent].children) != 0: \n",
    "        tokens = re.split(\", |! | or \", state[tasks][most_recent].val)\n",
    "        plans = plans + tokens[-2:]\n",
    "    # ask for suggestion\n",
    "    if len(state[tasks]) == 0:\n",
    "        # q1Rules = [\"suggest\", \"class\", \"course\", \"recommend\"]\n",
    "        q1Rules = [\"recommend\"]\n",
    "        plans.append(random.choice(q1Rules))\n",
    "    \n",
    "    #infoRetrievalRules = [\"information\", \"tell me\", \"describe\"]\n",
    "    infoRetrievalRules = [\"information\"]\n",
    "    #courses = []\n",
    "    #courses.append(df[\"id\"])\n",
    "    \n",
    "    # ask about class\n",
    "    courses = list(df[\"id\"]) + list(df[\"name\"])\n",
    "    #print(courses)\n",
    "    utterance = random.choice(infoRetrievalRules) + \" \" + random.choice(df.columns) + \" \" + random.choice(courses)\n",
    "    plans.append(utterance)\n",
    "    \n",
    "    return plans\n",
    "    "
   ]
  },
  {
   "cell_type": "markdown",
   "id": "21fe780c",
   "metadata": {
    "collapsed": false
   },
   "source": [
    "Update States"
   ]
  },
  {
   "cell_type": "code",
   "execution_count": 121,
   "id": "a6dfaba9",
   "metadata": {
    "collapsed": false
   },
   "outputs": [],
   "source": [
    "# initial_state = s0 = {\"u\": [], \"a\": [], \"task\": []}\n",
    "initial_state = s0 = ((),(),())"
   ]
  },
  {
   "cell_type": "code",
   "execution_count": 122,
   "id": "a3eb3217",
   "metadata": {
    "collapsed": false
   },
   "outputs": [],
   "source": [
    "# define constants\n",
    "utterances = 0\n",
    "actions = 1\n",
    "tasks = 2\n",
    "most_recent = -1"
   ]
  },
  {
   "cell_type": "code",
   "execution_count": 123,
   "id": "c13b3336",
   "metadata": {
    "collapsed": false
   },
   "outputs": [],
   "source": [
    "def update_state(task, state):\n",
    "    #     state.get(\"task\").append(task)\n",
    "    #     return state\n",
    "    \n",
    "    u, a, t = list(state)\n",
    "    t = list(t)\n",
    "    t.append(task)\n",
    "    t = tuple(t)\n",
    "    newState = (u, a, t)\n",
    "    return newState\n",
    "\n",
    "\n",
    "# s1 = update_state(\"hello\", s0)\n",
    "# print(s1)"
   ]
  },
  {
   "cell_type": "code",
   "execution_count": 124,
   "id": "64b72c0f",
   "metadata": {
    "collapsed": false
   },
   "outputs": [],
   "source": [
    "def do(item, state):\n",
    "#     n = state.copy()\n",
    "#     n['a'] = n['a'].copy()\n",
    "#     n['a'].append(item)\n",
    "    \n",
    "    u, a, t = list(state)\n",
    "    a = list(a)\n",
    "    a.append(item)\n",
    "    a = tuple(a)\n",
    "    newState = (u, a, t)\n",
    "    return newState\n",
    "\n",
    "# s1 = do(\"hello\", s0)\n",
    "# print(s1)"
   ]
  },
  {
   "cell_type": "code",
   "execution_count": 125,
   "id": "649f302a",
   "metadata": {
    "collapsed": false
   },
   "outputs": [],
   "source": [
    "def understand(item, state):\n",
    "#     # cases where state needs to be updated\n",
    "#     n = state.copy()\n",
    "#     # check if string is not empty\n",
    "#     if item:\n",
    "#         n['u'] = n['u'].copy()\n",
    "#         n['u'].append(item)\n",
    "\n",
    "    u, a, t = list(state)\n",
    "    u = list(u)\n",
    "    if item:\n",
    "        u.append(item)\n",
    "    u = tuple(u)\n",
    "    newState = (u, a, t)\n",
    "    return newState\n",
    "\n",
    "# s1 = understand(\"hello\", s0)\n",
    "# print(s1)"
   ]
  },
  {
   "cell_type": "markdown",
   "id": "c830cd27",
   "metadata": {
    "collapsed": false
   },
   "source": [
    "Decide random action"
   ]
  },
  {
   "cell_type": "code",
   "execution_count": 126,
   "id": "ce419793",
   "metadata": {
    "collapsed": false
   },
   "outputs": [],
   "source": [
    "def deliberate(plans, state):\n",
    "    choice = random.choice(plans)\n",
    "    if isinstance(choice, Node):\n",
    "        state = update_state(choice, state)\n",
    "        return choice.val\n",
    "    else:\n",
    "        return choice"
   ]
  },
  {
   "cell_type": "markdown",
   "id": "371500d0",
   "metadata": {
    "collapsed": false
   },
   "source": [
    "Converse with list of utterances"
   ]
  },
  {
   "cell_type": "code",
   "execution_count": 127,
   "id": "30d4da5b",
   "metadata": {
    "collapsed": false
   },
   "outputs": [],
   "source": [
    "def converse(utterances):\n",
    "#     s0 = {\"u\": [], \"a\": [], \"task\": []}\n",
    "    s0 = ((), (), ()) # represents utterances, actions, tasks\n",
    "    for utterance in utterances:\n",
    "        if utterance == \"quit\":\n",
    "            break\n",
    "        s1 = understand(utterance, s0)\n",
    "        plans = possible(s1)\n",
    "        action = deliberate(plans, s1)\n",
    "        s0 = do(action, s1)\n",
    "        print(utterance)\n",
    "        print(action)"
   ]
  },
  {
   "cell_type": "code",
   "execution_count": 128,
   "id": "9aa172bf",
   "metadata": {
    "collapsed": false
   },
   "outputs": [
    {
     "name": "stdout",
     "output_type": "stream",
     "text": [
      "Hello\n",
      "Hello... I'm glad you could drop by today.\n",
      "I had a question about computer science\n",
      "I am happy to help!\n",
      "can you suggest a course that I would like?\n",
      "Please tell me more.\n",
      "overview\n",
      "I don't understand. Can you rephrase? \n",
      "academic\n",
      "Please tell me more.\n"
     ]
    }
   ],
   "source": [
    "converse([\"Hello\", \"I had a question about computer science\", \"can you suggest a course that I would like?\", \"overview\", \"academic\", \"quit\"])"
   ]
  },
  {
   "cell_type": "markdown",
   "id": "8d2ab7a1",
   "metadata": {
    "collapsed": false
   },
   "source": [
    "Converse with user"
   ]
  },
  {
   "cell_type": "code",
   "execution_count": 129,
   "id": "f6a8ac0b",
   "metadata": {
    "collapsed": false
   },
   "outputs": [
    {
     "name": "stdout",
     "output_type": "stream",
     "text": [
      "Type to chat!quit\n"
     ]
    }
   ],
   "source": [
    "utterance = None\n",
    "# s0 = {\"u\": [], \"a\": [], \"task\": []}\n",
    "s0 = ((), (), ()) # represents utterances, actions, tasks\n",
    "while(utterance != \"quit\"):\n",
    "    s1 = understand(utterance, s0)\n",
    "    #print(s1)\n",
    "    plans = possible(s1)\n",
    "    action = deliberate(plans, s1)\n",
    "    s0 = do(action, s1)\n",
    "    #print(s0)\n",
    "    utterance = input(action)"
   ]
  },
  {
   "cell_type": "markdown",
   "id": "4e2a33b6",
   "metadata": {
    "collapsed": false
   },
   "source": [
    "Simulate conversation between user and chatbot"
   ]
  },
  {
   "cell_type": "code",
   "execution_count": 130,
   "id": "b2e564d6",
   "metadata": {
    "collapsed": false
   },
   "outputs": [],
   "source": [
    "def simulate(state0):\n",
    "    utterance = None\n",
    "    while(utterance != \"quit\"):\n",
    "        state1 = understand(utterance, state0)\n",
    "        #print(state1)\n",
    "        plans = possible(state1)\n",
    "        action = deliberate(plans, state1)\n",
    "        state0 = do(action, state1)\n",
    "        #print(state0)\n",
    "        print(\"Action: \" + str(action))\n",
    "        utterance = random.choice(userUtterance(state0))\n",
    "        print(\"Uterrance: \" + utterance)"
   ]
  },
  {
   "cell_type": "code",
   "execution_count": 131,
   "id": "26c68ac8",
   "metadata": {
    "collapsed": false
   },
   "outputs": [
    {
     "name": "stdout",
     "output_type": "stream",
     "text": [
      "Action: Type to chat!\n",
      "Uterrance: recommend\n",
      "Action: Please tell me more.\n",
      "Uterrance: Mistake\n",
      "Action: Please tell me more.\n",
      "Uterrance: Mistake\n",
      "Action: Can you elaborate on that?\n",
      "Uterrance: information keywords 01:198:105\n",
      "Action: introduction, elementary,\n",
      "Uterrance: information credits Great Insights in Computer Science\n",
      "Action: Can you elaborate on that?\n",
      "Uterrance: Mistake\n",
      "Action: I don't understand. Can you rephrase? \n",
      "Uterrance: quit\n"
     ]
    }
   ],
   "source": [
    "# s0 = {\"u\": [], \"a\": [], \"task\": []}\n",
    "s0 = ((), (), ()) # represents utterances, actions, tasks\n",
    "simulate(s0)"
   ]
  },
  {
   "cell_type": "markdown",
   "id": "148a214a",
   "metadata": {
    "collapsed": false
   },
   "source": [
    "# Machine Learning"
   ]
  },
  {
   "cell_type": "markdown",
   "id": "aeeb8002",
   "metadata": {
    "collapsed": false
   },
   "source": [
    "Define reward function"
   ]
  },
  {
   "cell_type": "code",
   "execution_count": 132,
   "id": "5632127d",
   "metadata": {
    "collapsed": false
   },
   "outputs": [],
   "source": [
    "leafNodes = [c1, c2, c3, c4, c5, c6]\n",
    "def getReward(oldState, action, newState):\n",
    "    reward = -1\n",
    "    # action is in dataframe\n",
    "    if (action in df.values):\n",
    "        reward += 5\n",
    "    else:\n",
    "        # action is a leaf node\n",
    "        for node in leafNodes:\n",
    "            if str(action) in node.val:\n",
    "                reward += 5\n",
    "            \n",
    "    return reward"
   ]
  },
  {
   "cell_type": "code",
   "execution_count": 133,
   "id": "f523599e",
   "metadata": {
    "collapsed": false
   },
   "outputs": [],
   "source": [
    "# getReward(4), getReward(\"Data Structures\")"
   ]
  },
  {
   "cell_type": "markdown",
   "id": "ddf69b46",
   "metadata": {
    "collapsed": false
   },
   "source": [
    "Determine if state is terminated"
   ]
  },
  {
   "cell_type": "code",
   "execution_count": 134,
   "id": "19b65f02",
   "metadata": {
    "collapsed": false
   },
   "outputs": [],
   "source": [
    "def is_terminated(state):\n",
    "    if len(state[utterances]) == 0:\n",
    "        return False\n",
    "    elif state[utterances][most_recent] == \"quit\":\n",
    "        return True\n",
    "    return False"
   ]
  },
  {
   "cell_type": "markdown",
   "id": "13cc492b",
   "metadata": {
    "collapsed": false
   },
   "source": [
    "Define Q-actions"
   ]
  },
  {
   "cell_type": "code",
   "execution_count": 135,
   "id": "566ed1e7",
   "metadata": {
    "collapsed": false
   },
   "outputs": [],
   "source": [
    "def q_action(state, actions, epsilon):\n",
    "    if random.random() < epsilon:\n",
    "        max_q = None\n",
    "        for action in action:\n",
    "            #check to see if state action pair is in q_values dictionary, if not insert it\n",
    "            if (state, action) not in q_values:\n",
    "                q_values.setdefault((state, action), 0)\n",
    "\n",
    "            if q_values.get(state,action) > q_values.get(max_q):\n",
    "                max_q = (state,action)\n",
    "                    \n",
    "        return max_q[1]\n",
    "                \n",
    "    else:\n",
    "        return random.choice(actions)"
   ]
  },
  {
   "cell_type": "markdown",
   "id": "f1e56753",
   "metadata": {
    "collapsed": false
   },
   "source": [
    "Training"
   ]
  },
  {
   "cell_type": "code",
   "execution_count": 136,
   "id": "19f9dbbe",
   "metadata": {
    "collapsed": false,
    "scrolled": false
   },
   "outputs": [
    {
     "name": "stdout",
     "output_type": "stream",
     "text": [
      "Training complete!\n",
      "((('information id Great Insights in Computer Science',), ('Type to chat!',), ()), '01:198:105')  :  7.564\n",
      "((('information prerequisites Great Insights in Computer Science',), ('Type to chat!',), ()), '01:640:026 or 01:640:027')  :  7.564\n",
      "((('information description Great Insights in Computer Science',), ('Type to chat!',), ()), 'The class is a tour of the big ideas that make computer science an academic discipline. We tour the architecture of modern computers from bits and logic all the way up to programming languages and software libraries. We probe the insights in computability and algorithm design that make possible massive search engines like Google and help us understand the relation between computation and intelligence. Coursework primarily involves paper-and-pencil problem solving and a very small amount of programming to provide students with hands-on-experience with the concepts we introduce.')  :  7.564\n",
      "((('information prerequisites 01:198:105',), ('Type to chat!',), ()), '01:640:026 or 01:640:027')  :  7.564\n",
      "((('information link 01:198:105',), ('Type to chat!',), ()), 'https://www.cs.rutgers.edu/academics/undergraduate/course-synopses/course-details/01-198-105-great-insights-in-computer-science')  :  7.564\n",
      "((('information id Great Insights in Computer Science', 'recommend', 'Mistake', 'recommend', 'Mistake', 'information credits Great Insights in Computer Science'), ('Type to chat!', '01:198:105', 'suggesting courses, overview of CS or narrowed focus?', 'Please tell me more.', 'suggesting courses, overview of CS or narrowed focus?', 'Can you elaborate on that?'), ()), 3)  :  7.24\n",
      "((('information id Great Insights in Computer Science', 'recommend', 'Mistake', 'recommend', 'Mistake', 'information credits Great Insights in Computer Science', 'recommend', 'Mistake', 'recommend', 'recommend', 'Mistake', 'recommend', 'recommend', 'recommend', 'information description Great Insights in Computer Science', 'recommend', 'Mistake', 'information name Great Insights in Computer Science'), ('Type to chat!', '01:198:105', 'suggesting courses, overview of CS or narrowed focus?', 'Please tell me more.', 'suggesting courses, overview of CS or narrowed focus?', 'Can you elaborate on that?', 3, \"I don't understand. Can you rephrase? \", 'Please tell me more.', 'Can you elaborate on that?', \"I don't understand. Can you rephrase? \", \"I don't understand. Can you rephrase? \", 'suggesting courses, overview of CS or narrowed focus?', 'suggesting courses, overview of CS or narrowed focus?', 'Please tell me more.', \"I don't understand. Can you rephrase? \", 'Can you elaborate on that?', 'Please tell me more.'), ()), 'Great Insights in Computer Science')  :  7.24\n",
      "((('information id Great Insights in Computer Science', 'recommend', 'Mistake', 'recommend', 'Mistake', 'information credits Great Insights in Computer Science', 'recommend', 'Mistake', 'recommend', 'recommend', 'Mistake', 'recommend', 'recommend', 'recommend', 'information description Great Insights in Computer Science', 'recommend', 'Mistake', 'information name Great Insights in Computer Science', 'recommend', 'Mistake', 'recommend', 'recommend', 'information description Great Insights in Computer Science'), ('Type to chat!', '01:198:105', 'suggesting courses, overview of CS or narrowed focus?', 'Please tell me more.', 'suggesting courses, overview of CS or narrowed focus?', 'Can you elaborate on that?', 3, \"I don't understand. Can you rephrase? \", 'Please tell me more.', 'Can you elaborate on that?', \"I don't understand. Can you rephrase? \", \"I don't understand. Can you rephrase? \", 'suggesting courses, overview of CS or narrowed focus?', 'suggesting courses, overview of CS or narrowed focus?', 'Please tell me more.', \"I don't understand. Can you rephrase? \", 'Can you elaborate on that?', 'Please tell me more.', 'Great Insights in Computer Science', \"I don't understand. Can you rephrase? \", 'Please tell me more.', 'suggesting courses, overview of CS or narrowed focus?', 'suggesting courses, overview of CS or narrowed focus?'), ()), 'The class is a tour of the big ideas that make computer science an academic discipline. We tour the architecture of modern computers from bits and logic all the way up to programming languages and software libraries. We probe the insights in computability and algorithm design that make possible massive search engines like Google and help us understand the relation between computation and intelligence. Coursework primarily involves paper-and-pencil problem solving and a very small amount of programming to provide students with hands-on-experience with the concepts we introduce.')  :  7.24\n",
      "((('information credits 01:198:105',), ('Type to chat!',), ()), 3)  :  7.24\n",
      "((('Mistake', 'information id Great Insights in Computer Science'), ('Type to chat!', 'Please tell me more.'), ()), '01:198:105')  :  7.24\n",
      "((('Mistake', 'information SAS core 01:198:105', 'recommend', 'information link 01:198:105'), ('Type to chat!', \"I don't understand. Can you rephrase? \", \"I don't understand. Can you rephrase? \", 'Can you elaborate on that?'), ()), 'https://www.cs.rutgers.edu/academics/undergraduate/course-synopses/course-details/01-198-105-great-insights-in-computer-science')  :  7.24\n",
      "((('Mistake', 'information prerequisites 01:198:105'), ('Type to chat!', \"I don't understand. Can you rephrase? \"), ()), '01:640:026 or 01:640:027')  :  7.24\n",
      "((('Mistake', 'information prerequisites 01:198:105', 'recommend', 'recommend', 'information link 01:198:105', 'information prerequisites 01:198:105'), ('Type to chat!', \"I don't understand. Can you rephrase? \", '01:640:026 or 01:640:027', 'Can you elaborate on that?', 'suggesting courses, overview of CS or narrowed focus?', 'Please tell me more.'), ()), '01:640:026 or 01:640:027')  :  7.24\n",
      "((('recommend', 'recommend', 'information id Great Insights in Computer Science'), ('Type to chat!', 'Can you elaborate on that?', 'suggesting courses, overview of CS or narrowed focus?'), ()), '01:198:105')  :  7.24\n",
      "((('recommend', 'recommend', 'information id Great Insights in Computer Science', 'recommend', 'information link Great Insights in Computer Science'), ('Type to chat!', 'Can you elaborate on that?', 'suggesting courses, overview of CS or narrowed focus?', '01:198:105', 'suggesting courses, overview of CS or narrowed focus?'), ()), 'https://www.cs.rutgers.edu/academics/undergraduate/course-synopses/course-details/01-198-105-great-insights-in-computer-science')  :  7.24\n",
      "((('recommend', 'Mistake', 'recommend', 'Mistake', 'Mistake', 'recommend', 'Mistake', 'Mistake', 'information keywords 01:198:105'), ('Type to chat!', 'Please tell me more.', \"I don't understand. Can you rephrase? \", 'Can you elaborate on that?', 'Please tell me more.', 'Can you elaborate on that?', 'suggesting courses, overview of CS or narrowed focus?', 'Please tell me more.', \"I don't understand. Can you rephrase? \"), ()), 'introduction, elementary,')  :  7.24\n",
      "((('Mistake', 'Mistake', 'information id Great Insights in Computer Science'), ('Type to chat!', 'Please tell me more.', \"I don't understand. Can you rephrase? \"), ()), '01:198:105')  :  7.24\n",
      "((('recommend', 'recommend', 'information credits 01:198:105'), ('Type to chat!', \"I don't understand. Can you rephrase? \", 'Can you elaborate on that?'), ()), 3)  :  7.24\n",
      "((('information keywords Great Insights in Computer Science',), ('Type to chat!',), ()), 'introduction, elementary,')  :  7.24\n",
      "((('Mistake', 'information link 01:198:105', 'Mistake', 'information link Great Insights in Computer Science', 'Mistake', 'recommend', 'information keywords 01:198:105'), ('Type to chat!', 'Can you elaborate on that?', 'Can you elaborate on that?', \"I don't understand. Can you rephrase? \", \"I don't understand. Can you rephrase? \", 'Please tell me more.', 'Can you elaborate on that?'), ()), 'introduction, elementary,')  :  7.24\n",
      "((('recommend', 'information description 01:198:105'), ('Type to chat!', 'Can you elaborate on that?'), ()), 'The class is a tour of the big ideas that make computer science an academic discipline. We tour the architecture of modern computers from bits and logic all the way up to programming languages and software libraries. We probe the insights in computability and algorithm design that make possible massive search engines like Google and help us understand the relation between computation and intelligence. Coursework primarily involves paper-and-pencil problem solving and a very small amount of programming to provide students with hands-on-experience with the concepts we introduce.')  :  7.24\n",
      "((('information prerequisites Great Insights in Computer Science', 'Mistake', 'recommend', 'information credits Great Insights in Computer Science'), ('Type to chat!', '01:640:026 or 01:640:027', 'Can you elaborate on that?', 'suggesting courses, overview of CS or narrowed focus?'), ()), 3)  :  7.24\n",
      "((('information prerequisites Great Insights in Computer Science', 'Mistake', 'recommend', 'information credits Great Insights in Computer Science', 'recommend', 'information keywords Great Insights in Computer Science'), ('Type to chat!', '01:640:026 or 01:640:027', 'Can you elaborate on that?', 'suggesting courses, overview of CS or narrowed focus?', 3, 'suggesting courses, overview of CS or narrowed focus?'), ()), 'introduction, elementary,')  :  7.24\n",
      "((('information prerequisites Great Insights in Computer Science', 'Mistake', 'recommend', 'information credits Great Insights in Computer Science', 'recommend', 'information keywords Great Insights in Computer Science', 'information credits 01:198:105'), ('Type to chat!', '01:640:026 or 01:640:027', 'Can you elaborate on that?', 'suggesting courses, overview of CS or narrowed focus?', 3, 'suggesting courses, overview of CS or narrowed focus?', 'introduction, elementary,'), ()), 3)  :  7.24\n",
      "((('information link Great Insights in Computer Science',), ('Type to chat!',), ()), 'https://www.cs.rutgers.edu/academics/undergraduate/course-synopses/course-details/01-198-105-great-insights-in-computer-science')  :  7.24\n",
      "((('information SAS core 01:198:105',), ('Type to chat!',), ()), 'QR, ITR')  :  7.24\n",
      "((('information SAS core 01:198:105', 'Mistake', 'recommend', 'information keywords 01:198:105'), ('Type to chat!', 'QR, ITR', 'Can you elaborate on that?', 'Can you elaborate on that?'), ()), 'introduction, elementary,')  :  7.24\n",
      "((('recommend', 'recommend', 'information SAS core 01:198:105'), ('Type to chat!', 'suggesting courses, overview of CS or narrowed focus?', 'suggesting courses, overview of CS or narrowed focus?'), ()), 'QR, ITR')  :  7.24\n",
      "((('Mistake', 'information id Great Insights in Computer Science'), ('Type to chat!', \"I don't understand. Can you rephrase? \"), ()), '01:198:105')  :  7.24\n",
      "((('Mistake', 'information id Great Insights in Computer Science', 'Mistake', 'information credits Great Insights in Computer Science'), ('Type to chat!', \"I don't understand. Can you rephrase? \", '01:198:105', 'Can you elaborate on that?'), ()), 3)  :  7.24\n",
      "((('information prerequisites 01:198:105', 'information keywords 01:198:105'), ('Type to chat!', '01:640:026 or 01:640:027'), ()), 'introduction, elementary,')  :  7.24\n",
      "((('information prerequisites 01:198:105', 'information keywords 01:198:105', 'information name 01:198:105'), ('Type to chat!', '01:640:026 or 01:640:027', 'introduction, elementary,'), ()), 'Great Insights in Computer Science')  :  7.24\n",
      "((('Mistake', 'information description Great Insights in Computer Science'), ('Type to chat!', 'Can you elaborate on that?'), ()), 'The class is a tour of the big ideas that make computer science an academic discipline. We tour the architecture of modern computers from bits and logic all the way up to programming languages and software libraries. We probe the insights in computability and algorithm design that make possible massive search engines like Google and help us understand the relation between computation and intelligence. Coursework primarily involves paper-and-pencil problem solving and a very small amount of programming to provide students with hands-on-experience with the concepts we introduce.')  :  7.24\n",
      "((('information keywords 01:198:105',), ('Type to chat!',), ()), 'introduction, elementary,')  :  7.24\n",
      "((('recommend', 'Mistake', 'recommend', 'information SAS core 01:198:105'), ('Type to chat!', 'suggesting courses, overview of CS or narrowed focus?', 'Can you elaborate on that?', 'suggesting courses, overview of CS or narrowed focus?'), ()), 'QR, ITR')  :  7.24\n",
      "((('Mistake', 'Mistake', 'recommend', 'information name 01:198:105'), ('Type to chat!', \"I don't understand. Can you rephrase? \", \"I don't understand. Can you rephrase? \", 'Can you elaborate on that?'), ()), 'Great Insights in Computer Science')  :  7.24\n",
      "((('recommend', 'information prerequisites Great Insights in Computer Science', 'information credits Great Insights in Computer Science'), ('Type to chat!', 'suggesting courses, overview of CS or narrowed focus?', 'Please tell me more.'), ()), 3)  :  7.24\n",
      "((('recommend', 'information credits Great Insights in Computer Science'), ('Type to chat!', 'Please tell me more.'), ()), 3)  :  7.24\n",
      "((('recommend', 'information credits Great Insights in Computer Science', 'recommend', 'Mistake', 'information credits 01:198:105'), ('Type to chat!', 'Please tell me more.', 3, 'suggesting courses, overview of CS or narrowed focus?', 'Please tell me more.'), ()), 3)  :  7.24\n",
      "((('information name Great Insights in Computer Science',), ('Type to chat!',), ()), 'Great Insights in Computer Science')  :  7.24\n",
      "((('information link 01:198:105', 'recommend', 'information description 01:198:105'), ('Type to chat!', 'https://www.cs.rutgers.edu/academics/undergraduate/course-synopses/course-details/01-198-105-great-insights-in-computer-science', 'Please tell me more.'), ()), 'The class is a tour of the big ideas that make computer science an academic discipline. We tour the architecture of modern computers from bits and logic all the way up to programming languages and software libraries. We probe the insights in computability and algorithm design that make possible massive search engines like Google and help us understand the relation between computation and intelligence. Coursework primarily involves paper-and-pencil problem solving and a very small amount of programming to provide students with hands-on-experience with the concepts we introduce.')  :  7.24\n",
      "((('information prerequisites 01:198:105', 'Mistake', 'information SAS core Great Insights in Computer Science'), ('Type to chat!', 'Please tell me more.', \"I don't understand. Can you rephrase? \"), ()), 'QR, ITR')  :  7.24\n",
      "((('information prerequisites 01:198:105', 'Mistake', 'information SAS core Great Insights in Computer Science', 'recommend', 'recommend', 'information keywords 01:198:105'), ('Type to chat!', 'Please tell me more.', \"I don't understand. Can you rephrase? \", 'QR, ITR', 'suggesting courses, overview of CS or narrowed focus?', 'Please tell me more.'), ()), 'introduction, elementary,')  :  7.24\n",
      "((('Mistake', 'information link Great Insights in Computer Science', 'information prerequisites 01:198:105'), ('Type to chat!', 'Can you elaborate on that?', 'Please tell me more.'), ()), '01:640:026 or 01:640:027')  :  7.24\n",
      "((('Mistake', 'information credits Great Insights in Computer Science'), ('Type to chat!', \"I don't understand. Can you rephrase? \"), ()), 3)  :  7.24\n",
      "((('information name Great Insights in Computer Science',), ('Type to chat!',), ()), None)  :  4\n",
      "((('information name Great Insights in Computer Science', 'quit'), ('Type to chat!', 'Can you elaborate on that?'), ()), None)  :  4\n",
      "((('Mistake',), ('Type to chat!',), ()), None)  :  4\n",
      "((('Mistake', 'quit'), ('Type to chat!', 'Please tell me more.'), ()), None)  :  4\n",
      "((('quit',), ('Type to chat!',), ()), None)  :  4\n",
      "((('Mistake', 'quit'), ('Type to chat!', \"I don't understand. Can you rephrase? \"), ()), None)  :  4\n",
      "((('recommend',), ('Type to chat!',), ()), None)  :  4\n",
      "((('recommend', 'Mistake'), ('Type to chat!', \"I don't understand. Can you rephrase? \"), ()), None)  :  4\n",
      "((('recommend', 'Mistake', 'quit'), ('Type to chat!', \"I don't understand. Can you rephrase? \", 'Can you elaborate on that?'), ()), None)  :  4\n",
      "((('information id Great Insights in Computer Science',), ('Type to chat!',), ()), None)  :  4\n",
      "((('information id Great Insights in Computer Science', 'recommend'), ('Type to chat!', '01:198:105'), ()), None)  :  4\n",
      "((('information id Great Insights in Computer Science', 'recommend', 'Mistake'), ('Type to chat!', '01:198:105', 'suggesting courses, overview of CS or narrowed focus?'), ()), None)  :  4\n",
      "((('information id Great Insights in Computer Science', 'recommend', 'Mistake', 'recommend'), ('Type to chat!', '01:198:105', 'suggesting courses, overview of CS or narrowed focus?', 'Please tell me more.'), ()), None)  :  4\n",
      "((('information id Great Insights in Computer Science', 'recommend', 'Mistake', 'recommend', 'Mistake'), ('Type to chat!', '01:198:105', 'suggesting courses, overview of CS or narrowed focus?', 'Please tell me more.', 'suggesting courses, overview of CS or narrowed focus?'), ()), None)  :  4\n",
      "((('information id Great Insights in Computer Science', 'recommend', 'Mistake', 'recommend', 'Mistake', 'information credits Great Insights in Computer Science'), ('Type to chat!', '01:198:105', 'suggesting courses, overview of CS or narrowed focus?', 'Please tell me more.', 'suggesting courses, overview of CS or narrowed focus?', 'Can you elaborate on that?'), ()), None)  :  4\n",
      "((('information id Great Insights in Computer Science', 'recommend', 'Mistake', 'recommend', 'Mistake', 'information credits Great Insights in Computer Science', 'recommend'), ('Type to chat!', '01:198:105', 'suggesting courses, overview of CS or narrowed focus?', 'Please tell me more.', 'suggesting courses, overview of CS or narrowed focus?', 'Can you elaborate on that?', 3), ()), None)  :  4\n",
      "((('information id Great Insights in Computer Science', 'recommend', 'Mistake', 'recommend', 'Mistake', 'information credits Great Insights in Computer Science', 'recommend', 'Mistake'), ('Type to chat!', '01:198:105', 'suggesting courses, overview of CS or narrowed focus?', 'Please tell me more.', 'suggesting courses, overview of CS or narrowed focus?', 'Can you elaborate on that?', 3, \"I don't understand. Can you rephrase? \"), ()), None)  :  4\n",
      "((('information id Great Insights in Computer Science', 'recommend', 'Mistake', 'recommend', 'Mistake', 'information credits Great Insights in Computer Science', 'recommend', 'Mistake', 'recommend'), ('Type to chat!', '01:198:105', 'suggesting courses, overview of CS or narrowed focus?', 'Please tell me more.', 'suggesting courses, overview of CS or narrowed focus?', 'Can you elaborate on that?', 3, \"I don't understand. Can you rephrase? \", 'Please tell me more.'), ()), None)  :  4\n",
      "((('information id Great Insights in Computer Science', 'recommend', 'Mistake', 'recommend', 'Mistake', 'information credits Great Insights in Computer Science', 'recommend', 'Mistake', 'recommend', 'recommend'), ('Type to chat!', '01:198:105', 'suggesting courses, overview of CS or narrowed focus?', 'Please tell me more.', 'suggesting courses, overview of CS or narrowed focus?', 'Can you elaborate on that?', 3, \"I don't understand. Can you rephrase? \", 'Please tell me more.', 'Can you elaborate on that?'), ()), None)  :  4\n",
      "((('information id Great Insights in Computer Science', 'recommend', 'Mistake', 'recommend', 'Mistake', 'information credits Great Insights in Computer Science', 'recommend', 'Mistake', 'recommend', 'recommend', 'Mistake'), ('Type to chat!', '01:198:105', 'suggesting courses, overview of CS or narrowed focus?', 'Please tell me more.', 'suggesting courses, overview of CS or narrowed focus?', 'Can you elaborate on that?', 3, \"I don't understand. Can you rephrase? \", 'Please tell me more.', 'Can you elaborate on that?', \"I don't understand. Can you rephrase? \"), ()), None)  :  4\n",
      "((('information id Great Insights in Computer Science', 'recommend', 'Mistake', 'recommend', 'Mistake', 'information credits Great Insights in Computer Science', 'recommend', 'Mistake', 'recommend', 'recommend', 'Mistake', 'recommend'), ('Type to chat!', '01:198:105', 'suggesting courses, overview of CS or narrowed focus?', 'Please tell me more.', 'suggesting courses, overview of CS or narrowed focus?', 'Can you elaborate on that?', 3, \"I don't understand. Can you rephrase? \", 'Please tell me more.', 'Can you elaborate on that?', \"I don't understand. Can you rephrase? \", \"I don't understand. Can you rephrase? \"), ()), None)  :  4\n",
      "((('information id Great Insights in Computer Science', 'recommend', 'Mistake', 'recommend', 'Mistake', 'information credits Great Insights in Computer Science', 'recommend', 'Mistake', 'recommend', 'recommend', 'Mistake', 'recommend', 'recommend'), ('Type to chat!', '01:198:105', 'suggesting courses, overview of CS or narrowed focus?', 'Please tell me more.', 'suggesting courses, overview of CS or narrowed focus?', 'Can you elaborate on that?', 3, \"I don't understand. Can you rephrase? \", 'Please tell me more.', 'Can you elaborate on that?', \"I don't understand. Can you rephrase? \", \"I don't understand. Can you rephrase? \", 'suggesting courses, overview of CS or narrowed focus?'), ()), None)  :  4\n",
      "((('information id Great Insights in Computer Science', 'recommend', 'Mistake', 'recommend', 'Mistake', 'information credits Great Insights in Computer Science', 'recommend', 'Mistake', 'recommend', 'recommend', 'Mistake', 'recommend', 'recommend', 'recommend'), ('Type to chat!', '01:198:105', 'suggesting courses, overview of CS or narrowed focus?', 'Please tell me more.', 'suggesting courses, overview of CS or narrowed focus?', 'Can you elaborate on that?', 3, \"I don't understand. Can you rephrase? \", 'Please tell me more.', 'Can you elaborate on that?', \"I don't understand. Can you rephrase? \", \"I don't understand. Can you rephrase? \", 'suggesting courses, overview of CS or narrowed focus?', 'suggesting courses, overview of CS or narrowed focus?'), ()), None)  :  4\n",
      "((('information id Great Insights in Computer Science', 'recommend', 'Mistake', 'recommend', 'Mistake', 'information credits Great Insights in Computer Science', 'recommend', 'Mistake', 'recommend', 'recommend', 'Mistake', 'recommend', 'recommend', 'recommend', 'information description Great Insights in Computer Science'), ('Type to chat!', '01:198:105', 'suggesting courses, overview of CS or narrowed focus?', 'Please tell me more.', 'suggesting courses, overview of CS or narrowed focus?', 'Can you elaborate on that?', 3, \"I don't understand. Can you rephrase? \", 'Please tell me more.', 'Can you elaborate on that?', \"I don't understand. Can you rephrase? \", \"I don't understand. Can you rephrase? \", 'suggesting courses, overview of CS or narrowed focus?', 'suggesting courses, overview of CS or narrowed focus?', 'Please tell me more.'), ()), None)  :  4\n",
      "((('information id Great Insights in Computer Science', 'recommend', 'Mistake', 'recommend', 'Mistake', 'information credits Great Insights in Computer Science', 'recommend', 'Mistake', 'recommend', 'recommend', 'Mistake', 'recommend', 'recommend', 'recommend', 'information description Great Insights in Computer Science', 'recommend'), ('Type to chat!', '01:198:105', 'suggesting courses, overview of CS or narrowed focus?', 'Please tell me more.', 'suggesting courses, overview of CS or narrowed focus?', 'Can you elaborate on that?', 3, \"I don't understand. Can you rephrase? \", 'Please tell me more.', 'Can you elaborate on that?', \"I don't understand. Can you rephrase? \", \"I don't understand. Can you rephrase? \", 'suggesting courses, overview of CS or narrowed focus?', 'suggesting courses, overview of CS or narrowed focus?', 'Please tell me more.', \"I don't understand. Can you rephrase? \"), ()), None)  :  4\n",
      "((('information id Great Insights in Computer Science', 'recommend', 'Mistake', 'recommend', 'Mistake', 'information credits Great Insights in Computer Science', 'recommend', 'Mistake', 'recommend', 'recommend', 'Mistake', 'recommend', 'recommend', 'recommend', 'information description Great Insights in Computer Science', 'recommend', 'Mistake'), ('Type to chat!', '01:198:105', 'suggesting courses, overview of CS or narrowed focus?', 'Please tell me more.', 'suggesting courses, overview of CS or narrowed focus?', 'Can you elaborate on that?', 3, \"I don't understand. Can you rephrase? \", 'Please tell me more.', 'Can you elaborate on that?', \"I don't understand. Can you rephrase? \", \"I don't understand. Can you rephrase? \", 'suggesting courses, overview of CS or narrowed focus?', 'suggesting courses, overview of CS or narrowed focus?', 'Please tell me more.', \"I don't understand. Can you rephrase? \", 'Can you elaborate on that?'), ()), None)  :  4\n",
      "((('information id Great Insights in Computer Science', 'recommend', 'Mistake', 'recommend', 'Mistake', 'information credits Great Insights in Computer Science', 'recommend', 'Mistake', 'recommend', 'recommend', 'Mistake', 'recommend', 'recommend', 'recommend', 'information description Great Insights in Computer Science', 'recommend', 'Mistake', 'information name Great Insights in Computer Science'), ('Type to chat!', '01:198:105', 'suggesting courses, overview of CS or narrowed focus?', 'Please tell me more.', 'suggesting courses, overview of CS or narrowed focus?', 'Can you elaborate on that?', 3, \"I don't understand. Can you rephrase? \", 'Please tell me more.', 'Can you elaborate on that?', \"I don't understand. Can you rephrase? \", \"I don't understand. Can you rephrase? \", 'suggesting courses, overview of CS or narrowed focus?', 'suggesting courses, overview of CS or narrowed focus?', 'Please tell me more.', \"I don't understand. Can you rephrase? \", 'Can you elaborate on that?', 'Please tell me more.'), ()), None)  :  4\n",
      "((('information id Great Insights in Computer Science', 'recommend', 'Mistake', 'recommend', 'Mistake', 'information credits Great Insights in Computer Science', 'recommend', 'Mistake', 'recommend', 'recommend', 'Mistake', 'recommend', 'recommend', 'recommend', 'information description Great Insights in Computer Science', 'recommend', 'Mistake', 'information name Great Insights in Computer Science', 'recommend'), ('Type to chat!', '01:198:105', 'suggesting courses, overview of CS or narrowed focus?', 'Please tell me more.', 'suggesting courses, overview of CS or narrowed focus?', 'Can you elaborate on that?', 3, \"I don't understand. Can you rephrase? \", 'Please tell me more.', 'Can you elaborate on that?', \"I don't understand. Can you rephrase? \", \"I don't understand. Can you rephrase? \", 'suggesting courses, overview of CS or narrowed focus?', 'suggesting courses, overview of CS or narrowed focus?', 'Please tell me more.', \"I don't understand. Can you rephrase? \", 'Can you elaborate on that?', 'Please tell me more.', 'Great Insights in Computer Science'), ()), None)  :  4\n",
      "((('information id Great Insights in Computer Science', 'recommend', 'Mistake', 'recommend', 'Mistake', 'information credits Great Insights in Computer Science', 'recommend', 'Mistake', 'recommend', 'recommend', 'Mistake', 'recommend', 'recommend', 'recommend', 'information description Great Insights in Computer Science', 'recommend', 'Mistake', 'information name Great Insights in Computer Science', 'recommend', 'Mistake'), ('Type to chat!', '01:198:105', 'suggesting courses, overview of CS or narrowed focus?', 'Please tell me more.', 'suggesting courses, overview of CS or narrowed focus?', 'Can you elaborate on that?', 3, \"I don't understand. Can you rephrase? \", 'Please tell me more.', 'Can you elaborate on that?', \"I don't understand. Can you rephrase? \", \"I don't understand. Can you rephrase? \", 'suggesting courses, overview of CS or narrowed focus?', 'suggesting courses, overview of CS or narrowed focus?', 'Please tell me more.', \"I don't understand. Can you rephrase? \", 'Can you elaborate on that?', 'Please tell me more.', 'Great Insights in Computer Science', \"I don't understand. Can you rephrase? \"), ()), None)  :  4\n",
      "((('information id Great Insights in Computer Science', 'recommend', 'Mistake', 'recommend', 'Mistake', 'information credits Great Insights in Computer Science', 'recommend', 'Mistake', 'recommend', 'recommend', 'Mistake', 'recommend', 'recommend', 'recommend', 'information description Great Insights in Computer Science', 'recommend', 'Mistake', 'information name Great Insights in Computer Science', 'recommend', 'Mistake', 'recommend'), ('Type to chat!', '01:198:105', 'suggesting courses, overview of CS or narrowed focus?', 'Please tell me more.', 'suggesting courses, overview of CS or narrowed focus?', 'Can you elaborate on that?', 3, \"I don't understand. Can you rephrase? \", 'Please tell me more.', 'Can you elaborate on that?', \"I don't understand. Can you rephrase? \", \"I don't understand. Can you rephrase? \", 'suggesting courses, overview of CS or narrowed focus?', 'suggesting courses, overview of CS or narrowed focus?', 'Please tell me more.', \"I don't understand. Can you rephrase? \", 'Can you elaborate on that?', 'Please tell me more.', 'Great Insights in Computer Science', \"I don't understand. Can you rephrase? \", 'Please tell me more.'), ()), None)  :  4\n",
      "((('information id Great Insights in Computer Science', 'recommend', 'Mistake', 'recommend', 'Mistake', 'information credits Great Insights in Computer Science', 'recommend', 'Mistake', 'recommend', 'recommend', 'Mistake', 'recommend', 'recommend', 'recommend', 'information description Great Insights in Computer Science', 'recommend', 'Mistake', 'information name Great Insights in Computer Science', 'recommend', 'Mistake', 'recommend', 'recommend'), ('Type to chat!', '01:198:105', 'suggesting courses, overview of CS or narrowed focus?', 'Please tell me more.', 'suggesting courses, overview of CS or narrowed focus?', 'Can you elaborate on that?', 3, \"I don't understand. Can you rephrase? \", 'Please tell me more.', 'Can you elaborate on that?', \"I don't understand. Can you rephrase? \", \"I don't understand. Can you rephrase? \", 'suggesting courses, overview of CS or narrowed focus?', 'suggesting courses, overview of CS or narrowed focus?', 'Please tell me more.', \"I don't understand. Can you rephrase? \", 'Can you elaborate on that?', 'Please tell me more.', 'Great Insights in Computer Science', \"I don't understand. Can you rephrase? \", 'Please tell me more.', 'suggesting courses, overview of CS or narrowed focus?'), ()), None)  :  4\n",
      "((('information id Great Insights in Computer Science', 'recommend', 'Mistake', 'recommend', 'Mistake', 'information credits Great Insights in Computer Science', 'recommend', 'Mistake', 'recommend', 'recommend', 'Mistake', 'recommend', 'recommend', 'recommend', 'information description Great Insights in Computer Science', 'recommend', 'Mistake', 'information name Great Insights in Computer Science', 'recommend', 'Mistake', 'recommend', 'recommend', 'information description Great Insights in Computer Science'), ('Type to chat!', '01:198:105', 'suggesting courses, overview of CS or narrowed focus?', 'Please tell me more.', 'suggesting courses, overview of CS or narrowed focus?', 'Can you elaborate on that?', 3, \"I don't understand. Can you rephrase? \", 'Please tell me more.', 'Can you elaborate on that?', \"I don't understand. Can you rephrase? \", \"I don't understand. Can you rephrase? \", 'suggesting courses, overview of CS or narrowed focus?', 'suggesting courses, overview of CS or narrowed focus?', 'Please tell me more.', \"I don't understand. Can you rephrase? \", 'Can you elaborate on that?', 'Please tell me more.', 'Great Insights in Computer Science', \"I don't understand. Can you rephrase? \", 'Please tell me more.', 'suggesting courses, overview of CS or narrowed focus?', 'suggesting courses, overview of CS or narrowed focus?'), ()), None)  :  4\n",
      "((('information id Great Insights in Computer Science', 'recommend', 'Mistake', 'recommend', 'Mistake', 'information credits Great Insights in Computer Science', 'recommend', 'Mistake', 'recommend', 'recommend', 'Mistake', 'recommend', 'recommend', 'recommend', 'information description Great Insights in Computer Science', 'recommend', 'Mistake', 'information name Great Insights in Computer Science', 'recommend', 'Mistake', 'recommend', 'recommend', 'information description Great Insights in Computer Science', 'Mistake'), ('Type to chat!', '01:198:105', 'suggesting courses, overview of CS or narrowed focus?', 'Please tell me more.', 'suggesting courses, overview of CS or narrowed focus?', 'Can you elaborate on that?', 3, \"I don't understand. Can you rephrase? \", 'Please tell me more.', 'Can you elaborate on that?', \"I don't understand. Can you rephrase? \", \"I don't understand. Can you rephrase? \", 'suggesting courses, overview of CS or narrowed focus?', 'suggesting courses, overview of CS or narrowed focus?', 'Please tell me more.', \"I don't understand. Can you rephrase? \", 'Can you elaborate on that?', 'Please tell me more.', 'Great Insights in Computer Science', \"I don't understand. Can you rephrase? \", 'Please tell me more.', 'suggesting courses, overview of CS or narrowed focus?', 'suggesting courses, overview of CS or narrowed focus?', 'The class is a tour of the big ideas that make computer science an academic discipline. We tour the architecture of modern computers from bits and logic all the way up to programming languages and software libraries. We probe the insights in computability and algorithm design that make possible massive search engines like Google and help us understand the relation between computation and intelligence. Coursework primarily involves paper-and-pencil problem solving and a very small amount of programming to provide students with hands-on-experience with the concepts we introduce.'), ()), None)  :  4\n",
      "((('information id Great Insights in Computer Science', 'recommend', 'Mistake', 'recommend', 'Mistake', 'information credits Great Insights in Computer Science', 'recommend', 'Mistake', 'recommend', 'recommend', 'Mistake', 'recommend', 'recommend', 'recommend', 'information description Great Insights in Computer Science', 'recommend', 'Mistake', 'information name Great Insights in Computer Science', 'recommend', 'Mistake', 'recommend', 'recommend', 'information description Great Insights in Computer Science', 'Mistake', 'recommend'), ('Type to chat!', '01:198:105', 'suggesting courses, overview of CS or narrowed focus?', 'Please tell me more.', 'suggesting courses, overview of CS or narrowed focus?', 'Can you elaborate on that?', 3, \"I don't understand. Can you rephrase? \", 'Please tell me more.', 'Can you elaborate on that?', \"I don't understand. Can you rephrase? \", \"I don't understand. Can you rephrase? \", 'suggesting courses, overview of CS or narrowed focus?', 'suggesting courses, overview of CS or narrowed focus?', 'Please tell me more.', \"I don't understand. Can you rephrase? \", 'Can you elaborate on that?', 'Please tell me more.', 'Great Insights in Computer Science', \"I don't understand. Can you rephrase? \", 'Please tell me more.', 'suggesting courses, overview of CS or narrowed focus?', 'suggesting courses, overview of CS or narrowed focus?', 'The class is a tour of the big ideas that make computer science an academic discipline. We tour the architecture of modern computers from bits and logic all the way up to programming languages and software libraries. We probe the insights in computability and algorithm design that make possible massive search engines like Google and help us understand the relation between computation and intelligence. Coursework primarily involves paper-and-pencil problem solving and a very small amount of programming to provide students with hands-on-experience with the concepts we introduce.', 'Please tell me more.'), ()), None)  :  4\n",
      "((('information id Great Insights in Computer Science', 'recommend', 'Mistake', 'recommend', 'Mistake', 'information credits Great Insights in Computer Science', 'recommend', 'Mistake', 'recommend', 'recommend', 'Mistake', 'recommend', 'recommend', 'recommend', 'information description Great Insights in Computer Science', 'recommend', 'Mistake', 'information name Great Insights in Computer Science', 'recommend', 'Mistake', 'recommend', 'recommend', 'information description Great Insights in Computer Science', 'Mistake', 'recommend', 'information prerequisites Great Insights in Computer Science'), ('Type to chat!', '01:198:105', 'suggesting courses, overview of CS or narrowed focus?', 'Please tell me more.', 'suggesting courses, overview of CS or narrowed focus?', 'Can you elaborate on that?', 3, \"I don't understand. Can you rephrase? \", 'Please tell me more.', 'Can you elaborate on that?', \"I don't understand. Can you rephrase? \", \"I don't understand. Can you rephrase? \", 'suggesting courses, overview of CS or narrowed focus?', 'suggesting courses, overview of CS or narrowed focus?', 'Please tell me more.', \"I don't understand. Can you rephrase? \", 'Can you elaborate on that?', 'Please tell me more.', 'Great Insights in Computer Science', \"I don't understand. Can you rephrase? \", 'Please tell me more.', 'suggesting courses, overview of CS or narrowed focus?', 'suggesting courses, overview of CS or narrowed focus?', 'The class is a tour of the big ideas that make computer science an academic discipline. We tour the architecture of modern computers from bits and logic all the way up to programming languages and software libraries. We probe the insights in computability and algorithm design that make possible massive search engines like Google and help us understand the relation between computation and intelligence. Coursework primarily involves paper-and-pencil problem solving and a very small amount of programming to provide students with hands-on-experience with the concepts we introduce.', 'Please tell me more.', 'suggesting courses, overview of CS or narrowed focus?'), ()), None)  :  4\n",
      "((('information id Great Insights in Computer Science', 'recommend', 'Mistake', 'recommend', 'Mistake', 'information credits Great Insights in Computer Science', 'recommend', 'Mistake', 'recommend', 'recommend', 'Mistake', 'recommend', 'recommend', 'recommend', 'information description Great Insights in Computer Science', 'recommend', 'Mistake', 'information name Great Insights in Computer Science', 'recommend', 'Mistake', 'recommend', 'recommend', 'information description Great Insights in Computer Science', 'Mistake', 'recommend', 'information prerequisites Great Insights in Computer Science', 'information credits Great Insights in Computer Science'), ('Type to chat!', '01:198:105', 'suggesting courses, overview of CS or narrowed focus?', 'Please tell me more.', 'suggesting courses, overview of CS or narrowed focus?', 'Can you elaborate on that?', 3, \"I don't understand. Can you rephrase? \", 'Please tell me more.', 'Can you elaborate on that?', \"I don't understand. Can you rephrase? \", \"I don't understand. Can you rephrase? \", 'suggesting courses, overview of CS or narrowed focus?', 'suggesting courses, overview of CS or narrowed focus?', 'Please tell me more.', \"I don't understand. Can you rephrase? \", 'Can you elaborate on that?', 'Please tell me more.', 'Great Insights in Computer Science', \"I don't understand. Can you rephrase? \", 'Please tell me more.', 'suggesting courses, overview of CS or narrowed focus?', 'suggesting courses, overview of CS or narrowed focus?', 'The class is a tour of the big ideas that make computer science an academic discipline. We tour the architecture of modern computers from bits and logic all the way up to programming languages and software libraries. We probe the insights in computability and algorithm design that make possible massive search engines like Google and help us understand the relation between computation and intelligence. Coursework primarily involves paper-and-pencil problem solving and a very small amount of programming to provide students with hands-on-experience with the concepts we introduce.', 'Please tell me more.', 'suggesting courses, overview of CS or narrowed focus?', 'Please tell me more.'), ()), None)  :  4\n",
      "((('information id Great Insights in Computer Science', 'recommend', 'Mistake', 'recommend', 'Mistake', 'information credits Great Insights in Computer Science', 'recommend', 'Mistake', 'recommend', 'recommend', 'Mistake', 'recommend', 'recommend', 'recommend', 'information description Great Insights in Computer Science', 'recommend', 'Mistake', 'information name Great Insights in Computer Science', 'recommend', 'Mistake', 'recommend', 'recommend', 'information description Great Insights in Computer Science', 'Mistake', 'recommend', 'information prerequisites Great Insights in Computer Science', 'information credits Great Insights in Computer Science', 'Mistake'), ('Type to chat!', '01:198:105', 'suggesting courses, overview of CS or narrowed focus?', 'Please tell me more.', 'suggesting courses, overview of CS or narrowed focus?', 'Can you elaborate on that?', 3, \"I don't understand. Can you rephrase? \", 'Please tell me more.', 'Can you elaborate on that?', \"I don't understand. Can you rephrase? \", \"I don't understand. Can you rephrase? \", 'suggesting courses, overview of CS or narrowed focus?', 'suggesting courses, overview of CS or narrowed focus?', 'Please tell me more.', \"I don't understand. Can you rephrase? \", 'Can you elaborate on that?', 'Please tell me more.', 'Great Insights in Computer Science', \"I don't understand. Can you rephrase? \", 'Please tell me more.', 'suggesting courses, overview of CS or narrowed focus?', 'suggesting courses, overview of CS or narrowed focus?', 'The class is a tour of the big ideas that make computer science an academic discipline. We tour the architecture of modern computers from bits and logic all the way up to programming languages and software libraries. We probe the insights in computability and algorithm design that make possible massive search engines like Google and help us understand the relation between computation and intelligence. Coursework primarily involves paper-and-pencil problem solving and a very small amount of programming to provide students with hands-on-experience with the concepts we introduce.', 'Please tell me more.', 'suggesting courses, overview of CS or narrowed focus?', 'Please tell me more.', 'Can you elaborate on that?'), ()), None)  :  4\n",
      "((('information id Great Insights in Computer Science', 'recommend', 'Mistake', 'recommend', 'Mistake', 'information credits Great Insights in Computer Science', 'recommend', 'Mistake', 'recommend', 'recommend', 'Mistake', 'recommend', 'recommend', 'recommend', 'information description Great Insights in Computer Science', 'recommend', 'Mistake', 'information name Great Insights in Computer Science', 'recommend', 'Mistake', 'recommend', 'recommend', 'information description Great Insights in Computer Science', 'Mistake', 'recommend', 'information prerequisites Great Insights in Computer Science', 'information credits Great Insights in Computer Science', 'Mistake', 'recommend'), ('Type to chat!', '01:198:105', 'suggesting courses, overview of CS or narrowed focus?', 'Please tell me more.', 'suggesting courses, overview of CS or narrowed focus?', 'Can you elaborate on that?', 3, \"I don't understand. Can you rephrase? \", 'Please tell me more.', 'Can you elaborate on that?', \"I don't understand. Can you rephrase? \", \"I don't understand. Can you rephrase? \", 'suggesting courses, overview of CS or narrowed focus?', 'suggesting courses, overview of CS or narrowed focus?', 'Please tell me more.', \"I don't understand. Can you rephrase? \", 'Can you elaborate on that?', 'Please tell me more.', 'Great Insights in Computer Science', \"I don't understand. Can you rephrase? \", 'Please tell me more.', 'suggesting courses, overview of CS or narrowed focus?', 'suggesting courses, overview of CS or narrowed focus?', 'The class is a tour of the big ideas that make computer science an academic discipline. We tour the architecture of modern computers from bits and logic all the way up to programming languages and software libraries. We probe the insights in computability and algorithm design that make possible massive search engines like Google and help us understand the relation between computation and intelligence. Coursework primarily involves paper-and-pencil problem solving and a very small amount of programming to provide students with hands-on-experience with the concepts we introduce.', 'Please tell me more.', 'suggesting courses, overview of CS or narrowed focus?', 'Please tell me more.', 'Can you elaborate on that?', \"I don't understand. Can you rephrase? \"), ()), None)  :  4\n",
      "((('information id Great Insights in Computer Science', 'recommend', 'Mistake', 'recommend', 'Mistake', 'information credits Great Insights in Computer Science', 'recommend', 'Mistake', 'recommend', 'recommend', 'Mistake', 'recommend', 'recommend', 'recommend', 'information description Great Insights in Computer Science', 'recommend', 'Mistake', 'information name Great Insights in Computer Science', 'recommend', 'Mistake', 'recommend', 'recommend', 'information description Great Insights in Computer Science', 'Mistake', 'recommend', 'information prerequisites Great Insights in Computer Science', 'information credits Great Insights in Computer Science', 'Mistake', 'recommend', 'Mistake'), ('Type to chat!', '01:198:105', 'suggesting courses, overview of CS or narrowed focus?', 'Please tell me more.', 'suggesting courses, overview of CS or narrowed focus?', 'Can you elaborate on that?', 3, \"I don't understand. Can you rephrase? \", 'Please tell me more.', 'Can you elaborate on that?', \"I don't understand. Can you rephrase? \", \"I don't understand. Can you rephrase? \", 'suggesting courses, overview of CS or narrowed focus?', 'suggesting courses, overview of CS or narrowed focus?', 'Please tell me more.', \"I don't understand. Can you rephrase? \", 'Can you elaborate on that?', 'Please tell me more.', 'Great Insights in Computer Science', \"I don't understand. Can you rephrase? \", 'Please tell me more.', 'suggesting courses, overview of CS or narrowed focus?', 'suggesting courses, overview of CS or narrowed focus?', 'The class is a tour of the big ideas that make computer science an academic discipline. We tour the architecture of modern computers from bits and logic all the way up to programming languages and software libraries. We probe the insights in computability and algorithm design that make possible massive search engines like Google and help us understand the relation between computation and intelligence. Coursework primarily involves paper-and-pencil problem solving and a very small amount of programming to provide students with hands-on-experience with the concepts we introduce.', 'Please tell me more.', 'suggesting courses, overview of CS or narrowed focus?', 'Please tell me more.', 'Can you elaborate on that?', \"I don't understand. Can you rephrase? \", 'suggesting courses, overview of CS or narrowed focus?'), ()), None)  :  4\n",
      "((('information id Great Insights in Computer Science', 'recommend', 'Mistake', 'recommend', 'Mistake', 'information credits Great Insights in Computer Science', 'recommend', 'Mistake', 'recommend', 'recommend', 'Mistake', 'recommend', 'recommend', 'recommend', 'information description Great Insights in Computer Science', 'recommend', 'Mistake', 'information name Great Insights in Computer Science', 'recommend', 'Mistake', 'recommend', 'recommend', 'information description Great Insights in Computer Science', 'Mistake', 'recommend', 'information prerequisites Great Insights in Computer Science', 'information credits Great Insights in Computer Science', 'Mistake', 'recommend', 'Mistake', 'quit'), ('Type to chat!', '01:198:105', 'suggesting courses, overview of CS or narrowed focus?', 'Please tell me more.', 'suggesting courses, overview of CS or narrowed focus?', 'Can you elaborate on that?', 3, \"I don't understand. Can you rephrase? \", 'Please tell me more.', 'Can you elaborate on that?', \"I don't understand. Can you rephrase? \", \"I don't understand. Can you rephrase? \", 'suggesting courses, overview of CS or narrowed focus?', 'suggesting courses, overview of CS or narrowed focus?', 'Please tell me more.', \"I don't understand. Can you rephrase? \", 'Can you elaborate on that?', 'Please tell me more.', 'Great Insights in Computer Science', \"I don't understand. Can you rephrase? \", 'Please tell me more.', 'suggesting courses, overview of CS or narrowed focus?', 'suggesting courses, overview of CS or narrowed focus?', 'The class is a tour of the big ideas that make computer science an academic discipline. We tour the architecture of modern computers from bits and logic all the way up to programming languages and software libraries. We probe the insights in computability and algorithm design that make possible massive search engines like Google and help us understand the relation between computation and intelligence. Coursework primarily involves paper-and-pencil problem solving and a very small amount of programming to provide students with hands-on-experience with the concepts we introduce.', 'Please tell me more.', 'suggesting courses, overview of CS or narrowed focus?', 'Please tell me more.', 'Can you elaborate on that?', \"I don't understand. Can you rephrase? \", 'suggesting courses, overview of CS or narrowed focus?', 'Please tell me more.'), ()), None)  :  4\n",
      "((('recommend', 'quit'), ('Type to chat!', \"I don't understand. Can you rephrase? \"), ()), None)  :  4\n",
      "((('information credits 01:198:105',), ('Type to chat!',), ()), None)  :  4\n",
      "((('information credits 01:198:105', 'quit'), ('Type to chat!', 3), ()), None)  :  4\n",
      "((('Mistake', 'information id Great Insights in Computer Science'), ('Type to chat!', 'Please tell me more.'), ()), None)  :  4\n",
      "((('Mistake', 'information id Great Insights in Computer Science', 'quit'), ('Type to chat!', 'Please tell me more.', '01:198:105'), ()), None)  :  4\n",
      "((('Mistake', 'information SAS core 01:198:105'), ('Type to chat!', \"I don't understand. Can you rephrase? \"), ()), None)  :  4\n",
      "((('Mistake', 'information SAS core 01:198:105', 'Mistake'), ('Type to chat!', \"I don't understand. Can you rephrase? \", 'Please tell me more.'), ()), None)  :  4\n",
      "((('Mistake', 'information SAS core 01:198:105', 'Mistake', 'quit'), ('Type to chat!', \"I don't understand. Can you rephrase? \", 'Please tell me more.', 'Can you elaborate on that?'), ()), None)  :  4\n",
      "((('recommend', 'Mistake', 'Mistake'), ('Type to chat!', \"I don't understand. Can you rephrase? \", 'Please tell me more.'), ()), None)  :  4\n",
      "((('recommend', 'Mistake', 'Mistake', 'Mistake'), ('Type to chat!', \"I don't understand. Can you rephrase? \", 'Please tell me more.', 'Can you elaborate on that?'), ()), None)  :  4\n",
      "((('recommend', 'Mistake', 'Mistake', 'Mistake', 'quit'), ('Type to chat!', \"I don't understand. Can you rephrase? \", 'Please tell me more.', 'Can you elaborate on that?', 'Please tell me more.'), ()), None)  :  4\n",
      "((('Mistake', 'information SAS core 01:198:105', 'recommend'), ('Type to chat!', \"I don't understand. Can you rephrase? \", \"I don't understand. Can you rephrase? \"), ()), None)  :  4\n",
      "((('Mistake', 'information SAS core 01:198:105', 'recommend', 'information link 01:198:105'), ('Type to chat!', \"I don't understand. Can you rephrase? \", \"I don't understand. Can you rephrase? \", 'Can you elaborate on that?'), ()), None)  :  4\n",
      "((('Mistake', 'information SAS core 01:198:105', 'recommend', 'information link 01:198:105', 'recommend'), ('Type to chat!', \"I don't understand. Can you rephrase? \", \"I don't understand. Can you rephrase? \", 'Can you elaborate on that?', 'https://www.cs.rutgers.edu/academics/undergraduate/course-synopses/course-details/01-198-105-great-insights-in-computer-science'), ()), None)  :  4\n",
      "((('Mistake', 'information SAS core 01:198:105', 'recommend', 'information link 01:198:105', 'recommend', 'quit'), ('Type to chat!', \"I don't understand. Can you rephrase? \", \"I don't understand. Can you rephrase? \", 'Can you elaborate on that?', 'https://www.cs.rutgers.edu/academics/undergraduate/course-synopses/course-details/01-198-105-great-insights-in-computer-science', 'suggesting courses, overview of CS or narrowed focus?'), ()), None)  :  4\n",
      "((('information prerequisites Great Insights in Computer Science',), ('Type to chat!',), ()), None)  :  4\n",
      "((('information prerequisites Great Insights in Computer Science', 'Mistake'), ('Type to chat!', '01:640:026 or 01:640:027'), ()), None)  :  4\n",
      "((('information prerequisites Great Insights in Computer Science', 'Mistake', 'recommend'), ('Type to chat!', '01:640:026 or 01:640:027', \"I don't understand. Can you rephrase? \"), ()), None)  :  4\n",
      "((('information prerequisites Great Insights in Computer Science', 'Mistake', 'recommend', 'Mistake'), ('Type to chat!', '01:640:026 or 01:640:027', \"I don't understand. Can you rephrase? \", \"I don't understand. Can you rephrase? \"), ()), None)  :  4\n",
      "((('information prerequisites Great Insights in Computer Science', 'Mistake', 'recommend', 'Mistake', 'Mistake'), ('Type to chat!', '01:640:026 or 01:640:027', \"I don't understand. Can you rephrase? \", \"I don't understand. Can you rephrase? \", 'Can you elaborate on that?'), ()), None)  :  4\n",
      "((('information prerequisites Great Insights in Computer Science', 'Mistake', 'recommend', 'Mistake', 'Mistake', 'quit'), ('Type to chat!', '01:640:026 or 01:640:027', \"I don't understand. Can you rephrase? \", \"I don't understand. Can you rephrase? \", 'Can you elaborate on that?', 'Please tell me more.'), ()), None)  :  4\n",
      "((('recommend', 'Mistake'), ('Type to chat!', 'Can you elaborate on that?'), ()), None)  :  4\n",
      "((('recommend', 'Mistake', 'Mistake'), ('Type to chat!', 'Can you elaborate on that?', \"I don't understand. Can you rephrase? \"), ()), None)  :  4\n",
      "((('recommend', 'Mistake', 'Mistake', 'quit'), ('Type to chat!', 'Can you elaborate on that?', \"I don't understand. Can you rephrase? \", 'Can you elaborate on that?'), ()), None)  :  4\n",
      "((('Mistake', 'information prerequisites 01:198:105'), ('Type to chat!', \"I don't understand. Can you rephrase? \"), ()), None)  :  4\n",
      "((('Mistake', 'information prerequisites 01:198:105', 'recommend'), ('Type to chat!', \"I don't understand. Can you rephrase? \", '01:640:026 or 01:640:027'), ()), None)  :  4\n",
      "((('Mistake', 'information prerequisites 01:198:105', 'recommend', 'recommend'), ('Type to chat!', \"I don't understand. Can you rephrase? \", '01:640:026 or 01:640:027', 'Can you elaborate on that?'), ()), None)  :  4\n",
      "((('Mistake', 'information prerequisites 01:198:105', 'recommend', 'recommend', 'information link 01:198:105'), ('Type to chat!', \"I don't understand. Can you rephrase? \", '01:640:026 or 01:640:027', 'Can you elaborate on that?', 'suggesting courses, overview of CS or narrowed focus?'), ()), None)  :  4\n",
      "((('Mistake', 'information prerequisites 01:198:105', 'recommend', 'recommend', 'information link 01:198:105', 'information prerequisites 01:198:105'), ('Type to chat!', \"I don't understand. Can you rephrase? \", '01:640:026 or 01:640:027', 'Can you elaborate on that?', 'suggesting courses, overview of CS or narrowed focus?', 'Please tell me more.'), ()), None)  :  4\n",
      "((('Mistake', 'information prerequisites 01:198:105', 'recommend', 'recommend', 'information link 01:198:105', 'information prerequisites 01:198:105', 'Mistake'), ('Type to chat!', \"I don't understand. Can you rephrase? \", '01:640:026 or 01:640:027', 'Can you elaborate on that?', 'suggesting courses, overview of CS or narrowed focus?', 'Please tell me more.', '01:640:026 or 01:640:027'), ()), None)  :  4\n",
      "((('Mistake', 'information prerequisites 01:198:105', 'recommend', 'recommend', 'information link 01:198:105', 'information prerequisites 01:198:105', 'Mistake', 'Mistake'), ('Type to chat!', \"I don't understand. Can you rephrase? \", '01:640:026 or 01:640:027', 'Can you elaborate on that?', 'suggesting courses, overview of CS or narrowed focus?', 'Please tell me more.', '01:640:026 or 01:640:027', \"I don't understand. Can you rephrase? \"), ()), None)  :  4\n",
      "((('Mistake', 'information prerequisites 01:198:105', 'recommend', 'recommend', 'information link 01:198:105', 'information prerequisites 01:198:105', 'Mistake', 'Mistake', 'Mistake'), ('Type to chat!', \"I don't understand. Can you rephrase? \", '01:640:026 or 01:640:027', 'Can you elaborate on that?', 'suggesting courses, overview of CS or narrowed focus?', 'Please tell me more.', '01:640:026 or 01:640:027', \"I don't understand. Can you rephrase? \", 'Please tell me more.'), ()), None)  :  4\n",
      "((('Mistake', 'information prerequisites 01:198:105', 'recommend', 'recommend', 'information link 01:198:105', 'information prerequisites 01:198:105', 'Mistake', 'Mistake', 'Mistake', 'quit'), ('Type to chat!', \"I don't understand. Can you rephrase? \", '01:640:026 or 01:640:027', 'Can you elaborate on that?', 'suggesting courses, overview of CS or narrowed focus?', 'Please tell me more.', '01:640:026 or 01:640:027', \"I don't understand. Can you rephrase? \", 'Please tell me more.', 'Please tell me more.'), ()), None)  :  4\n",
      "((('recommend', 'recommend'), ('Type to chat!', 'suggesting courses, overview of CS or narrowed focus?'), ()), None)  :  4\n",
      "((('recommend', 'recommend', 'quit'), ('Type to chat!', 'suggesting courses, overview of CS or narrowed focus?', 'Can you elaborate on that?'), ()), None)  :  4\n",
      "((('recommend', 'quit'), ('Type to chat!', 'suggesting courses, overview of CS or narrowed focus?'), ()), None)  :  4\n",
      "((('Mistake', 'quit'), ('Type to chat!', 'Can you elaborate on that?'), ()), None)  :  4\n",
      "((('recommend', 'recommend'), ('Type to chat!', 'Can you elaborate on that?'), ()), None)  :  4\n",
      "((('recommend', 'recommend', 'information id Great Insights in Computer Science'), ('Type to chat!', 'Can you elaborate on that?', 'suggesting courses, overview of CS or narrowed focus?'), ()), None)  :  4\n",
      "((('recommend', 'recommend', 'information id Great Insights in Computer Science', 'recommend'), ('Type to chat!', 'Can you elaborate on that?', 'suggesting courses, overview of CS or narrowed focus?', '01:198:105'), ()), None)  :  4\n",
      "((('recommend', 'recommend', 'information id Great Insights in Computer Science', 'recommend', 'information link Great Insights in Computer Science'), ('Type to chat!', 'Can you elaborate on that?', 'suggesting courses, overview of CS or narrowed focus?', '01:198:105', 'suggesting courses, overview of CS or narrowed focus?'), ()), None)  :  4\n",
      "((('recommend', 'recommend', 'information id Great Insights in Computer Science', 'recommend', 'information link Great Insights in Computer Science', 'quit'), ('Type to chat!', 'Can you elaborate on that?', 'suggesting courses, overview of CS or narrowed focus?', '01:198:105', 'suggesting courses, overview of CS or narrowed focus?', 'https://www.cs.rutgers.edu/academics/undergraduate/course-synopses/course-details/01-198-105-great-insights-in-computer-science'), ()), None)  :  4\n",
      "((('recommend', 'Mistake'), ('Type to chat!', 'Please tell me more.'), ()), None)  :  4\n",
      "((('recommend', 'Mistake', 'recommend'), ('Type to chat!', 'Please tell me more.', \"I don't understand. Can you rephrase? \"), ()), None)  :  4\n",
      "((('recommend', 'Mistake', 'recommend', 'Mistake'), ('Type to chat!', 'Please tell me more.', \"I don't understand. Can you rephrase? \", 'Can you elaborate on that?'), ()), None)  :  4\n",
      "((('recommend', 'Mistake', 'recommend', 'Mistake', 'Mistake'), ('Type to chat!', 'Please tell me more.', \"I don't understand. Can you rephrase? \", 'Can you elaborate on that?', 'Please tell me more.'), ()), None)  :  4\n",
      "((('recommend', 'Mistake', 'recommend', 'Mistake', 'Mistake', 'recommend'), ('Type to chat!', 'Please tell me more.', \"I don't understand. Can you rephrase? \", 'Can you elaborate on that?', 'Please tell me more.', 'Can you elaborate on that?'), ()), None)  :  4\n",
      "((('recommend', 'Mistake', 'recommend', 'Mistake', 'Mistake', 'recommend', 'Mistake'), ('Type to chat!', 'Please tell me more.', \"I don't understand. Can you rephrase? \", 'Can you elaborate on that?', 'Please tell me more.', 'Can you elaborate on that?', 'suggesting courses, overview of CS or narrowed focus?'), ()), None)  :  4\n",
      "((('recommend', 'Mistake', 'recommend', 'Mistake', 'Mistake', 'recommend', 'Mistake', 'Mistake'), ('Type to chat!', 'Please tell me more.', \"I don't understand. Can you rephrase? \", 'Can you elaborate on that?', 'Please tell me more.', 'Can you elaborate on that?', 'suggesting courses, overview of CS or narrowed focus?', 'Please tell me more.'), ()), None)  :  4\n",
      "((('recommend', 'Mistake', 'recommend', 'Mistake', 'Mistake', 'recommend', 'Mistake', 'Mistake', 'information keywords 01:198:105'), ('Type to chat!', 'Please tell me more.', \"I don't understand. Can you rephrase? \", 'Can you elaborate on that?', 'Please tell me more.', 'Can you elaborate on that?', 'suggesting courses, overview of CS or narrowed focus?', 'Please tell me more.', \"I don't understand. Can you rephrase? \"), ()), None)  :  4\n",
      "((('recommend', 'Mistake', 'recommend', 'Mistake', 'Mistake', 'recommend', 'Mistake', 'Mistake', 'information keywords 01:198:105', 'quit'), ('Type to chat!', 'Please tell me more.', \"I don't understand. Can you rephrase? \", 'Can you elaborate on that?', 'Please tell me more.', 'Can you elaborate on that?', 'suggesting courses, overview of CS or narrowed focus?', 'Please tell me more.', \"I don't understand. Can you rephrase? \", 'introduction, elementary,'), ()), None)  :  4\n",
      "((('recommend', 'information link 01:198:105'), ('Type to chat!', \"I don't understand. Can you rephrase? \"), ()), None)  :  4\n",
      "((('recommend', 'information link 01:198:105', 'information SAS core 01:198:105'), ('Type to chat!', \"I don't understand. Can you rephrase? \", 'Please tell me more.'), ()), None)  :  4\n",
      "((('recommend', 'information link 01:198:105', 'information SAS core 01:198:105', 'quit'), ('Type to chat!', \"I don't understand. Can you rephrase? \", 'Please tell me more.', 'Can you elaborate on that?'), ()), None)  :  4\n",
      "((('Mistake', 'Mistake'), ('Type to chat!', 'Please tell me more.'), ()), None)  :  4\n",
      "((('Mistake', 'Mistake', 'information id Great Insights in Computer Science'), ('Type to chat!', 'Please tell me more.', \"I don't understand. Can you rephrase? \"), ()), None)  :  4\n",
      "((('Mistake', 'Mistake', 'information id Great Insights in Computer Science', 'Mistake'), ('Type to chat!', 'Please tell me more.', \"I don't understand. Can you rephrase? \", '01:198:105'), ()), None)  :  4\n",
      "((('Mistake', 'Mistake', 'information id Great Insights in Computer Science', 'Mistake', 'Mistake'), ('Type to chat!', 'Please tell me more.', \"I don't understand. Can you rephrase? \", '01:198:105', \"I don't understand. Can you rephrase? \"), ()), None)  :  4\n",
      "((('Mistake', 'Mistake', 'information id Great Insights in Computer Science', 'Mistake', 'Mistake', 'information link 01:198:105'), ('Type to chat!', 'Please tell me more.', \"I don't understand. Can you rephrase? \", '01:198:105', \"I don't understand. Can you rephrase? \", 'Can you elaborate on that?'), ()), None)  :  4\n",
      "((('Mistake', 'Mistake', 'information id Great Insights in Computer Science', 'Mistake', 'Mistake', 'information link 01:198:105', 'information prerequisites 01:198:105'), ('Type to chat!', 'Please tell me more.', \"I don't understand. Can you rephrase? \", '01:198:105', \"I don't understand. Can you rephrase? \", 'Can you elaborate on that?', 'Please tell me more.'), ()), None)  :  4\n",
      "((('Mistake', 'Mistake', 'information id Great Insights in Computer Science', 'Mistake', 'Mistake', 'information link 01:198:105', 'information prerequisites 01:198:105', 'Mistake'), ('Type to chat!', 'Please tell me more.', \"I don't understand. Can you rephrase? \", '01:198:105', \"I don't understand. Can you rephrase? \", 'Can you elaborate on that?', 'Please tell me more.', \"I don't understand. Can you rephrase? \"), ()), None)  :  4\n",
      "((('Mistake', 'Mistake', 'information id Great Insights in Computer Science', 'Mistake', 'Mistake', 'information link 01:198:105', 'information prerequisites 01:198:105', 'Mistake', 'Mistake'), ('Type to chat!', 'Please tell me more.', \"I don't understand. Can you rephrase? \", '01:198:105', \"I don't understand. Can you rephrase? \", 'Can you elaborate on that?', 'Please tell me more.', \"I don't understand. Can you rephrase? \", \"I don't understand. Can you rephrase? \"), ()), None)  :  4\n",
      "((('Mistake', 'Mistake', 'information id Great Insights in Computer Science', 'Mistake', 'Mistake', 'information link 01:198:105', 'information prerequisites 01:198:105', 'Mistake', 'Mistake', 'quit'), ('Type to chat!', 'Please tell me more.', \"I don't understand. Can you rephrase? \", '01:198:105', \"I don't understand. Can you rephrase? \", 'Can you elaborate on that?', 'Please tell me more.', \"I don't understand. Can you rephrase? \", \"I don't understand. Can you rephrase? \", \"I don't understand. Can you rephrase? \"), ()), None)  :  4\n",
      "((('Mistake', 'recommend'), ('Type to chat!', \"I don't understand. Can you rephrase? \"), ()), None)  :  4\n",
      "((('Mistake', 'recommend', 'quit'), ('Type to chat!', \"I don't understand. Can you rephrase? \", 'suggesting courses, overview of CS or narrowed focus?'), ()), None)  :  4\n",
      "((('recommend', 'recommend'), ('Type to chat!', \"I don't understand. Can you rephrase? \"), ()), None)  :  4\n",
      "((('recommend', 'recommend', 'information credits 01:198:105'), ('Type to chat!', \"I don't understand. Can you rephrase? \", 'Can you elaborate on that?'), ()), None)  :  4\n",
      "((('recommend', 'recommend', 'information credits 01:198:105', 'Mistake'), ('Type to chat!', \"I don't understand. Can you rephrase? \", 'Can you elaborate on that?', 3), ()), None)  :  4\n",
      "((('recommend', 'recommend', 'information credits 01:198:105', 'Mistake', 'information description Great Insights in Computer Science'), ('Type to chat!', \"I don't understand. Can you rephrase? \", 'Can you elaborate on that?', 3, \"I don't understand. Can you rephrase? \"), ()), None)  :  4\n",
      "((('recommend', 'recommend', 'information credits 01:198:105', 'Mistake', 'information description Great Insights in Computer Science', 'recommend'), ('Type to chat!', \"I don't understand. Can you rephrase? \", 'Can you elaborate on that?', 3, \"I don't understand. Can you rephrase? \", \"I don't understand. Can you rephrase? \"), ()), None)  :  4\n",
      "((('recommend', 'recommend', 'information credits 01:198:105', 'Mistake', 'information description Great Insights in Computer Science', 'recommend', 'information keywords Great Insights in Computer Science'), ('Type to chat!', \"I don't understand. Can you rephrase? \", 'Can you elaborate on that?', 3, \"I don't understand. Can you rephrase? \", \"I don't understand. Can you rephrase? \", \"I don't understand. Can you rephrase? \"), ()), None)  :  4\n",
      "((('recommend', 'recommend', 'information credits 01:198:105', 'Mistake', 'information description Great Insights in Computer Science', 'recommend', 'information keywords Great Insights in Computer Science', 'recommend'), ('Type to chat!', \"I don't understand. Can you rephrase? \", 'Can you elaborate on that?', 3, \"I don't understand. Can you rephrase? \", \"I don't understand. Can you rephrase? \", \"I don't understand. Can you rephrase? \", 'Please tell me more.'), ()), None)  :  4\n",
      "((('recommend', 'recommend', 'information credits 01:198:105', 'Mistake', 'information description Great Insights in Computer Science', 'recommend', 'information keywords Great Insights in Computer Science', 'recommend', 'Mistake'), ('Type to chat!', \"I don't understand. Can you rephrase? \", 'Can you elaborate on that?', 3, \"I don't understand. Can you rephrase? \", \"I don't understand. Can you rephrase? \", \"I don't understand. Can you rephrase? \", 'Please tell me more.', 'suggesting courses, overview of CS or narrowed focus?'), ()), None)  :  4\n",
      "((('recommend', 'recommend', 'information credits 01:198:105', 'Mistake', 'information description Great Insights in Computer Science', 'recommend', 'information keywords Great Insights in Computer Science', 'recommend', 'Mistake', 'quit'), ('Type to chat!', \"I don't understand. Can you rephrase? \", 'Can you elaborate on that?', 3, \"I don't understand. Can you rephrase? \", \"I don't understand. Can you rephrase? \", \"I don't understand. Can you rephrase? \", 'Please tell me more.', 'suggesting courses, overview of CS or narrowed focus?', \"I don't understand. Can you rephrase? \"), ()), None)  :  4\n",
      "((('information keywords Great Insights in Computer Science',), ('Type to chat!',), ()), None)  :  4\n",
      "((('information keywords Great Insights in Computer Science', 'information prerequisites Great Insights in Computer Science'), ('Type to chat!', 'introduction, elementary,'), ()), None)  :  4\n",
      "((('information keywords Great Insights in Computer Science', 'information prerequisites Great Insights in Computer Science', 'quit'), ('Type to chat!', 'introduction, elementary,', 'Can you elaborate on that?'), ()), None)  :  4\n",
      "((('Mistake', 'information link 01:198:105'), ('Type to chat!', 'Can you elaborate on that?'), ()), None)  :  4\n",
      "((('Mistake', 'information link 01:198:105', 'Mistake'), ('Type to chat!', 'Can you elaborate on that?', 'Can you elaborate on that?'), ()), None)  :  4\n",
      "((('Mistake', 'information link 01:198:105', 'Mistake', 'information link Great Insights in Computer Science'), ('Type to chat!', 'Can you elaborate on that?', 'Can you elaborate on that?', \"I don't understand. Can you rephrase? \"), ()), None)  :  4\n",
      "((('Mistake', 'information link 01:198:105', 'Mistake', 'information link Great Insights in Computer Science', 'Mistake'), ('Type to chat!', 'Can you elaborate on that?', 'Can you elaborate on that?', \"I don't understand. Can you rephrase? \", \"I don't understand. Can you rephrase? \"), ()), None)  :  4\n",
      "((('Mistake', 'information link 01:198:105', 'Mistake', 'information link Great Insights in Computer Science', 'Mistake', 'recommend'), ('Type to chat!', 'Can you elaborate on that?', 'Can you elaborate on that?', \"I don't understand. Can you rephrase? \", \"I don't understand. Can you rephrase? \", 'Please tell me more.'), ()), None)  :  4\n",
      "((('Mistake', 'information link 01:198:105', 'Mistake', 'information link Great Insights in Computer Science', 'Mistake', 'recommend', 'information keywords 01:198:105'), ('Type to chat!', 'Can you elaborate on that?', 'Can you elaborate on that?', \"I don't understand. Can you rephrase? \", \"I don't understand. Can you rephrase? \", 'Please tell me more.', 'Can you elaborate on that?'), ()), None)  :  4\n",
      "((('Mistake', 'information link 01:198:105', 'Mistake', 'information link Great Insights in Computer Science', 'Mistake', 'recommend', 'information keywords 01:198:105', 'Mistake'), ('Type to chat!', 'Can you elaborate on that?', 'Can you elaborate on that?', \"I don't understand. Can you rephrase? \", \"I don't understand. Can you rephrase? \", 'Please tell me more.', 'Can you elaborate on that?', 'introduction, elementary,'), ()), None)  :  4\n",
      "((('Mistake', 'information link 01:198:105', 'Mistake', 'information link Great Insights in Computer Science', 'Mistake', 'recommend', 'information keywords 01:198:105', 'Mistake', 'quit'), ('Type to chat!', 'Can you elaborate on that?', 'Can you elaborate on that?', \"I don't understand. Can you rephrase? \", \"I don't understand. Can you rephrase? \", 'Please tell me more.', 'Can you elaborate on that?', 'introduction, elementary,', 'Please tell me more.'), ()), None)  :  4\n",
      "((('information keywords 01:198:105',), ('Type to chat!',), ()), None)  :  4\n",
      "((('information keywords 01:198:105', 'information prerequisites Great Insights in Computer Science'), ('Type to chat!', 'Please tell me more.'), ()), None)  :  4\n",
      "((('information keywords 01:198:105', 'information prerequisites Great Insights in Computer Science', 'Mistake'), ('Type to chat!', 'Please tell me more.', 'Please tell me more.'), ()), None)  :  4\n",
      "((('information keywords 01:198:105', 'information prerequisites Great Insights in Computer Science', 'Mistake', 'information id Great Insights in Computer Science'), ('Type to chat!', 'Please tell me more.', 'Please tell me more.', 'Can you elaborate on that?'), ()), None)  :  4\n",
      "((('information keywords 01:198:105', 'information prerequisites Great Insights in Computer Science', 'Mistake', 'information id Great Insights in Computer Science', 'quit'), ('Type to chat!', 'Please tell me more.', 'Please tell me more.', 'Can you elaborate on that?', \"I don't understand. Can you rephrase? \"), ()), None)  :  4\n",
      "((('recommend', 'quit'), ('Type to chat!', 'Can you elaborate on that?'), ()), None)  :  4\n",
      "((('information description Great Insights in Computer Science',), ('Type to chat!',), ()), None)  :  4\n",
      "((('information description Great Insights in Computer Science', 'quit'), ('Type to chat!', 'The class is a tour of the big ideas that make computer science an academic discipline. We tour the architecture of modern computers from bits and logic all the way up to programming languages and software libraries. We probe the insights in computability and algorithm design that make possible massive search engines like Google and help us understand the relation between computation and intelligence. Coursework primarily involves paper-and-pencil problem solving and a very small amount of programming to provide students with hands-on-experience with the concepts we introduce.'), ()), None)  :  4\n",
      "((('recommend', 'Mistake'), ('Type to chat!', 'suggesting courses, overview of CS or narrowed focus?'), ()), None)  :  4\n",
      "((('recommend', 'Mistake', 'Mistake'), ('Type to chat!', 'suggesting courses, overview of CS or narrowed focus?', 'Can you elaborate on that?'), ()), None)  :  4\n",
      "((('recommend', 'Mistake', 'Mistake', 'Mistake'), ('Type to chat!', 'suggesting courses, overview of CS or narrowed focus?', 'Can you elaborate on that?', 'Can you elaborate on that?'), ()), None)  :  4\n",
      "((('recommend', 'Mistake', 'Mistake', 'Mistake', 'quit'), ('Type to chat!', 'suggesting courses, overview of CS or narrowed focus?', 'Can you elaborate on that?', 'Can you elaborate on that?', \"I don't understand. Can you rephrase? \"), ()), None)  :  4\n",
      "((('recommend', 'information description 01:198:105'), ('Type to chat!', 'Can you elaborate on that?'), ()), None)  :  4\n",
      "((('recommend', 'information description 01:198:105', 'Mistake'), ('Type to chat!', 'Can you elaborate on that?', 'The class is a tour of the big ideas that make computer science an academic discipline. We tour the architecture of modern computers from bits and logic all the way up to programming languages and software libraries. We probe the insights in computability and algorithm design that make possible massive search engines like Google and help us understand the relation between computation and intelligence. Coursework primarily involves paper-and-pencil problem solving and a very small amount of programming to provide students with hands-on-experience with the concepts we introduce.'), ()), None)  :  4\n",
      "((('recommend', 'information description 01:198:105', 'Mistake', 'Mistake'), ('Type to chat!', 'Can you elaborate on that?', 'The class is a tour of the big ideas that make computer science an academic discipline. We tour the architecture of modern computers from bits and logic all the way up to programming languages and software libraries. We probe the insights in computability and algorithm design that make possible massive search engines like Google and help us understand the relation between computation and intelligence. Coursework primarily involves paper-and-pencil problem solving and a very small amount of programming to provide students with hands-on-experience with the concepts we introduce.', \"I don't understand. Can you rephrase? \"), ()), None)  :  4\n",
      "((('recommend', 'information description 01:198:105', 'Mistake', 'Mistake', 'Mistake'), ('Type to chat!', 'Can you elaborate on that?', 'The class is a tour of the big ideas that make computer science an academic discipline. We tour the architecture of modern computers from bits and logic all the way up to programming languages and software libraries. We probe the insights in computability and algorithm design that make possible massive search engines like Google and help us understand the relation between computation and intelligence. Coursework primarily involves paper-and-pencil problem solving and a very small amount of programming to provide students with hands-on-experience with the concepts we introduce.', \"I don't understand. Can you rephrase? \", 'Please tell me more.'), ()), None)  :  4\n",
      "((('recommend', 'information description 01:198:105', 'Mistake', 'Mistake', 'Mistake', 'quit'), ('Type to chat!', 'Can you elaborate on that?', 'The class is a tour of the big ideas that make computer science an academic discipline. We tour the architecture of modern computers from bits and logic all the way up to programming languages and software libraries. We probe the insights in computability and algorithm design that make possible massive search engines like Google and help us understand the relation between computation and intelligence. Coursework primarily involves paper-and-pencil problem solving and a very small amount of programming to provide students with hands-on-experience with the concepts we introduce.', \"I don't understand. Can you rephrase? \", 'Please tell me more.', 'Can you elaborate on that?'), ()), None)  :  4\n",
      "((('information prerequisites Great Insights in Computer Science', 'Mistake', 'recommend'), ('Type to chat!', '01:640:026 or 01:640:027', 'Can you elaborate on that?'), ()), None)  :  4\n",
      "((('information prerequisites Great Insights in Computer Science', 'Mistake', 'recommend', 'information credits Great Insights in Computer Science'), ('Type to chat!', '01:640:026 or 01:640:027', 'Can you elaborate on that?', 'suggesting courses, overview of CS or narrowed focus?'), ()), None)  :  4\n",
      "((('information prerequisites Great Insights in Computer Science', 'Mistake', 'recommend', 'information credits Great Insights in Computer Science', 'recommend'), ('Type to chat!', '01:640:026 or 01:640:027', 'Can you elaborate on that?', 'suggesting courses, overview of CS or narrowed focus?', 3), ()), None)  :  4\n",
      "((('information prerequisites Great Insights in Computer Science', 'Mistake', 'recommend', 'information credits Great Insights in Computer Science', 'recommend', 'information keywords Great Insights in Computer Science'), ('Type to chat!', '01:640:026 or 01:640:027', 'Can you elaborate on that?', 'suggesting courses, overview of CS or narrowed focus?', 3, 'suggesting courses, overview of CS or narrowed focus?'), ()), None)  :  4\n",
      "((('information prerequisites Great Insights in Computer Science', 'Mistake', 'recommend', 'information credits Great Insights in Computer Science', 'recommend', 'information keywords Great Insights in Computer Science', 'information credits 01:198:105'), ('Type to chat!', '01:640:026 or 01:640:027', 'Can you elaborate on that?', 'suggesting courses, overview of CS or narrowed focus?', 3, 'suggesting courses, overview of CS or narrowed focus?', 'introduction, elementary,'), ()), None)  :  4\n",
      "((('information prerequisites Great Insights in Computer Science', 'Mistake', 'recommend', 'information credits Great Insights in Computer Science', 'recommend', 'information keywords Great Insights in Computer Science', 'information credits 01:198:105', 'quit'), ('Type to chat!', '01:640:026 or 01:640:027', 'Can you elaborate on that?', 'suggesting courses, overview of CS or narrowed focus?', 3, 'suggesting courses, overview of CS or narrowed focus?', 'introduction, elementary,', 3), ()), None)  :  4\n",
      "((('information SAS core 01:198:105',), ('Type to chat!',), ()), None)  :  4\n",
      "((('information SAS core 01:198:105', 'recommend'), ('Type to chat!', 'Please tell me more.'), ()), None)  :  4\n",
      "((('information SAS core 01:198:105', 'recommend', 'quit'), ('Type to chat!', 'Please tell me more.', \"I don't understand. Can you rephrase? \"), ()), None)  :  4\n",
      "((('information link Great Insights in Computer Science',), ('Type to chat!',), ()), None)  :  4\n",
      "((('information link Great Insights in Computer Science', 'information SAS core 01:198:105'), ('Type to chat!', 'https://www.cs.rutgers.edu/academics/undergraduate/course-synopses/course-details/01-198-105-great-insights-in-computer-science'), ()), None)  :  4\n",
      "((('information link Great Insights in Computer Science', 'information SAS core 01:198:105', 'quit'), ('Type to chat!', 'https://www.cs.rutgers.edu/academics/undergraduate/course-synopses/course-details/01-198-105-great-insights-in-computer-science', \"I don't understand. Can you rephrase? \"), ()), None)  :  4\n",
      "((('information SAS core 01:198:105', 'Mistake'), ('Type to chat!', 'QR, ITR'), ()), None)  :  4\n",
      "((('information SAS core 01:198:105', 'Mistake', 'recommend'), ('Type to chat!', 'QR, ITR', 'Can you elaborate on that?'), ()), None)  :  4\n",
      "((('information SAS core 01:198:105', 'Mistake', 'recommend', 'information keywords 01:198:105'), ('Type to chat!', 'QR, ITR', 'Can you elaborate on that?', 'Can you elaborate on that?'), ()), None)  :  4\n",
      "((('information SAS core 01:198:105', 'Mistake', 'recommend', 'information keywords 01:198:105', 'recommend'), ('Type to chat!', 'QR, ITR', 'Can you elaborate on that?', 'Can you elaborate on that?', 'introduction, elementary,'), ()), None)  :  4\n",
      "((('information SAS core 01:198:105', 'Mistake', 'recommend', 'information keywords 01:198:105', 'recommend', 'Mistake'), ('Type to chat!', 'QR, ITR', 'Can you elaborate on that?', 'Can you elaborate on that?', 'introduction, elementary,', 'Please tell me more.'), ()), None)  :  4\n",
      "((('information SAS core 01:198:105', 'Mistake', 'recommend', 'information keywords 01:198:105', 'recommend', 'Mistake', 'recommend'), ('Type to chat!', 'QR, ITR', 'Can you elaborate on that?', 'Can you elaborate on that?', 'introduction, elementary,', 'Please tell me more.', \"I don't understand. Can you rephrase? \"), ()), None)  :  4\n",
      "((('information SAS core 01:198:105', 'Mistake', 'recommend', 'information keywords 01:198:105', 'recommend', 'Mistake', 'recommend', 'recommend'), ('Type to chat!', 'QR, ITR', 'Can you elaborate on that?', 'Can you elaborate on that?', 'introduction, elementary,', 'Please tell me more.', \"I don't understand. Can you rephrase? \", 'suggesting courses, overview of CS or narrowed focus?'), ()), None)  :  4\n",
      "((('information SAS core 01:198:105', 'Mistake', 'recommend', 'information keywords 01:198:105', 'recommend', 'Mistake', 'recommend', 'recommend', 'information prerequisites Great Insights in Computer Science'), ('Type to chat!', 'QR, ITR', 'Can you elaborate on that?', 'Can you elaborate on that?', 'introduction, elementary,', 'Please tell me more.', \"I don't understand. Can you rephrase? \", 'suggesting courses, overview of CS or narrowed focus?', 'Can you elaborate on that?'), ()), None)  :  4\n",
      "((('information SAS core 01:198:105', 'Mistake', 'recommend', 'information keywords 01:198:105', 'recommend', 'Mistake', 'recommend', 'recommend', 'information prerequisites Great Insights in Computer Science', 'quit'), ('Type to chat!', 'QR, ITR', 'Can you elaborate on that?', 'Can you elaborate on that?', 'introduction, elementary,', 'Please tell me more.', \"I don't understand. Can you rephrase? \", 'suggesting courses, overview of CS or narrowed focus?', 'Can you elaborate on that?', 'Can you elaborate on that?'), ()), None)  :  4\n",
      "((('recommend', 'recommend', 'information SAS core 01:198:105'), ('Type to chat!', 'suggesting courses, overview of CS or narrowed focus?', 'suggesting courses, overview of CS or narrowed focus?'), ()), None)  :  4\n",
      "((('recommend', 'recommend', 'information SAS core 01:198:105', 'quit'), ('Type to chat!', 'suggesting courses, overview of CS or narrowed focus?', 'suggesting courses, overview of CS or narrowed focus?', 'QR, ITR'), ()), None)  :  4\n",
      "((('Mistake', 'information SAS core 01:198:105'), ('Type to chat!', 'Can you elaborate on that?'), ()), None)  :  4\n",
      "((('Mistake', 'information SAS core 01:198:105', 'Mistake'), ('Type to chat!', 'Can you elaborate on that?', 'Can you elaborate on that?'), ()), None)  :  4\n",
      "((('Mistake', 'information SAS core 01:198:105', 'Mistake', 'quit'), ('Type to chat!', 'Can you elaborate on that?', 'Can you elaborate on that?', 'Can you elaborate on that?'), ()), None)  :  4\n",
      "((('information prerequisites 01:198:105',), ('Type to chat!',), ()), None)  :  4\n",
      "((('information prerequisites 01:198:105', 'recommend'), ('Type to chat!', '01:640:026 or 01:640:027'), ()), None)  :  4\n",
      "((('information prerequisites 01:198:105', 'recommend', 'recommend'), ('Type to chat!', '01:640:026 or 01:640:027', \"I don't understand. Can you rephrase? \"), ()), None)  :  4\n",
      "((('information prerequisites 01:198:105', 'recommend', 'recommend', 'recommend'), ('Type to chat!', '01:640:026 or 01:640:027', \"I don't understand. Can you rephrase? \", 'suggesting courses, overview of CS or narrowed focus?'), ()), None)  :  4\n",
      "((('information prerequisites 01:198:105', 'recommend', 'recommend', 'recommend', 'quit'), ('Type to chat!', '01:640:026 or 01:640:027', \"I don't understand. Can you rephrase? \", 'suggesting courses, overview of CS or narrowed focus?', 'suggesting courses, overview of CS or narrowed focus?'), ()), None)  :  4\n",
      "((('Mistake', 'information id Great Insights in Computer Science'), ('Type to chat!', \"I don't understand. Can you rephrase? \"), ()), None)  :  4\n",
      "((('Mistake', 'information id Great Insights in Computer Science', 'Mistake'), ('Type to chat!', \"I don't understand. Can you rephrase? \", '01:198:105'), ()), None)  :  4\n",
      "((('Mistake', 'information id Great Insights in Computer Science', 'Mistake', 'information credits Great Insights in Computer Science'), ('Type to chat!', \"I don't understand. Can you rephrase? \", '01:198:105', 'Can you elaborate on that?'), ()), None)  :  4\n",
      "((('Mistake', 'information id Great Insights in Computer Science', 'Mistake', 'information credits Great Insights in Computer Science', 'quit'), ('Type to chat!', \"I don't understand. Can you rephrase? \", '01:198:105', 'Can you elaborate on that?', 3), ()), None)  :  4\n",
      "((('recommend', 'recommend', 'recommend'), ('Type to chat!', 'suggesting courses, overview of CS or narrowed focus?', \"I don't understand. Can you rephrase? \"), ()), None)  :  4\n",
      "((('recommend', 'recommend', 'recommend', 'information id 01:198:105'), ('Type to chat!', 'suggesting courses, overview of CS or narrowed focus?', \"I don't understand. Can you rephrase? \", 'Please tell me more.'), ()), None)  :  4\n",
      "((('recommend', 'recommend', 'recommend', 'information id 01:198:105', 'Mistake'), ('Type to chat!', 'suggesting courses, overview of CS or narrowed focus?', \"I don't understand. Can you rephrase? \", 'Please tell me more.', 'Please tell me more.'), ()), None)  :  4\n",
      "((('recommend', 'recommend', 'recommend', 'information id 01:198:105', 'Mistake', 'Mistake'), ('Type to chat!', 'suggesting courses, overview of CS or narrowed focus?', \"I don't understand. Can you rephrase? \", 'Please tell me more.', 'Please tell me more.', 'Please tell me more.'), ()), None)  :  4\n",
      "((('recommend', 'recommend', 'recommend', 'information id 01:198:105', 'Mistake', 'Mistake', 'recommend'), ('Type to chat!', 'suggesting courses, overview of CS or narrowed focus?', \"I don't understand. Can you rephrase? \", 'Please tell me more.', 'Please tell me more.', 'Please tell me more.', \"I don't understand. Can you rephrase? \"), ()), None)  :  4\n",
      "((('recommend', 'recommend', 'recommend', 'information id 01:198:105', 'Mistake', 'Mistake', 'recommend', 'recommend'), ('Type to chat!', 'suggesting courses, overview of CS or narrowed focus?', \"I don't understand. Can you rephrase? \", 'Please tell me more.', 'Please tell me more.', 'Please tell me more.', \"I don't understand. Can you rephrase? \", 'suggesting courses, overview of CS or narrowed focus?'), ()), None)  :  4\n",
      "((('recommend', 'recommend', 'recommend', 'information id 01:198:105', 'Mistake', 'Mistake', 'recommend', 'recommend', 'quit'), ('Type to chat!', 'suggesting courses, overview of CS or narrowed focus?', \"I don't understand. Can you rephrase? \", 'Please tell me more.', 'Please tell me more.', 'Please tell me more.', \"I don't understand. Can you rephrase? \", 'suggesting courses, overview of CS or narrowed focus?', 'suggesting courses, overview of CS or narrowed focus?'), ()), None)  :  4\n",
      "((('Mistake', 'Mistake'), ('Type to chat!', \"I don't understand. Can you rephrase? \"), ()), None)  :  4\n",
      "((('Mistake', 'Mistake', 'recommend'), ('Type to chat!', \"I don't understand. Can you rephrase? \", 'Please tell me more.'), ()), None)  :  4\n",
      "((('Mistake', 'Mistake', 'recommend', 'Mistake'), ('Type to chat!', \"I don't understand. Can you rephrase? \", 'Please tell me more.', 'suggesting courses, overview of CS or narrowed focus?'), ()), None)  :  4\n",
      "((('Mistake', 'Mistake', 'recommend', 'Mistake', 'quit'), ('Type to chat!', \"I don't understand. Can you rephrase? \", 'Please tell me more.', 'suggesting courses, overview of CS or narrowed focus?', 'Can you elaborate on that?'), ()), None)  :  4\n",
      "((('information prerequisites 01:198:105', 'information keywords 01:198:105'), ('Type to chat!', '01:640:026 or 01:640:027'), ()), None)  :  4\n",
      "((('information prerequisites 01:198:105', 'information keywords 01:198:105', 'information name 01:198:105'), ('Type to chat!', '01:640:026 or 01:640:027', 'introduction, elementary,'), ()), None)  :  4\n",
      "((('information prerequisites 01:198:105', 'information keywords 01:198:105', 'information name 01:198:105', 'quit'), ('Type to chat!', '01:640:026 or 01:640:027', 'introduction, elementary,', 'Great Insights in Computer Science'), ()), None)  :  4\n",
      "((('Mistake', 'Mistake', 'quit'), ('Type to chat!', \"I don't understand. Can you rephrase? \", 'Can you elaborate on that?'), ()), None)  :  4\n",
      "((('Mistake', 'information description Great Insights in Computer Science'), ('Type to chat!', 'Can you elaborate on that?'), ()), None)  :  4\n",
      "((('Mistake', 'information description Great Insights in Computer Science', 'Mistake'), ('Type to chat!', 'Can you elaborate on that?', 'The class is a tour of the big ideas that make computer science an academic discipline. We tour the architecture of modern computers from bits and logic all the way up to programming languages and software libraries. We probe the insights in computability and algorithm design that make possible massive search engines like Google and help us understand the relation between computation and intelligence. Coursework primarily involves paper-and-pencil problem solving and a very small amount of programming to provide students with hands-on-experience with the concepts we introduce.'), ()), None)  :  4\n",
      "((('Mistake', 'information description Great Insights in Computer Science', 'Mistake', 'recommend'), ('Type to chat!', 'Can you elaborate on that?', 'The class is a tour of the big ideas that make computer science an academic discipline. We tour the architecture of modern computers from bits and logic all the way up to programming languages and software libraries. We probe the insights in computability and algorithm design that make possible massive search engines like Google and help us understand the relation between computation and intelligence. Coursework primarily involves paper-and-pencil problem solving and a very small amount of programming to provide students with hands-on-experience with the concepts we introduce.', 'Can you elaborate on that?'), ()), None)  :  4\n",
      "((('Mistake', 'information description Great Insights in Computer Science', 'Mistake', 'recommend', 'recommend'), ('Type to chat!', 'Can you elaborate on that?', 'The class is a tour of the big ideas that make computer science an academic discipline. We tour the architecture of modern computers from bits and logic all the way up to programming languages and software libraries. We probe the insights in computability and algorithm design that make possible massive search engines like Google and help us understand the relation between computation and intelligence. Coursework primarily involves paper-and-pencil problem solving and a very small amount of programming to provide students with hands-on-experience with the concepts we introduce.', 'Can you elaborate on that?', 'suggesting courses, overview of CS or narrowed focus?'), ()), None)  :  4\n",
      "((('Mistake', 'information description Great Insights in Computer Science', 'Mistake', 'recommend', 'recommend', 'Mistake'), ('Type to chat!', 'Can you elaborate on that?', 'The class is a tour of the big ideas that make computer science an academic discipline. We tour the architecture of modern computers from bits and logic all the way up to programming languages and software libraries. We probe the insights in computability and algorithm design that make possible massive search engines like Google and help us understand the relation between computation and intelligence. Coursework primarily involves paper-and-pencil problem solving and a very small amount of programming to provide students with hands-on-experience with the concepts we introduce.', 'Can you elaborate on that?', 'suggesting courses, overview of CS or narrowed focus?', 'Please tell me more.'), ()), None)  :  4\n",
      "((('Mistake', 'information description Great Insights in Computer Science', 'Mistake', 'recommend', 'recommend', 'Mistake', 'information credits 01:198:105'), ('Type to chat!', 'Can you elaborate on that?', 'The class is a tour of the big ideas that make computer science an academic discipline. We tour the architecture of modern computers from bits and logic all the way up to programming languages and software libraries. We probe the insights in computability and algorithm design that make possible massive search engines like Google and help us understand the relation between computation and intelligence. Coursework primarily involves paper-and-pencil problem solving and a very small amount of programming to provide students with hands-on-experience with the concepts we introduce.', 'Can you elaborate on that?', 'suggesting courses, overview of CS or narrowed focus?', 'Please tell me more.', 'Can you elaborate on that?'), ()), None)  :  4\n",
      "((('Mistake', 'information description Great Insights in Computer Science', 'Mistake', 'recommend', 'recommend', 'Mistake', 'information credits 01:198:105', 'quit'), ('Type to chat!', 'Can you elaborate on that?', 'The class is a tour of the big ideas that make computer science an academic discipline. We tour the architecture of modern computers from bits and logic all the way up to programming languages and software libraries. We probe the insights in computability and algorithm design that make possible massive search engines like Google and help us understand the relation between computation and intelligence. Coursework primarily involves paper-and-pencil problem solving and a very small amount of programming to provide students with hands-on-experience with the concepts we introduce.', 'Can you elaborate on that?', 'suggesting courses, overview of CS or narrowed focus?', 'Please tell me more.', 'Can you elaborate on that?', \"I don't understand. Can you rephrase? \"), ()), None)  :  4\n",
      "((('information keywords 01:198:105', 'quit'), ('Type to chat!', 'introduction, elementary,'), ()), None)  :  4\n",
      "((('recommend', 'Mistake', 'recommend'), ('Type to chat!', 'suggesting courses, overview of CS or narrowed focus?', 'Can you elaborate on that?'), ()), None)  :  4\n",
      "((('recommend', 'Mistake', 'recommend', 'information SAS core 01:198:105'), ('Type to chat!', 'suggesting courses, overview of CS or narrowed focus?', 'Can you elaborate on that?', 'suggesting courses, overview of CS or narrowed focus?'), ()), None)  :  4\n",
      "((('recommend', 'Mistake', 'recommend', 'information SAS core 01:198:105', 'quit'), ('Type to chat!', 'suggesting courses, overview of CS or narrowed focus?', 'Can you elaborate on that?', 'suggesting courses, overview of CS or narrowed focus?', 'QR, ITR'), ()), None)  :  4\n",
      "((('Mistake', 'Mistake', 'recommend'), ('Type to chat!', \"I don't understand. Can you rephrase? \", \"I don't understand. Can you rephrase? \"), ()), None)  :  4\n",
      "((('Mistake', 'Mistake', 'recommend', 'information name 01:198:105'), ('Type to chat!', \"I don't understand. Can you rephrase? \", \"I don't understand. Can you rephrase? \", 'Can you elaborate on that?'), ()), None)  :  4\n",
      "((('Mistake', 'Mistake', 'recommend', 'information name 01:198:105', 'quit'), ('Type to chat!', \"I don't understand. Can you rephrase? \", \"I don't understand. Can you rephrase? \", 'Can you elaborate on that?', 'Great Insights in Computer Science'), ()), None)  :  4\n",
      "((('information description Great Insights in Computer Science', 'recommend'), ('Type to chat!', 'Please tell me more.'), ()), None)  :  4\n",
      "((('information description Great Insights in Computer Science', 'recommend', 'quit'), ('Type to chat!', 'Please tell me more.', 'suggesting courses, overview of CS or narrowed focus?'), ()), None)  :  4\n",
      "((('recommend', 'Mistake', 'Mistake'), ('Type to chat!', 'suggesting courses, overview of CS or narrowed focus?', \"I don't understand. Can you rephrase? \"), ()), None)  :  4\n",
      "((('recommend', 'Mistake', 'Mistake', 'Mistake'), ('Type to chat!', 'suggesting courses, overview of CS or narrowed focus?', \"I don't understand. Can you rephrase? \", 'Please tell me more.'), ()), None)  :  4\n",
      "((('recommend', 'Mistake', 'Mistake', 'Mistake', 'Mistake'), ('Type to chat!', 'suggesting courses, overview of CS or narrowed focus?', \"I don't understand. Can you rephrase? \", 'Please tell me more.', 'Can you elaborate on that?'), ()), None)  :  4\n",
      "((('recommend', 'Mistake', 'Mistake', 'Mistake', 'Mistake', 'quit'), ('Type to chat!', 'suggesting courses, overview of CS or narrowed focus?', \"I don't understand. Can you rephrase? \", 'Please tell me more.', 'Can you elaborate on that?', \"I don't understand. Can you rephrase? \"), ()), None)  :  4\n",
      "((('Mistake', 'Mistake'), ('Type to chat!', 'Can you elaborate on that?'), ()), None)  :  4\n",
      "((('Mistake', 'Mistake', 'quit'), ('Type to chat!', 'Can you elaborate on that?', \"I don't understand. Can you rephrase? \"), ()), None)  :  4\n",
      "((('recommend', 'information prerequisites Great Insights in Computer Science'), ('Type to chat!', 'suggesting courses, overview of CS or narrowed focus?'), ()), None)  :  4\n",
      "((('recommend', 'information prerequisites Great Insights in Computer Science', 'information credits Great Insights in Computer Science'), ('Type to chat!', 'suggesting courses, overview of CS or narrowed focus?', 'Please tell me more.'), ()), None)  :  4\n",
      "((('recommend', 'information prerequisites Great Insights in Computer Science', 'information credits Great Insights in Computer Science', 'quit'), ('Type to chat!', 'suggesting courses, overview of CS or narrowed focus?', 'Please tell me more.', 3), ()), None)  :  4\n",
      "((('Mistake', 'recommend'), ('Type to chat!', 'Please tell me more.'), ()), None)  :  4\n",
      "((('Mistake', 'recommend', 'quit'), ('Type to chat!', 'Please tell me more.', 'suggesting courses, overview of CS or narrowed focus?'), ()), None)  :  4\n",
      "((('information id Great Insights in Computer Science', 'Mistake'), ('Type to chat!', '01:198:105'), ()), None)  :  4\n",
      "((('information id Great Insights in Computer Science', 'Mistake', 'Mistake'), ('Type to chat!', '01:198:105', 'Can you elaborate on that?'), ()), None)  :  4\n",
      "((('information id Great Insights in Computer Science', 'Mistake', 'Mistake', 'quit'), ('Type to chat!', '01:198:105', 'Can you elaborate on that?', 'Please tell me more.'), ()), None)  :  4\n",
      "((('information link 01:198:105',), ('Type to chat!',), ()), None)  :  4\n",
      "((('information link 01:198:105', 'quit'), ('Type to chat!', 'https://www.cs.rutgers.edu/academics/undergraduate/course-synopses/course-details/01-198-105-great-insights-in-computer-science'), ()), None)  :  4\n",
      "((('Mistake', 'information keywords 01:198:105'), ('Type to chat!', 'Please tell me more.'), ()), None)  :  4\n",
      "((('Mistake', 'information keywords 01:198:105', 'recommend'), ('Type to chat!', 'Please tell me more.', 'Please tell me more.'), ()), None)  :  4\n",
      "((('Mistake', 'information keywords 01:198:105', 'recommend', 'Mistake'), ('Type to chat!', 'Please tell me more.', 'Please tell me more.', 'suggesting courses, overview of CS or narrowed focus?'), ()), None)  :  4\n",
      "((('Mistake', 'information keywords 01:198:105', 'recommend', 'Mistake', 'quit'), ('Type to chat!', 'Please tell me more.', 'Please tell me more.', 'suggesting courses, overview of CS or narrowed focus?', 'Can you elaborate on that?'), ()), None)  :  4\n",
      "((('recommend', 'information credits Great Insights in Computer Science'), ('Type to chat!', 'Please tell me more.'), ()), None)  :  4\n",
      "((('recommend', 'information credits Great Insights in Computer Science', 'recommend'), ('Type to chat!', 'Please tell me more.', 3), ()), None)  :  4\n",
      "((('recommend', 'information credits Great Insights in Computer Science', 'recommend', 'Mistake'), ('Type to chat!', 'Please tell me more.', 3, 'suggesting courses, overview of CS or narrowed focus?'), ()), None)  :  4\n",
      "((('recommend', 'information credits Great Insights in Computer Science', 'recommend', 'Mistake', 'information credits 01:198:105'), ('Type to chat!', 'Please tell me more.', 3, 'suggesting courses, overview of CS or narrowed focus?', 'Please tell me more.'), ()), None)  :  4\n",
      "((('recommend', 'information credits Great Insights in Computer Science', 'recommend', 'Mistake', 'information credits 01:198:105', 'Mistake'), ('Type to chat!', 'Please tell me more.', 3, 'suggesting courses, overview of CS or narrowed focus?', 'Please tell me more.', 3), ()), None)  :  4\n",
      "((('recommend', 'information credits Great Insights in Computer Science', 'recommend', 'Mistake', 'information credits 01:198:105', 'Mistake', 'quit'), ('Type to chat!', 'Please tell me more.', 3, 'suggesting courses, overview of CS or narrowed focus?', 'Please tell me more.', 3, 'Please tell me more.'), ()), None)  :  4\n",
      "((('information name Great Insights in Computer Science', 'quit'), ('Type to chat!', 'Great Insights in Computer Science'), ()), None)  :  4\n",
      "((('information link 01:198:105', 'recommend'), ('Type to chat!', 'https://www.cs.rutgers.edu/academics/undergraduate/course-synopses/course-details/01-198-105-great-insights-in-computer-science'), ()), None)  :  4\n",
      "((('information link 01:198:105', 'recommend', 'information description 01:198:105'), ('Type to chat!', 'https://www.cs.rutgers.edu/academics/undergraduate/course-synopses/course-details/01-198-105-great-insights-in-computer-science', 'Please tell me more.'), ()), None)  :  4\n",
      "((('information link 01:198:105', 'recommend', 'information description 01:198:105', 'information prerequisites Great Insights in Computer Science'), ('Type to chat!', 'https://www.cs.rutgers.edu/academics/undergraduate/course-synopses/course-details/01-198-105-great-insights-in-computer-science', 'Please tell me more.', 'The class is a tour of the big ideas that make computer science an academic discipline. We tour the architecture of modern computers from bits and logic all the way up to programming languages and software libraries. We probe the insights in computability and algorithm design that make possible massive search engines like Google and help us understand the relation between computation and intelligence. Coursework primarily involves paper-and-pencil problem solving and a very small amount of programming to provide students with hands-on-experience with the concepts we introduce.'), ()), None)  :  4\n",
      "((('information link 01:198:105', 'recommend', 'information description 01:198:105', 'information prerequisites Great Insights in Computer Science', 'recommend'), ('Type to chat!', 'https://www.cs.rutgers.edu/academics/undergraduate/course-synopses/course-details/01-198-105-great-insights-in-computer-science', 'Please tell me more.', 'The class is a tour of the big ideas that make computer science an academic discipline. We tour the architecture of modern computers from bits and logic all the way up to programming languages and software libraries. We probe the insights in computability and algorithm design that make possible massive search engines like Google and help us understand the relation between computation and intelligence. Coursework primarily involves paper-and-pencil problem solving and a very small amount of programming to provide students with hands-on-experience with the concepts we introduce.', 'Can you elaborate on that?'), ()), None)  :  4\n",
      "((('information link 01:198:105', 'recommend', 'information description 01:198:105', 'information prerequisites Great Insights in Computer Science', 'recommend', 'quit'), ('Type to chat!', 'https://www.cs.rutgers.edu/academics/undergraduate/course-synopses/course-details/01-198-105-great-insights-in-computer-science', 'Please tell me more.', 'The class is a tour of the big ideas that make computer science an academic discipline. We tour the architecture of modern computers from bits and logic all the way up to programming languages and software libraries. We probe the insights in computability and algorithm design that make possible massive search engines like Google and help us understand the relation between computation and intelligence. Coursework primarily involves paper-and-pencil problem solving and a very small amount of programming to provide students with hands-on-experience with the concepts we introduce.', 'Can you elaborate on that?', 'Please tell me more.'), ()), None)  :  4\n",
      "((('recommend', 'recommend'), ('Type to chat!', 'Please tell me more.'), ()), None)  :  4\n",
      "((('recommend', 'recommend', 'information link 01:198:105'), ('Type to chat!', 'Please tell me more.', 'suggesting courses, overview of CS or narrowed focus?'), ()), None)  :  4\n",
      "((('recommend', 'recommend', 'information link 01:198:105', 'Mistake'), ('Type to chat!', 'Please tell me more.', 'suggesting courses, overview of CS or narrowed focus?', 'Can you elaborate on that?'), ()), None)  :  4\n",
      "((('recommend', 'recommend', 'information link 01:198:105', 'Mistake', 'quit'), ('Type to chat!', 'Please tell me more.', 'suggesting courses, overview of CS or narrowed focus?', 'Can you elaborate on that?', \"I don't understand. Can you rephrase? \"), ()), None)  :  4\n",
      "((('information prerequisites 01:198:105', 'Mistake'), ('Type to chat!', 'Please tell me more.'), ()), None)  :  4\n",
      "((('information prerequisites 01:198:105', 'Mistake', 'information SAS core Great Insights in Computer Science'), ('Type to chat!', 'Please tell me more.', \"I don't understand. Can you rephrase? \"), ()), None)  :  4\n",
      "((('information prerequisites 01:198:105', 'Mistake', 'information SAS core Great Insights in Computer Science', 'recommend'), ('Type to chat!', 'Please tell me more.', \"I don't understand. Can you rephrase? \", 'QR, ITR'), ()), None)  :  4\n",
      "((('information prerequisites 01:198:105', 'Mistake', 'information SAS core Great Insights in Computer Science', 'recommend', 'recommend'), ('Type to chat!', 'Please tell me more.', \"I don't understand. Can you rephrase? \", 'QR, ITR', 'suggesting courses, overview of CS or narrowed focus?'), ()), None)  :  4\n",
      "((('information prerequisites 01:198:105', 'Mistake', 'information SAS core Great Insights in Computer Science', 'recommend', 'recommend', 'information keywords 01:198:105'), ('Type to chat!', 'Please tell me more.', \"I don't understand. Can you rephrase? \", 'QR, ITR', 'suggesting courses, overview of CS or narrowed focus?', 'Please tell me more.'), ()), None)  :  4\n",
      "((('information prerequisites 01:198:105', 'Mistake', 'information SAS core Great Insights in Computer Science', 'recommend', 'recommend', 'information keywords 01:198:105', 'recommend'), ('Type to chat!', 'Please tell me more.', \"I don't understand. Can you rephrase? \", 'QR, ITR', 'suggesting courses, overview of CS or narrowed focus?', 'Please tell me more.', 'introduction, elementary,'), ()), None)  :  4\n",
      "((('information prerequisites 01:198:105', 'Mistake', 'information SAS core Great Insights in Computer Science', 'recommend', 'recommend', 'information keywords 01:198:105', 'recommend', 'quit'), ('Type to chat!', 'Please tell me more.', \"I don't understand. Can you rephrase? \", 'QR, ITR', 'suggesting courses, overview of CS or narrowed focus?', 'Please tell me more.', 'introduction, elementary,', \"I don't understand. Can you rephrase? \"), ()), None)  :  4\n",
      "((('Mistake', 'recommend'), ('Type to chat!', 'Can you elaborate on that?'), ()), None)  :  4\n",
      "((('Mistake', 'recommend', 'recommend'), ('Type to chat!', 'Can you elaborate on that?', 'Please tell me more.'), ()), None)  :  4\n",
      "((('Mistake', 'recommend', 'recommend', 'information keywords 01:198:105'), ('Type to chat!', 'Can you elaborate on that?', 'Please tell me more.', 'suggesting courses, overview of CS or narrowed focus?'), ()), None)  :  4\n",
      "((('Mistake', 'recommend', 'recommend', 'information keywords 01:198:105', 'quit'), ('Type to chat!', 'Can you elaborate on that?', 'Please tell me more.', 'suggesting courses, overview of CS or narrowed focus?', \"I don't understand. Can you rephrase? \"), ()), None)  :  4\n",
      "((('recommend', 'quit'), ('Type to chat!', 'Please tell me more.'), ()), None)  :  4\n",
      "((('recommend', 'Mistake', 'recommend', 'quit'), ('Type to chat!', 'suggesting courses, overview of CS or narrowed focus?', 'Can you elaborate on that?', \"I don't understand. Can you rephrase? \"), ()), None)  :  4\n",
      "((('information name Great Insights in Computer Science', 'Mistake'), ('Type to chat!', 'Can you elaborate on that?'), ()), None)  :  4\n",
      "((('information name Great Insights in Computer Science', 'Mistake', 'Mistake'), ('Type to chat!', 'Can you elaborate on that?', 'Can you elaborate on that?'), ()), None)  :  4\n",
      "((('information name Great Insights in Computer Science', 'Mistake', 'Mistake', 'quit'), ('Type to chat!', 'Can you elaborate on that?', 'Can you elaborate on that?', 'Can you elaborate on that?'), ()), None)  :  4\n",
      "((('recommend', 'recommend', 'quit'), ('Type to chat!', 'Please tell me more.', 'suggesting courses, overview of CS or narrowed focus?'), ()), None)  :  4\n",
      "((('Mistake', 'information link Great Insights in Computer Science'), ('Type to chat!', 'Can you elaborate on that?'), ()), None)  :  4\n",
      "((('Mistake', 'information link Great Insights in Computer Science', 'information prerequisites 01:198:105'), ('Type to chat!', 'Can you elaborate on that?', 'Please tell me more.'), ()), None)  :  4\n",
      "((('Mistake', 'information link Great Insights in Computer Science', 'information prerequisites 01:198:105', 'recommend'), ('Type to chat!', 'Can you elaborate on that?', 'Please tell me more.', '01:640:026 or 01:640:027'), ()), None)  :  4\n",
      "((('Mistake', 'information link Great Insights in Computer Science', 'information prerequisites 01:198:105', 'recommend', 'Mistake'), ('Type to chat!', 'Can you elaborate on that?', 'Please tell me more.', '01:640:026 or 01:640:027', 'suggesting courses, overview of CS or narrowed focus?'), ()), None)  :  4\n",
      "((('Mistake', 'information link Great Insights in Computer Science', 'information prerequisites 01:198:105', 'recommend', 'Mistake', 'quit'), ('Type to chat!', 'Can you elaborate on that?', 'Please tell me more.', '01:640:026 or 01:640:027', 'suggesting courses, overview of CS or narrowed focus?', \"I don't understand. Can you rephrase? \"), ()), None)  :  4\n",
      "((('information name 01:198:105',), ('Type to chat!',), ()), None)  :  4\n",
      "((('information name 01:198:105', 'Mistake'), ('Type to chat!', 'Can you elaborate on that?'), ()), None)  :  4\n",
      "((('information name 01:198:105', 'Mistake', 'information name Great Insights in Computer Science'), ('Type to chat!', 'Can you elaborate on that?', \"I don't understand. Can you rephrase? \"), ()), None)  :  4\n",
      "((('information name 01:198:105', 'Mistake', 'information name Great Insights in Computer Science', 'quit'), ('Type to chat!', 'Can you elaborate on that?', \"I don't understand. Can you rephrase? \", 'Please tell me more.'), ()), None)  :  4\n",
      "((('Mistake', 'information name 01:198:105'), ('Type to chat!', 'Can you elaborate on that?'), ()), None)  :  4\n",
      "((('Mistake', 'information name 01:198:105', 'information link 01:198:105'), ('Type to chat!', 'Can you elaborate on that?', \"I don't understand. Can you rephrase? \"), ()), None)  :  4\n",
      "((('Mistake', 'information name 01:198:105', 'information link 01:198:105', 'quit'), ('Type to chat!', 'Can you elaborate on that?', \"I don't understand. Can you rephrase? \", 'Please tell me more.'), ()), None)  :  4\n",
      "((('information description Great Insights in Computer Science', 'recommend'), ('Type to chat!', 'The class is a tour of the big ideas that make computer science an academic discipline. We tour the architecture of modern computers from bits and logic all the way up to programming languages and software libraries. We probe the insights in computability and algorithm design that make possible massive search engines like Google and help us understand the relation between computation and intelligence. Coursework primarily involves paper-and-pencil problem solving and a very small amount of programming to provide students with hands-on-experience with the concepts we introduce.'), ()), None)  :  4\n",
      "((('information description Great Insights in Computer Science', 'recommend', 'quit'), ('Type to chat!', 'The class is a tour of the big ideas that make computer science an academic discipline. We tour the architecture of modern computers from bits and logic all the way up to programming languages and software libraries. We probe the insights in computability and algorithm design that make possible massive search engines like Google and help us understand the relation between computation and intelligence. Coursework primarily involves paper-and-pencil problem solving and a very small amount of programming to provide students with hands-on-experience with the concepts we introduce.', \"I don't understand. Can you rephrase? \"), ()), None)  :  4\n",
      "((('Mistake', 'information credits Great Insights in Computer Science'), ('Type to chat!', \"I don't understand. Can you rephrase? \"), ()), None)  :  4\n",
      "((('Mistake', 'information credits Great Insights in Computer Science', 'information link Great Insights in Computer Science'), ('Type to chat!', \"I don't understand. Can you rephrase? \", 3), ()), None)  :  4\n",
      "((('Mistake', 'information credits Great Insights in Computer Science', 'information link Great Insights in Computer Science', 'information prerequisites Great Insights in Computer Science'), ('Type to chat!', \"I don't understand. Can you rephrase? \", 3, 'Can you elaborate on that?'), ()), None)  :  4\n",
      "((('Mistake', 'information credits Great Insights in Computer Science', 'information link Great Insights in Computer Science', 'information prerequisites Great Insights in Computer Science', 'quit'), ('Type to chat!', \"I don't understand. Can you rephrase? \", 3, 'Can you elaborate on that?', 'Please tell me more.'), ()), None)  :  4\n",
      "((('recommend', 'Mistake'), ('Type to chat!', \"I don't understand. Can you rephrase? \"), ()), 'Can you elaborate on that?')  :  2.74\n",
      "((('information id Great Insights in Computer Science', 'recommend'), ('Type to chat!', '01:198:105'), ()), 'suggesting courses, overview of CS or narrowed focus?')  :  2.74\n",
      "((('information id Great Insights in Computer Science', 'recommend', 'Mistake'), ('Type to chat!', '01:198:105', 'suggesting courses, overview of CS or narrowed focus?'), ()), 'Please tell me more.')  :  2.74\n",
      "((('information id Great Insights in Computer Science', 'recommend', 'Mistake', 'recommend'), ('Type to chat!', '01:198:105', 'suggesting courses, overview of CS or narrowed focus?', 'Please tell me more.'), ()), 'suggesting courses, overview of CS or narrowed focus?')  :  2.74\n",
      "((('information id Great Insights in Computer Science', 'recommend', 'Mistake', 'recommend', 'Mistake'), ('Type to chat!', '01:198:105', 'suggesting courses, overview of CS or narrowed focus?', 'Please tell me more.', 'suggesting courses, overview of CS or narrowed focus?'), ()), 'Can you elaborate on that?')  :  2.74\n",
      "((('information id Great Insights in Computer Science', 'recommend', 'Mistake', 'recommend', 'Mistake', 'information credits Great Insights in Computer Science', 'recommend'), ('Type to chat!', '01:198:105', 'suggesting courses, overview of CS or narrowed focus?', 'Please tell me more.', 'suggesting courses, overview of CS or narrowed focus?', 'Can you elaborate on that?', 3), ()), \"I don't understand. Can you rephrase? \")  :  2.74\n",
      "((('information id Great Insights in Computer Science', 'recommend', 'Mistake', 'recommend', 'Mistake', 'information credits Great Insights in Computer Science', 'recommend', 'Mistake'), ('Type to chat!', '01:198:105', 'suggesting courses, overview of CS or narrowed focus?', 'Please tell me more.', 'suggesting courses, overview of CS or narrowed focus?', 'Can you elaborate on that?', 3, \"I don't understand. Can you rephrase? \"), ()), 'Please tell me more.')  :  2.74\n",
      "((('information id Great Insights in Computer Science', 'recommend', 'Mistake', 'recommend', 'Mistake', 'information credits Great Insights in Computer Science', 'recommend', 'Mistake', 'recommend'), ('Type to chat!', '01:198:105', 'suggesting courses, overview of CS or narrowed focus?', 'Please tell me more.', 'suggesting courses, overview of CS or narrowed focus?', 'Can you elaborate on that?', 3, \"I don't understand. Can you rephrase? \", 'Please tell me more.'), ()), 'Can you elaborate on that?')  :  2.74\n",
      "((('information id Great Insights in Computer Science', 'recommend', 'Mistake', 'recommend', 'Mistake', 'information credits Great Insights in Computer Science', 'recommend', 'Mistake', 'recommend', 'recommend'), ('Type to chat!', '01:198:105', 'suggesting courses, overview of CS or narrowed focus?', 'Please tell me more.', 'suggesting courses, overview of CS or narrowed focus?', 'Can you elaborate on that?', 3, \"I don't understand. Can you rephrase? \", 'Please tell me more.', 'Can you elaborate on that?'), ()), \"I don't understand. Can you rephrase? \")  :  2.74\n",
      "((('information id Great Insights in Computer Science', 'recommend', 'Mistake', 'recommend', 'Mistake', 'information credits Great Insights in Computer Science', 'recommend', 'Mistake', 'recommend', 'recommend', 'Mistake'), ('Type to chat!', '01:198:105', 'suggesting courses, overview of CS or narrowed focus?', 'Please tell me more.', 'suggesting courses, overview of CS or narrowed focus?', 'Can you elaborate on that?', 3, \"I don't understand. Can you rephrase? \", 'Please tell me more.', 'Can you elaborate on that?', \"I don't understand. Can you rephrase? \"), ()), \"I don't understand. Can you rephrase? \")  :  2.74\n",
      "((('information id Great Insights in Computer Science', 'recommend', 'Mistake', 'recommend', 'Mistake', 'information credits Great Insights in Computer Science', 'recommend', 'Mistake', 'recommend', 'recommend', 'Mistake', 'recommend'), ('Type to chat!', '01:198:105', 'suggesting courses, overview of CS or narrowed focus?', 'Please tell me more.', 'suggesting courses, overview of CS or narrowed focus?', 'Can you elaborate on that?', 3, \"I don't understand. Can you rephrase? \", 'Please tell me more.', 'Can you elaborate on that?', \"I don't understand. Can you rephrase? \", \"I don't understand. Can you rephrase? \"), ()), 'suggesting courses, overview of CS or narrowed focus?')  :  2.74\n",
      "((('information id Great Insights in Computer Science', 'recommend', 'Mistake', 'recommend', 'Mistake', 'information credits Great Insights in Computer Science', 'recommend', 'Mistake', 'recommend', 'recommend', 'Mistake', 'recommend', 'recommend'), ('Type to chat!', '01:198:105', 'suggesting courses, overview of CS or narrowed focus?', 'Please tell me more.', 'suggesting courses, overview of CS or narrowed focus?', 'Can you elaborate on that?', 3, \"I don't understand. Can you rephrase? \", 'Please tell me more.', 'Can you elaborate on that?', \"I don't understand. Can you rephrase? \", \"I don't understand. Can you rephrase? \", 'suggesting courses, overview of CS or narrowed focus?'), ()), 'suggesting courses, overview of CS or narrowed focus?')  :  2.74\n",
      "((('information id Great Insights in Computer Science', 'recommend', 'Mistake', 'recommend', 'Mistake', 'information credits Great Insights in Computer Science', 'recommend', 'Mistake', 'recommend', 'recommend', 'Mistake', 'recommend', 'recommend', 'recommend'), ('Type to chat!', '01:198:105', 'suggesting courses, overview of CS or narrowed focus?', 'Please tell me more.', 'suggesting courses, overview of CS or narrowed focus?', 'Can you elaborate on that?', 3, \"I don't understand. Can you rephrase? \", 'Please tell me more.', 'Can you elaborate on that?', \"I don't understand. Can you rephrase? \", \"I don't understand. Can you rephrase? \", 'suggesting courses, overview of CS or narrowed focus?', 'suggesting courses, overview of CS or narrowed focus?'), ()), 'Please tell me more.')  :  2.74\n",
      "((('information id Great Insights in Computer Science', 'recommend', 'Mistake', 'recommend', 'Mistake', 'information credits Great Insights in Computer Science', 'recommend', 'Mistake', 'recommend', 'recommend', 'Mistake', 'recommend', 'recommend', 'recommend', 'information description Great Insights in Computer Science'), ('Type to chat!', '01:198:105', 'suggesting courses, overview of CS or narrowed focus?', 'Please tell me more.', 'suggesting courses, overview of CS or narrowed focus?', 'Can you elaborate on that?', 3, \"I don't understand. Can you rephrase? \", 'Please tell me more.', 'Can you elaborate on that?', \"I don't understand. Can you rephrase? \", \"I don't understand. Can you rephrase? \", 'suggesting courses, overview of CS or narrowed focus?', 'suggesting courses, overview of CS or narrowed focus?', 'Please tell me more.'), ()), \"I don't understand. Can you rephrase? \")  :  2.74\n",
      "((('information id Great Insights in Computer Science', 'recommend', 'Mistake', 'recommend', 'Mistake', 'information credits Great Insights in Computer Science', 'recommend', 'Mistake', 'recommend', 'recommend', 'Mistake', 'recommend', 'recommend', 'recommend', 'information description Great Insights in Computer Science', 'recommend'), ('Type to chat!', '01:198:105', 'suggesting courses, overview of CS or narrowed focus?', 'Please tell me more.', 'suggesting courses, overview of CS or narrowed focus?', 'Can you elaborate on that?', 3, \"I don't understand. Can you rephrase? \", 'Please tell me more.', 'Can you elaborate on that?', \"I don't understand. Can you rephrase? \", \"I don't understand. Can you rephrase? \", 'suggesting courses, overview of CS or narrowed focus?', 'suggesting courses, overview of CS or narrowed focus?', 'Please tell me more.', \"I don't understand. Can you rephrase? \"), ()), 'Can you elaborate on that?')  :  2.74\n",
      "((('information id Great Insights in Computer Science', 'recommend', 'Mistake', 'recommend', 'Mistake', 'information credits Great Insights in Computer Science', 'recommend', 'Mistake', 'recommend', 'recommend', 'Mistake', 'recommend', 'recommend', 'recommend', 'information description Great Insights in Computer Science', 'recommend', 'Mistake'), ('Type to chat!', '01:198:105', 'suggesting courses, overview of CS or narrowed focus?', 'Please tell me more.', 'suggesting courses, overview of CS or narrowed focus?', 'Can you elaborate on that?', 3, \"I don't understand. Can you rephrase? \", 'Please tell me more.', 'Can you elaborate on that?', \"I don't understand. Can you rephrase? \", \"I don't understand. Can you rephrase? \", 'suggesting courses, overview of CS or narrowed focus?', 'suggesting courses, overview of CS or narrowed focus?', 'Please tell me more.', \"I don't understand. Can you rephrase? \", 'Can you elaborate on that?'), ()), 'Please tell me more.')  :  2.74\n",
      "((('information id Great Insights in Computer Science', 'recommend', 'Mistake', 'recommend', 'Mistake', 'information credits Great Insights in Computer Science', 'recommend', 'Mistake', 'recommend', 'recommend', 'Mistake', 'recommend', 'recommend', 'recommend', 'information description Great Insights in Computer Science', 'recommend', 'Mistake', 'information name Great Insights in Computer Science', 'recommend'), ('Type to chat!', '01:198:105', 'suggesting courses, overview of CS or narrowed focus?', 'Please tell me more.', 'suggesting courses, overview of CS or narrowed focus?', 'Can you elaborate on that?', 3, \"I don't understand. Can you rephrase? \", 'Please tell me more.', 'Can you elaborate on that?', \"I don't understand. Can you rephrase? \", \"I don't understand. Can you rephrase? \", 'suggesting courses, overview of CS or narrowed focus?', 'suggesting courses, overview of CS or narrowed focus?', 'Please tell me more.', \"I don't understand. Can you rephrase? \", 'Can you elaborate on that?', 'Please tell me more.', 'Great Insights in Computer Science'), ()), \"I don't understand. Can you rephrase? \")  :  2.74\n",
      "((('information id Great Insights in Computer Science', 'recommend', 'Mistake', 'recommend', 'Mistake', 'information credits Great Insights in Computer Science', 'recommend', 'Mistake', 'recommend', 'recommend', 'Mistake', 'recommend', 'recommend', 'recommend', 'information description Great Insights in Computer Science', 'recommend', 'Mistake', 'information name Great Insights in Computer Science', 'recommend', 'Mistake'), ('Type to chat!', '01:198:105', 'suggesting courses, overview of CS or narrowed focus?', 'Please tell me more.', 'suggesting courses, overview of CS or narrowed focus?', 'Can you elaborate on that?', 3, \"I don't understand. Can you rephrase? \", 'Please tell me more.', 'Can you elaborate on that?', \"I don't understand. Can you rephrase? \", \"I don't understand. Can you rephrase? \", 'suggesting courses, overview of CS or narrowed focus?', 'suggesting courses, overview of CS or narrowed focus?', 'Please tell me more.', \"I don't understand. Can you rephrase? \", 'Can you elaborate on that?', 'Please tell me more.', 'Great Insights in Computer Science', \"I don't understand. Can you rephrase? \"), ()), 'Please tell me more.')  :  2.74\n",
      "((('information id Great Insights in Computer Science', 'recommend', 'Mistake', 'recommend', 'Mistake', 'information credits Great Insights in Computer Science', 'recommend', 'Mistake', 'recommend', 'recommend', 'Mistake', 'recommend', 'recommend', 'recommend', 'information description Great Insights in Computer Science', 'recommend', 'Mistake', 'information name Great Insights in Computer Science', 'recommend', 'Mistake', 'recommend'), ('Type to chat!', '01:198:105', 'suggesting courses, overview of CS or narrowed focus?', 'Please tell me more.', 'suggesting courses, overview of CS or narrowed focus?', 'Can you elaborate on that?', 3, \"I don't understand. Can you rephrase? \", 'Please tell me more.', 'Can you elaborate on that?', \"I don't understand. Can you rephrase? \", \"I don't understand. Can you rephrase? \", 'suggesting courses, overview of CS or narrowed focus?', 'suggesting courses, overview of CS or narrowed focus?', 'Please tell me more.', \"I don't understand. Can you rephrase? \", 'Can you elaborate on that?', 'Please tell me more.', 'Great Insights in Computer Science', \"I don't understand. Can you rephrase? \", 'Please tell me more.'), ()), 'suggesting courses, overview of CS or narrowed focus?')  :  2.74\n",
      "((('information id Great Insights in Computer Science', 'recommend', 'Mistake', 'recommend', 'Mistake', 'information credits Great Insights in Computer Science', 'recommend', 'Mistake', 'recommend', 'recommend', 'Mistake', 'recommend', 'recommend', 'recommend', 'information description Great Insights in Computer Science', 'recommend', 'Mistake', 'information name Great Insights in Computer Science', 'recommend', 'Mistake', 'recommend', 'recommend'), ('Type to chat!', '01:198:105', 'suggesting courses, overview of CS or narrowed focus?', 'Please tell me more.', 'suggesting courses, overview of CS or narrowed focus?', 'Can you elaborate on that?', 3, \"I don't understand. Can you rephrase? \", 'Please tell me more.', 'Can you elaborate on that?', \"I don't understand. Can you rephrase? \", \"I don't understand. Can you rephrase? \", 'suggesting courses, overview of CS or narrowed focus?', 'suggesting courses, overview of CS or narrowed focus?', 'Please tell me more.', \"I don't understand. Can you rephrase? \", 'Can you elaborate on that?', 'Please tell me more.', 'Great Insights in Computer Science', \"I don't understand. Can you rephrase? \", 'Please tell me more.', 'suggesting courses, overview of CS or narrowed focus?'), ()), 'suggesting courses, overview of CS or narrowed focus?')  :  2.74\n",
      "((('information id Great Insights in Computer Science', 'recommend', 'Mistake', 'recommend', 'Mistake', 'information credits Great Insights in Computer Science', 'recommend', 'Mistake', 'recommend', 'recommend', 'Mistake', 'recommend', 'recommend', 'recommend', 'information description Great Insights in Computer Science', 'recommend', 'Mistake', 'information name Great Insights in Computer Science', 'recommend', 'Mistake', 'recommend', 'recommend', 'information description Great Insights in Computer Science', 'Mistake'), ('Type to chat!', '01:198:105', 'suggesting courses, overview of CS or narrowed focus?', 'Please tell me more.', 'suggesting courses, overview of CS or narrowed focus?', 'Can you elaborate on that?', 3, \"I don't understand. Can you rephrase? \", 'Please tell me more.', 'Can you elaborate on that?', \"I don't understand. Can you rephrase? \", \"I don't understand. Can you rephrase? \", 'suggesting courses, overview of CS or narrowed focus?', 'suggesting courses, overview of CS or narrowed focus?', 'Please tell me more.', \"I don't understand. Can you rephrase? \", 'Can you elaborate on that?', 'Please tell me more.', 'Great Insights in Computer Science', \"I don't understand. Can you rephrase? \", 'Please tell me more.', 'suggesting courses, overview of CS or narrowed focus?', 'suggesting courses, overview of CS or narrowed focus?', 'The class is a tour of the big ideas that make computer science an academic discipline. We tour the architecture of modern computers from bits and logic all the way up to programming languages and software libraries. We probe the insights in computability and algorithm design that make possible massive search engines like Google and help us understand the relation between computation and intelligence. Coursework primarily involves paper-and-pencil problem solving and a very small amount of programming to provide students with hands-on-experience with the concepts we introduce.'), ()), 'Please tell me more.')  :  2.74\n",
      "((('information id Great Insights in Computer Science', 'recommend', 'Mistake', 'recommend', 'Mistake', 'information credits Great Insights in Computer Science', 'recommend', 'Mistake', 'recommend', 'recommend', 'Mistake', 'recommend', 'recommend', 'recommend', 'information description Great Insights in Computer Science', 'recommend', 'Mistake', 'information name Great Insights in Computer Science', 'recommend', 'Mistake', 'recommend', 'recommend', 'information description Great Insights in Computer Science', 'Mistake', 'recommend'), ('Type to chat!', '01:198:105', 'suggesting courses, overview of CS or narrowed focus?', 'Please tell me more.', 'suggesting courses, overview of CS or narrowed focus?', 'Can you elaborate on that?', 3, \"I don't understand. Can you rephrase? \", 'Please tell me more.', 'Can you elaborate on that?', \"I don't understand. Can you rephrase? \", \"I don't understand. Can you rephrase? \", 'suggesting courses, overview of CS or narrowed focus?', 'suggesting courses, overview of CS or narrowed focus?', 'Please tell me more.', \"I don't understand. Can you rephrase? \", 'Can you elaborate on that?', 'Please tell me more.', 'Great Insights in Computer Science', \"I don't understand. Can you rephrase? \", 'Please tell me more.', 'suggesting courses, overview of CS or narrowed focus?', 'suggesting courses, overview of CS or narrowed focus?', 'The class is a tour of the big ideas that make computer science an academic discipline. We tour the architecture of modern computers from bits and logic all the way up to programming languages and software libraries. We probe the insights in computability and algorithm design that make possible massive search engines like Google and help us understand the relation between computation and intelligence. Coursework primarily involves paper-and-pencil problem solving and a very small amount of programming to provide students with hands-on-experience with the concepts we introduce.', 'Please tell me more.'), ()), 'suggesting courses, overview of CS or narrowed focus?')  :  2.74\n",
      "((('information id Great Insights in Computer Science', 'recommend', 'Mistake', 'recommend', 'Mistake', 'information credits Great Insights in Computer Science', 'recommend', 'Mistake', 'recommend', 'recommend', 'Mistake', 'recommend', 'recommend', 'recommend', 'information description Great Insights in Computer Science', 'recommend', 'Mistake', 'information name Great Insights in Computer Science', 'recommend', 'Mistake', 'recommend', 'recommend', 'information description Great Insights in Computer Science', 'Mistake', 'recommend', 'information prerequisites Great Insights in Computer Science'), ('Type to chat!', '01:198:105', 'suggesting courses, overview of CS or narrowed focus?', 'Please tell me more.', 'suggesting courses, overview of CS or narrowed focus?', 'Can you elaborate on that?', 3, \"I don't understand. Can you rephrase? \", 'Please tell me more.', 'Can you elaborate on that?', \"I don't understand. Can you rephrase? \", \"I don't understand. Can you rephrase? \", 'suggesting courses, overview of CS or narrowed focus?', 'suggesting courses, overview of CS or narrowed focus?', 'Please tell me more.', \"I don't understand. Can you rephrase? \", 'Can you elaborate on that?', 'Please tell me more.', 'Great Insights in Computer Science', \"I don't understand. Can you rephrase? \", 'Please tell me more.', 'suggesting courses, overview of CS or narrowed focus?', 'suggesting courses, overview of CS or narrowed focus?', 'The class is a tour of the big ideas that make computer science an academic discipline. We tour the architecture of modern computers from bits and logic all the way up to programming languages and software libraries. We probe the insights in computability and algorithm design that make possible massive search engines like Google and help us understand the relation between computation and intelligence. Coursework primarily involves paper-and-pencil problem solving and a very small amount of programming to provide students with hands-on-experience with the concepts we introduce.', 'Please tell me more.', 'suggesting courses, overview of CS or narrowed focus?'), ()), 'Please tell me more.')  :  2.74\n",
      "((('information id Great Insights in Computer Science', 'recommend', 'Mistake', 'recommend', 'Mistake', 'information credits Great Insights in Computer Science', 'recommend', 'Mistake', 'recommend', 'recommend', 'Mistake', 'recommend', 'recommend', 'recommend', 'information description Great Insights in Computer Science', 'recommend', 'Mistake', 'information name Great Insights in Computer Science', 'recommend', 'Mistake', 'recommend', 'recommend', 'information description Great Insights in Computer Science', 'Mistake', 'recommend', 'information prerequisites Great Insights in Computer Science', 'information credits Great Insights in Computer Science'), ('Type to chat!', '01:198:105', 'suggesting courses, overview of CS or narrowed focus?', 'Please tell me more.', 'suggesting courses, overview of CS or narrowed focus?', 'Can you elaborate on that?', 3, \"I don't understand. Can you rephrase? \", 'Please tell me more.', 'Can you elaborate on that?', \"I don't understand. Can you rephrase? \", \"I don't understand. Can you rephrase? \", 'suggesting courses, overview of CS or narrowed focus?', 'suggesting courses, overview of CS or narrowed focus?', 'Please tell me more.', \"I don't understand. Can you rephrase? \", 'Can you elaborate on that?', 'Please tell me more.', 'Great Insights in Computer Science', \"I don't understand. Can you rephrase? \", 'Please tell me more.', 'suggesting courses, overview of CS or narrowed focus?', 'suggesting courses, overview of CS or narrowed focus?', 'The class is a tour of the big ideas that make computer science an academic discipline. We tour the architecture of modern computers from bits and logic all the way up to programming languages and software libraries. We probe the insights in computability and algorithm design that make possible massive search engines like Google and help us understand the relation between computation and intelligence. Coursework primarily involves paper-and-pencil problem solving and a very small amount of programming to provide students with hands-on-experience with the concepts we introduce.', 'Please tell me more.', 'suggesting courses, overview of CS or narrowed focus?', 'Please tell me more.'), ()), 'Can you elaborate on that?')  :  2.74\n",
      "((('information id Great Insights in Computer Science', 'recommend', 'Mistake', 'recommend', 'Mistake', 'information credits Great Insights in Computer Science', 'recommend', 'Mistake', 'recommend', 'recommend', 'Mistake', 'recommend', 'recommend', 'recommend', 'information description Great Insights in Computer Science', 'recommend', 'Mistake', 'information name Great Insights in Computer Science', 'recommend', 'Mistake', 'recommend', 'recommend', 'information description Great Insights in Computer Science', 'Mistake', 'recommend', 'information prerequisites Great Insights in Computer Science', 'information credits Great Insights in Computer Science', 'Mistake'), ('Type to chat!', '01:198:105', 'suggesting courses, overview of CS or narrowed focus?', 'Please tell me more.', 'suggesting courses, overview of CS or narrowed focus?', 'Can you elaborate on that?', 3, \"I don't understand. Can you rephrase? \", 'Please tell me more.', 'Can you elaborate on that?', \"I don't understand. Can you rephrase? \", \"I don't understand. Can you rephrase? \", 'suggesting courses, overview of CS or narrowed focus?', 'suggesting courses, overview of CS or narrowed focus?', 'Please tell me more.', \"I don't understand. Can you rephrase? \", 'Can you elaborate on that?', 'Please tell me more.', 'Great Insights in Computer Science', \"I don't understand. Can you rephrase? \", 'Please tell me more.', 'suggesting courses, overview of CS or narrowed focus?', 'suggesting courses, overview of CS or narrowed focus?', 'The class is a tour of the big ideas that make computer science an academic discipline. We tour the architecture of modern computers from bits and logic all the way up to programming languages and software libraries. We probe the insights in computability and algorithm design that make possible massive search engines like Google and help us understand the relation between computation and intelligence. Coursework primarily involves paper-and-pencil problem solving and a very small amount of programming to provide students with hands-on-experience with the concepts we introduce.', 'Please tell me more.', 'suggesting courses, overview of CS or narrowed focus?', 'Please tell me more.', 'Can you elaborate on that?'), ()), \"I don't understand. Can you rephrase? \")  :  2.74\n",
      "((('information id Great Insights in Computer Science', 'recommend', 'Mistake', 'recommend', 'Mistake', 'information credits Great Insights in Computer Science', 'recommend', 'Mistake', 'recommend', 'recommend', 'Mistake', 'recommend', 'recommend', 'recommend', 'information description Great Insights in Computer Science', 'recommend', 'Mistake', 'information name Great Insights in Computer Science', 'recommend', 'Mistake', 'recommend', 'recommend', 'information description Great Insights in Computer Science', 'Mistake', 'recommend', 'information prerequisites Great Insights in Computer Science', 'information credits Great Insights in Computer Science', 'Mistake', 'recommend'), ('Type to chat!', '01:198:105', 'suggesting courses, overview of CS or narrowed focus?', 'Please tell me more.', 'suggesting courses, overview of CS or narrowed focus?', 'Can you elaborate on that?', 3, \"I don't understand. Can you rephrase? \", 'Please tell me more.', 'Can you elaborate on that?', \"I don't understand. Can you rephrase? \", \"I don't understand. Can you rephrase? \", 'suggesting courses, overview of CS or narrowed focus?', 'suggesting courses, overview of CS or narrowed focus?', 'Please tell me more.', \"I don't understand. Can you rephrase? \", 'Can you elaborate on that?', 'Please tell me more.', 'Great Insights in Computer Science', \"I don't understand. Can you rephrase? \", 'Please tell me more.', 'suggesting courses, overview of CS or narrowed focus?', 'suggesting courses, overview of CS or narrowed focus?', 'The class is a tour of the big ideas that make computer science an academic discipline. We tour the architecture of modern computers from bits and logic all the way up to programming languages and software libraries. We probe the insights in computability and algorithm design that make possible massive search engines like Google and help us understand the relation between computation and intelligence. Coursework primarily involves paper-and-pencil problem solving and a very small amount of programming to provide students with hands-on-experience with the concepts we introduce.', 'Please tell me more.', 'suggesting courses, overview of CS or narrowed focus?', 'Please tell me more.', 'Can you elaborate on that?', \"I don't understand. Can you rephrase? \"), ()), 'suggesting courses, overview of CS or narrowed focus?')  :  2.74\n",
      "((('information id Great Insights in Computer Science', 'recommend', 'Mistake', 'recommend', 'Mistake', 'information credits Great Insights in Computer Science', 'recommend', 'Mistake', 'recommend', 'recommend', 'Mistake', 'recommend', 'recommend', 'recommend', 'information description Great Insights in Computer Science', 'recommend', 'Mistake', 'information name Great Insights in Computer Science', 'recommend', 'Mistake', 'recommend', 'recommend', 'information description Great Insights in Computer Science', 'Mistake', 'recommend', 'information prerequisites Great Insights in Computer Science', 'information credits Great Insights in Computer Science', 'Mistake', 'recommend', 'Mistake'), ('Type to chat!', '01:198:105', 'suggesting courses, overview of CS or narrowed focus?', 'Please tell me more.', 'suggesting courses, overview of CS or narrowed focus?', 'Can you elaborate on that?', 3, \"I don't understand. Can you rephrase? \", 'Please tell me more.', 'Can you elaborate on that?', \"I don't understand. Can you rephrase? \", \"I don't understand. Can you rephrase? \", 'suggesting courses, overview of CS or narrowed focus?', 'suggesting courses, overview of CS or narrowed focus?', 'Please tell me more.', \"I don't understand. Can you rephrase? \", 'Can you elaborate on that?', 'Please tell me more.', 'Great Insights in Computer Science', \"I don't understand. Can you rephrase? \", 'Please tell me more.', 'suggesting courses, overview of CS or narrowed focus?', 'suggesting courses, overview of CS or narrowed focus?', 'The class is a tour of the big ideas that make computer science an academic discipline. We tour the architecture of modern computers from bits and logic all the way up to programming languages and software libraries. We probe the insights in computability and algorithm design that make possible massive search engines like Google and help us understand the relation between computation and intelligence. Coursework primarily involves paper-and-pencil problem solving and a very small amount of programming to provide students with hands-on-experience with the concepts we introduce.', 'Please tell me more.', 'suggesting courses, overview of CS or narrowed focus?', 'Please tell me more.', 'Can you elaborate on that?', \"I don't understand. Can you rephrase? \", 'suggesting courses, overview of CS or narrowed focus?'), ()), 'Please tell me more.')  :  2.74\n",
      "((('Mistake', 'information SAS core 01:198:105'), ('Type to chat!', \"I don't understand. Can you rephrase? \"), ()), 'Please tell me more.')  :  2.74\n",
      "((('Mistake', 'information SAS core 01:198:105', 'Mistake'), ('Type to chat!', \"I don't understand. Can you rephrase? \", 'Please tell me more.'), ()), 'Can you elaborate on that?')  :  2.74\n",
      "((('recommend', 'Mistake'), ('Type to chat!', \"I don't understand. Can you rephrase? \"), ()), 'Please tell me more.')  :  2.74\n",
      "((('recommend', 'Mistake', 'Mistake'), ('Type to chat!', \"I don't understand. Can you rephrase? \", 'Please tell me more.'), ()), 'Can you elaborate on that?')  :  2.74\n",
      "((('recommend', 'Mistake', 'Mistake', 'Mistake'), ('Type to chat!', \"I don't understand. Can you rephrase? \", 'Please tell me more.', 'Can you elaborate on that?'), ()), 'Please tell me more.')  :  2.74\n",
      "((('Mistake', 'information SAS core 01:198:105'), ('Type to chat!', \"I don't understand. Can you rephrase? \"), ()), \"I don't understand. Can you rephrase? \")  :  2.74\n",
      "((('Mistake', 'information SAS core 01:198:105', 'recommend'), ('Type to chat!', \"I don't understand. Can you rephrase? \", \"I don't understand. Can you rephrase? \"), ()), 'Can you elaborate on that?')  :  2.74\n",
      "((('Mistake', 'information SAS core 01:198:105', 'recommend', 'information link 01:198:105', 'recommend'), ('Type to chat!', \"I don't understand. Can you rephrase? \", \"I don't understand. Can you rephrase? \", 'Can you elaborate on that?', 'https://www.cs.rutgers.edu/academics/undergraduate/course-synopses/course-details/01-198-105-great-insights-in-computer-science'), ()), 'suggesting courses, overview of CS or narrowed focus?')  :  2.74\n",
      "((('information prerequisites Great Insights in Computer Science', 'Mistake'), ('Type to chat!', '01:640:026 or 01:640:027'), ()), \"I don't understand. Can you rephrase? \")  :  2.74\n",
      "((('information prerequisites Great Insights in Computer Science', 'Mistake', 'recommend'), ('Type to chat!', '01:640:026 or 01:640:027', \"I don't understand. Can you rephrase? \"), ()), \"I don't understand. Can you rephrase? \")  :  2.74\n",
      "((('information prerequisites Great Insights in Computer Science', 'Mistake', 'recommend', 'Mistake'), ('Type to chat!', '01:640:026 or 01:640:027', \"I don't understand. Can you rephrase? \", \"I don't understand. Can you rephrase? \"), ()), 'Can you elaborate on that?')  :  2.74\n",
      "((('information prerequisites Great Insights in Computer Science', 'Mistake', 'recommend', 'Mistake', 'Mistake'), ('Type to chat!', '01:640:026 or 01:640:027', \"I don't understand. Can you rephrase? \", \"I don't understand. Can you rephrase? \", 'Can you elaborate on that?'), ()), 'Please tell me more.')  :  2.74\n",
      "((('recommend', 'Mistake'), ('Type to chat!', 'Can you elaborate on that?'), ()), \"I don't understand. Can you rephrase? \")  :  2.74\n",
      "((('recommend', 'Mistake', 'Mistake'), ('Type to chat!', 'Can you elaborate on that?', \"I don't understand. Can you rephrase? \"), ()), 'Can you elaborate on that?')  :  2.74\n",
      "((('Mistake', 'information prerequisites 01:198:105', 'recommend'), ('Type to chat!', \"I don't understand. Can you rephrase? \", '01:640:026 or 01:640:027'), ()), 'Can you elaborate on that?')  :  2.74\n",
      "((('Mistake', 'information prerequisites 01:198:105', 'recommend', 'recommend'), ('Type to chat!', \"I don't understand. Can you rephrase? \", '01:640:026 or 01:640:027', 'Can you elaborate on that?'), ()), 'suggesting courses, overview of CS or narrowed focus?')  :  2.74\n",
      "((('Mistake', 'information prerequisites 01:198:105', 'recommend', 'recommend', 'information link 01:198:105'), ('Type to chat!', \"I don't understand. Can you rephrase? \", '01:640:026 or 01:640:027', 'Can you elaborate on that?', 'suggesting courses, overview of CS or narrowed focus?'), ()), 'Please tell me more.')  :  2.74\n",
      "((('Mistake', 'information prerequisites 01:198:105', 'recommend', 'recommend', 'information link 01:198:105', 'information prerequisites 01:198:105', 'Mistake'), ('Type to chat!', \"I don't understand. Can you rephrase? \", '01:640:026 or 01:640:027', 'Can you elaborate on that?', 'suggesting courses, overview of CS or narrowed focus?', 'Please tell me more.', '01:640:026 or 01:640:027'), ()), \"I don't understand. Can you rephrase? \")  :  2.74\n",
      "((('Mistake', 'information prerequisites 01:198:105', 'recommend', 'recommend', 'information link 01:198:105', 'information prerequisites 01:198:105', 'Mistake', 'Mistake'), ('Type to chat!', \"I don't understand. Can you rephrase? \", '01:640:026 or 01:640:027', 'Can you elaborate on that?', 'suggesting courses, overview of CS or narrowed focus?', 'Please tell me more.', '01:640:026 or 01:640:027', \"I don't understand. Can you rephrase? \"), ()), 'Please tell me more.')  :  2.74\n",
      "((('Mistake', 'information prerequisites 01:198:105', 'recommend', 'recommend', 'information link 01:198:105', 'information prerequisites 01:198:105', 'Mistake', 'Mistake', 'Mistake'), ('Type to chat!', \"I don't understand. Can you rephrase? \", '01:640:026 or 01:640:027', 'Can you elaborate on that?', 'suggesting courses, overview of CS or narrowed focus?', 'Please tell me more.', '01:640:026 or 01:640:027', \"I don't understand. Can you rephrase? \", 'Please tell me more.'), ()), 'Please tell me more.')  :  2.74\n",
      "((('recommend', 'recommend'), ('Type to chat!', 'suggesting courses, overview of CS or narrowed focus?'), ()), 'Can you elaborate on that?')  :  2.74\n",
      "((('recommend', 'recommend'), ('Type to chat!', 'Can you elaborate on that?'), ()), 'suggesting courses, overview of CS or narrowed focus?')  :  2.74\n",
      "((('recommend', 'recommend', 'information id Great Insights in Computer Science', 'recommend'), ('Type to chat!', 'Can you elaborate on that?', 'suggesting courses, overview of CS or narrowed focus?', '01:198:105'), ()), 'suggesting courses, overview of CS or narrowed focus?')  :  2.74\n",
      "((('recommend', 'Mistake'), ('Type to chat!', 'Please tell me more.'), ()), \"I don't understand. Can you rephrase? \")  :  2.74\n",
      "((('recommend', 'Mistake', 'recommend'), ('Type to chat!', 'Please tell me more.', \"I don't understand. Can you rephrase? \"), ()), 'Can you elaborate on that?')  :  2.74\n",
      "((('recommend', 'Mistake', 'recommend', 'Mistake'), ('Type to chat!', 'Please tell me more.', \"I don't understand. Can you rephrase? \", 'Can you elaborate on that?'), ()), 'Please tell me more.')  :  2.74\n",
      "((('recommend', 'Mistake', 'recommend', 'Mistake', 'Mistake'), ('Type to chat!', 'Please tell me more.', \"I don't understand. Can you rephrase? \", 'Can you elaborate on that?', 'Please tell me more.'), ()), 'Can you elaborate on that?')  :  2.74\n",
      "((('recommend', 'Mistake', 'recommend', 'Mistake', 'Mistake', 'recommend'), ('Type to chat!', 'Please tell me more.', \"I don't understand. Can you rephrase? \", 'Can you elaborate on that?', 'Please tell me more.', 'Can you elaborate on that?'), ()), 'suggesting courses, overview of CS or narrowed focus?')  :  2.74\n",
      "((('recommend', 'Mistake', 'recommend', 'Mistake', 'Mistake', 'recommend', 'Mistake'), ('Type to chat!', 'Please tell me more.', \"I don't understand. Can you rephrase? \", 'Can you elaborate on that?', 'Please tell me more.', 'Can you elaborate on that?', 'suggesting courses, overview of CS or narrowed focus?'), ()), 'Please tell me more.')  :  2.74\n",
      "((('recommend', 'Mistake', 'recommend', 'Mistake', 'Mistake', 'recommend', 'Mistake', 'Mistake'), ('Type to chat!', 'Please tell me more.', \"I don't understand. Can you rephrase? \", 'Can you elaborate on that?', 'Please tell me more.', 'Can you elaborate on that?', 'suggesting courses, overview of CS or narrowed focus?', 'Please tell me more.'), ()), \"I don't understand. Can you rephrase? \")  :  2.74\n",
      "((('recommend', 'information link 01:198:105'), ('Type to chat!', \"I don't understand. Can you rephrase? \"), ()), 'Please tell me more.')  :  2.74\n",
      "((('recommend', 'information link 01:198:105', 'information SAS core 01:198:105'), ('Type to chat!', \"I don't understand. Can you rephrase? \", 'Please tell me more.'), ()), 'Can you elaborate on that?')  :  2.74\n",
      "((('Mistake', 'Mistake'), ('Type to chat!', 'Please tell me more.'), ()), \"I don't understand. Can you rephrase? \")  :  2.74\n",
      "((('Mistake', 'Mistake', 'information id Great Insights in Computer Science', 'Mistake'), ('Type to chat!', 'Please tell me more.', \"I don't understand. Can you rephrase? \", '01:198:105'), ()), \"I don't understand. Can you rephrase? \")  :  2.74\n",
      "((('Mistake', 'Mistake', 'information id Great Insights in Computer Science', 'Mistake', 'Mistake'), ('Type to chat!', 'Please tell me more.', \"I don't understand. Can you rephrase? \", '01:198:105', \"I don't understand. Can you rephrase? \"), ()), 'Can you elaborate on that?')  :  2.74\n",
      "((('Mistake', 'Mistake', 'information id Great Insights in Computer Science', 'Mistake', 'Mistake', 'information link 01:198:105'), ('Type to chat!', 'Please tell me more.', \"I don't understand. Can you rephrase? \", '01:198:105', \"I don't understand. Can you rephrase? \", 'Can you elaborate on that?'), ()), 'Please tell me more.')  :  2.74\n",
      "((('Mistake', 'Mistake', 'information id Great Insights in Computer Science', 'Mistake', 'Mistake', 'information link 01:198:105', 'information prerequisites 01:198:105'), ('Type to chat!', 'Please tell me more.', \"I don't understand. Can you rephrase? \", '01:198:105', \"I don't understand. Can you rephrase? \", 'Can you elaborate on that?', 'Please tell me more.'), ()), \"I don't understand. Can you rephrase? \")  :  2.74\n",
      "((('Mistake', 'Mistake', 'information id Great Insights in Computer Science', 'Mistake', 'Mistake', 'information link 01:198:105', 'information prerequisites 01:198:105', 'Mistake'), ('Type to chat!', 'Please tell me more.', \"I don't understand. Can you rephrase? \", '01:198:105', \"I don't understand. Can you rephrase? \", 'Can you elaborate on that?', 'Please tell me more.', \"I don't understand. Can you rephrase? \"), ()), \"I don't understand. Can you rephrase? \")  :  2.74\n",
      "((('Mistake', 'Mistake', 'information id Great Insights in Computer Science', 'Mistake', 'Mistake', 'information link 01:198:105', 'information prerequisites 01:198:105', 'Mistake', 'Mistake'), ('Type to chat!', 'Please tell me more.', \"I don't understand. Can you rephrase? \", '01:198:105', \"I don't understand. Can you rephrase? \", 'Can you elaborate on that?', 'Please tell me more.', \"I don't understand. Can you rephrase? \", \"I don't understand. Can you rephrase? \"), ()), \"I don't understand. Can you rephrase? \")  :  2.74\n",
      "((('Mistake', 'recommend'), ('Type to chat!', \"I don't understand. Can you rephrase? \"), ()), 'suggesting courses, overview of CS or narrowed focus?')  :  2.74\n",
      "((('recommend', 'recommend'), ('Type to chat!', \"I don't understand. Can you rephrase? \"), ()), 'Can you elaborate on that?')  :  2.74\n",
      "((('recommend', 'recommend', 'information credits 01:198:105', 'Mistake'), ('Type to chat!', \"I don't understand. Can you rephrase? \", 'Can you elaborate on that?', 3), ()), \"I don't understand. Can you rephrase? \")  :  2.74\n",
      "((('recommend', 'recommend', 'information credits 01:198:105', 'Mistake', 'information description Great Insights in Computer Science'), ('Type to chat!', \"I don't understand. Can you rephrase? \", 'Can you elaborate on that?', 3, \"I don't understand. Can you rephrase? \"), ()), \"I don't understand. Can you rephrase? \")  :  2.74\n",
      "((('recommend', 'recommend', 'information credits 01:198:105', 'Mistake', 'information description Great Insights in Computer Science', 'recommend'), ('Type to chat!', \"I don't understand. Can you rephrase? \", 'Can you elaborate on that?', 3, \"I don't understand. Can you rephrase? \", \"I don't understand. Can you rephrase? \"), ()), \"I don't understand. Can you rephrase? \")  :  2.74\n",
      "((('recommend', 'recommend', 'information credits 01:198:105', 'Mistake', 'information description Great Insights in Computer Science', 'recommend', 'information keywords Great Insights in Computer Science'), ('Type to chat!', \"I don't understand. Can you rephrase? \", 'Can you elaborate on that?', 3, \"I don't understand. Can you rephrase? \", \"I don't understand. Can you rephrase? \", \"I don't understand. Can you rephrase? \"), ()), 'Please tell me more.')  :  2.74\n",
      "((('recommend', 'recommend', 'information credits 01:198:105', 'Mistake', 'information description Great Insights in Computer Science', 'recommend', 'information keywords Great Insights in Computer Science', 'recommend'), ('Type to chat!', \"I don't understand. Can you rephrase? \", 'Can you elaborate on that?', 3, \"I don't understand. Can you rephrase? \", \"I don't understand. Can you rephrase? \", \"I don't understand. Can you rephrase? \", 'Please tell me more.'), ()), 'suggesting courses, overview of CS or narrowed focus?')  :  2.74\n",
      "((('recommend', 'recommend', 'information credits 01:198:105', 'Mistake', 'information description Great Insights in Computer Science', 'recommend', 'information keywords Great Insights in Computer Science', 'recommend', 'Mistake'), ('Type to chat!', \"I don't understand. Can you rephrase? \", 'Can you elaborate on that?', 3, \"I don't understand. Can you rephrase? \", \"I don't understand. Can you rephrase? \", \"I don't understand. Can you rephrase? \", 'Please tell me more.', 'suggesting courses, overview of CS or narrowed focus?'), ()), \"I don't understand. Can you rephrase? \")  :  2.74\n",
      "((('information keywords Great Insights in Computer Science', 'information prerequisites Great Insights in Computer Science'), ('Type to chat!', 'introduction, elementary,'), ()), 'Can you elaborate on that?')  :  2.74\n",
      "((('Mistake', 'information link 01:198:105'), ('Type to chat!', 'Can you elaborate on that?'), ()), 'Can you elaborate on that?')  :  2.74\n",
      "((('Mistake', 'information link 01:198:105', 'Mistake'), ('Type to chat!', 'Can you elaborate on that?', 'Can you elaborate on that?'), ()), \"I don't understand. Can you rephrase? \")  :  2.74\n",
      "((('Mistake', 'information link 01:198:105', 'Mistake', 'information link Great Insights in Computer Science'), ('Type to chat!', 'Can you elaborate on that?', 'Can you elaborate on that?', \"I don't understand. Can you rephrase? \"), ()), \"I don't understand. Can you rephrase? \")  :  2.74\n",
      "((('Mistake', 'information link 01:198:105', 'Mistake', 'information link Great Insights in Computer Science', 'Mistake'), ('Type to chat!', 'Can you elaborate on that?', 'Can you elaborate on that?', \"I don't understand. Can you rephrase? \", \"I don't understand. Can you rephrase? \"), ()), 'Please tell me more.')  :  2.74\n",
      "((('Mistake', 'information link 01:198:105', 'Mistake', 'information link Great Insights in Computer Science', 'Mistake', 'recommend'), ('Type to chat!', 'Can you elaborate on that?', 'Can you elaborate on that?', \"I don't understand. Can you rephrase? \", \"I don't understand. Can you rephrase? \", 'Please tell me more.'), ()), 'Can you elaborate on that?')  :  2.74\n",
      "((('Mistake', 'information link 01:198:105', 'Mistake', 'information link Great Insights in Computer Science', 'Mistake', 'recommend', 'information keywords 01:198:105', 'Mistake'), ('Type to chat!', 'Can you elaborate on that?', 'Can you elaborate on that?', \"I don't understand. Can you rephrase? \", \"I don't understand. Can you rephrase? \", 'Please tell me more.', 'Can you elaborate on that?', 'introduction, elementary,'), ()), 'Please tell me more.')  :  2.74\n",
      "((('information keywords 01:198:105',), ('Type to chat!',), ()), 'Please tell me more.')  :  2.74\n",
      "((('information keywords 01:198:105', 'information prerequisites Great Insights in Computer Science'), ('Type to chat!', 'Please tell me more.'), ()), 'Please tell me more.')  :  2.74\n",
      "((('information keywords 01:198:105', 'information prerequisites Great Insights in Computer Science', 'Mistake'), ('Type to chat!', 'Please tell me more.', 'Please tell me more.'), ()), 'Can you elaborate on that?')  :  2.74\n",
      "((('information keywords 01:198:105', 'information prerequisites Great Insights in Computer Science', 'Mistake', 'information id Great Insights in Computer Science'), ('Type to chat!', 'Please tell me more.', 'Please tell me more.', 'Can you elaborate on that?'), ()), \"I don't understand. Can you rephrase? \")  :  2.74\n",
      "((('recommend', 'Mistake', 'Mistake'), ('Type to chat!', 'suggesting courses, overview of CS or narrowed focus?', 'Can you elaborate on that?'), ()), 'Can you elaborate on that?')  :  2.74\n",
      "((('recommend', 'Mistake', 'Mistake', 'Mistake'), ('Type to chat!', 'suggesting courses, overview of CS or narrowed focus?', 'Can you elaborate on that?', 'Can you elaborate on that?'), ()), \"I don't understand. Can you rephrase? \")  :  2.74\n",
      "((('recommend', 'information description 01:198:105', 'Mistake'), ('Type to chat!', 'Can you elaborate on that?', 'The class is a tour of the big ideas that make computer science an academic discipline. We tour the architecture of modern computers from bits and logic all the way up to programming languages and software libraries. We probe the insights in computability and algorithm design that make possible massive search engines like Google and help us understand the relation between computation and intelligence. Coursework primarily involves paper-and-pencil problem solving and a very small amount of programming to provide students with hands-on-experience with the concepts we introduce.'), ()), \"I don't understand. Can you rephrase? \")  :  2.74\n",
      "((('recommend', 'information description 01:198:105', 'Mistake', 'Mistake'), ('Type to chat!', 'Can you elaborate on that?', 'The class is a tour of the big ideas that make computer science an academic discipline. We tour the architecture of modern computers from bits and logic all the way up to programming languages and software libraries. We probe the insights in computability and algorithm design that make possible massive search engines like Google and help us understand the relation between computation and intelligence. Coursework primarily involves paper-and-pencil problem solving and a very small amount of programming to provide students with hands-on-experience with the concepts we introduce.', \"I don't understand. Can you rephrase? \"), ()), 'Please tell me more.')  :  2.74\n",
      "((('recommend', 'information description 01:198:105', 'Mistake', 'Mistake', 'Mistake'), ('Type to chat!', 'Can you elaborate on that?', 'The class is a tour of the big ideas that make computer science an academic discipline. We tour the architecture of modern computers from bits and logic all the way up to programming languages and software libraries. We probe the insights in computability and algorithm design that make possible massive search engines like Google and help us understand the relation between computation and intelligence. Coursework primarily involves paper-and-pencil problem solving and a very small amount of programming to provide students with hands-on-experience with the concepts we introduce.', \"I don't understand. Can you rephrase? \", 'Please tell me more.'), ()), 'Can you elaborate on that?')  :  2.74\n",
      "((('information prerequisites Great Insights in Computer Science', 'Mistake'), ('Type to chat!', '01:640:026 or 01:640:027'), ()), 'Can you elaborate on that?')  :  2.74\n",
      "((('information prerequisites Great Insights in Computer Science', 'Mistake', 'recommend'), ('Type to chat!', '01:640:026 or 01:640:027', 'Can you elaborate on that?'), ()), 'suggesting courses, overview of CS or narrowed focus?')  :  2.74\n",
      "((('information prerequisites Great Insights in Computer Science', 'Mistake', 'recommend', 'information credits Great Insights in Computer Science', 'recommend'), ('Type to chat!', '01:640:026 or 01:640:027', 'Can you elaborate on that?', 'suggesting courses, overview of CS or narrowed focus?', 3), ()), 'suggesting courses, overview of CS or narrowed focus?')  :  2.74\n",
      "((('information SAS core 01:198:105',), ('Type to chat!',), ()), 'Please tell me more.')  :  2.74\n",
      "((('information SAS core 01:198:105', 'recommend'), ('Type to chat!', 'Please tell me more.'), ()), \"I don't understand. Can you rephrase? \")  :  2.74\n",
      "((('information link Great Insights in Computer Science', 'information SAS core 01:198:105'), ('Type to chat!', 'https://www.cs.rutgers.edu/academics/undergraduate/course-synopses/course-details/01-198-105-great-insights-in-computer-science'), ()), \"I don't understand. Can you rephrase? \")  :  2.74\n",
      "((('information SAS core 01:198:105', 'Mistake'), ('Type to chat!', 'QR, ITR'), ()), 'Can you elaborate on that?')  :  2.74\n",
      "((('information SAS core 01:198:105', 'Mistake', 'recommend'), ('Type to chat!', 'QR, ITR', 'Can you elaborate on that?'), ()), 'Can you elaborate on that?')  :  2.74\n",
      "((('information SAS core 01:198:105', 'Mistake', 'recommend', 'information keywords 01:198:105', 'recommend'), ('Type to chat!', 'QR, ITR', 'Can you elaborate on that?', 'Can you elaborate on that?', 'introduction, elementary,'), ()), 'Please tell me more.')  :  2.74\n",
      "((('information SAS core 01:198:105', 'Mistake', 'recommend', 'information keywords 01:198:105', 'recommend', 'Mistake'), ('Type to chat!', 'QR, ITR', 'Can you elaborate on that?', 'Can you elaborate on that?', 'introduction, elementary,', 'Please tell me more.'), ()), \"I don't understand. Can you rephrase? \")  :  2.74\n",
      "((('information SAS core 01:198:105', 'Mistake', 'recommend', 'information keywords 01:198:105', 'recommend', 'Mistake', 'recommend'), ('Type to chat!', 'QR, ITR', 'Can you elaborate on that?', 'Can you elaborate on that?', 'introduction, elementary,', 'Please tell me more.', \"I don't understand. Can you rephrase? \"), ()), 'suggesting courses, overview of CS or narrowed focus?')  :  2.74\n",
      "((('information SAS core 01:198:105', 'Mistake', 'recommend', 'information keywords 01:198:105', 'recommend', 'Mistake', 'recommend', 'recommend'), ('Type to chat!', 'QR, ITR', 'Can you elaborate on that?', 'Can you elaborate on that?', 'introduction, elementary,', 'Please tell me more.', \"I don't understand. Can you rephrase? \", 'suggesting courses, overview of CS or narrowed focus?'), ()), 'Can you elaborate on that?')  :  2.74\n",
      "((('information SAS core 01:198:105', 'Mistake', 'recommend', 'information keywords 01:198:105', 'recommend', 'Mistake', 'recommend', 'recommend', 'information prerequisites Great Insights in Computer Science'), ('Type to chat!', 'QR, ITR', 'Can you elaborate on that?', 'Can you elaborate on that?', 'introduction, elementary,', 'Please tell me more.', \"I don't understand. Can you rephrase? \", 'suggesting courses, overview of CS or narrowed focus?', 'Can you elaborate on that?'), ()), 'Can you elaborate on that?')  :  2.74\n",
      "((('recommend', 'recommend'), ('Type to chat!', 'suggesting courses, overview of CS or narrowed focus?'), ()), 'suggesting courses, overview of CS or narrowed focus?')  :  2.74\n",
      "((('Mistake', 'information SAS core 01:198:105'), ('Type to chat!', 'Can you elaborate on that?'), ()), 'Can you elaborate on that?')  :  2.74\n",
      "((('Mistake', 'information SAS core 01:198:105', 'Mistake'), ('Type to chat!', 'Can you elaborate on that?', 'Can you elaborate on that?'), ()), 'Can you elaborate on that?')  :  2.74\n",
      "((('information prerequisites 01:198:105', 'recommend'), ('Type to chat!', '01:640:026 or 01:640:027'), ()), \"I don't understand. Can you rephrase? \")  :  2.74\n",
      "((('information prerequisites 01:198:105', 'recommend', 'recommend'), ('Type to chat!', '01:640:026 or 01:640:027', \"I don't understand. Can you rephrase? \"), ()), 'suggesting courses, overview of CS or narrowed focus?')  :  2.74\n",
      "((('information prerequisites 01:198:105', 'recommend', 'recommend', 'recommend'), ('Type to chat!', '01:640:026 or 01:640:027', \"I don't understand. Can you rephrase? \", 'suggesting courses, overview of CS or narrowed focus?'), ()), 'suggesting courses, overview of CS or narrowed focus?')  :  2.74\n",
      "((('Mistake', 'information id Great Insights in Computer Science', 'Mistake'), ('Type to chat!', \"I don't understand. Can you rephrase? \", '01:198:105'), ()), 'Can you elaborate on that?')  :  2.74\n",
      "((('recommend', 'recommend'), ('Type to chat!', 'suggesting courses, overview of CS or narrowed focus?'), ()), \"I don't understand. Can you rephrase? \")  :  2.74\n",
      "((('recommend', 'recommend', 'recommend'), ('Type to chat!', 'suggesting courses, overview of CS or narrowed focus?', \"I don't understand. Can you rephrase? \"), ()), 'Please tell me more.')  :  2.74\n",
      "((('recommend', 'recommend', 'recommend', 'information id 01:198:105'), ('Type to chat!', 'suggesting courses, overview of CS or narrowed focus?', \"I don't understand. Can you rephrase? \", 'Please tell me more.'), ()), 'Please tell me more.')  :  2.74\n",
      "((('recommend', 'recommend', 'recommend', 'information id 01:198:105', 'Mistake'), ('Type to chat!', 'suggesting courses, overview of CS or narrowed focus?', \"I don't understand. Can you rephrase? \", 'Please tell me more.', 'Please tell me more.'), ()), 'Please tell me more.')  :  2.74\n",
      "((('recommend', 'recommend', 'recommend', 'information id 01:198:105', 'Mistake', 'Mistake'), ('Type to chat!', 'suggesting courses, overview of CS or narrowed focus?', \"I don't understand. Can you rephrase? \", 'Please tell me more.', 'Please tell me more.', 'Please tell me more.'), ()), \"I don't understand. Can you rephrase? \")  :  2.74\n",
      "((('recommend', 'recommend', 'recommend', 'information id 01:198:105', 'Mistake', 'Mistake', 'recommend'), ('Type to chat!', 'suggesting courses, overview of CS or narrowed focus?', \"I don't understand. Can you rephrase? \", 'Please tell me more.', 'Please tell me more.', 'Please tell me more.', \"I don't understand. Can you rephrase? \"), ()), 'suggesting courses, overview of CS or narrowed focus?')  :  2.74\n",
      "((('recommend', 'recommend', 'recommend', 'information id 01:198:105', 'Mistake', 'Mistake', 'recommend', 'recommend'), ('Type to chat!', 'suggesting courses, overview of CS or narrowed focus?', \"I don't understand. Can you rephrase? \", 'Please tell me more.', 'Please tell me more.', 'Please tell me more.', \"I don't understand. Can you rephrase? \", 'suggesting courses, overview of CS or narrowed focus?'), ()), 'suggesting courses, overview of CS or narrowed focus?')  :  2.74\n",
      "((('Mistake', 'Mistake'), ('Type to chat!', \"I don't understand. Can you rephrase? \"), ()), 'Please tell me more.')  :  2.74\n",
      "((('Mistake', 'Mistake', 'recommend'), ('Type to chat!', \"I don't understand. Can you rephrase? \", 'Please tell me more.'), ()), 'suggesting courses, overview of CS or narrowed focus?')  :  2.74\n",
      "((('Mistake', 'Mistake', 'recommend', 'Mistake'), ('Type to chat!', \"I don't understand. Can you rephrase? \", 'Please tell me more.', 'suggesting courses, overview of CS or narrowed focus?'), ()), 'Can you elaborate on that?')  :  2.74\n",
      "((('Mistake', 'Mistake'), ('Type to chat!', \"I don't understand. Can you rephrase? \"), ()), 'Can you elaborate on that?')  :  2.74\n",
      "((('Mistake', 'information description Great Insights in Computer Science', 'Mistake'), ('Type to chat!', 'Can you elaborate on that?', 'The class is a tour of the big ideas that make computer science an academic discipline. We tour the architecture of modern computers from bits and logic all the way up to programming languages and software libraries. We probe the insights in computability and algorithm design that make possible massive search engines like Google and help us understand the relation between computation and intelligence. Coursework primarily involves paper-and-pencil problem solving and a very small amount of programming to provide students with hands-on-experience with the concepts we introduce.'), ()), 'Can you elaborate on that?')  :  2.74\n",
      "((('Mistake', 'information description Great Insights in Computer Science', 'Mistake', 'recommend'), ('Type to chat!', 'Can you elaborate on that?', 'The class is a tour of the big ideas that make computer science an academic discipline. We tour the architecture of modern computers from bits and logic all the way up to programming languages and software libraries. We probe the insights in computability and algorithm design that make possible massive search engines like Google and help us understand the relation between computation and intelligence. Coursework primarily involves paper-and-pencil problem solving and a very small amount of programming to provide students with hands-on-experience with the concepts we introduce.', 'Can you elaborate on that?'), ()), 'suggesting courses, overview of CS or narrowed focus?')  :  2.74\n",
      "((('Mistake', 'information description Great Insights in Computer Science', 'Mistake', 'recommend', 'recommend'), ('Type to chat!', 'Can you elaborate on that?', 'The class is a tour of the big ideas that make computer science an academic discipline. We tour the architecture of modern computers from bits and logic all the way up to programming languages and software libraries. We probe the insights in computability and algorithm design that make possible massive search engines like Google and help us understand the relation between computation and intelligence. Coursework primarily involves paper-and-pencil problem solving and a very small amount of programming to provide students with hands-on-experience with the concepts we introduce.', 'Can you elaborate on that?', 'suggesting courses, overview of CS or narrowed focus?'), ()), 'Please tell me more.')  :  2.74\n",
      "((('Mistake', 'information description Great Insights in Computer Science', 'Mistake', 'recommend', 'recommend', 'Mistake'), ('Type to chat!', 'Can you elaborate on that?', 'The class is a tour of the big ideas that make computer science an academic discipline. We tour the architecture of modern computers from bits and logic all the way up to programming languages and software libraries. We probe the insights in computability and algorithm design that make possible massive search engines like Google and help us understand the relation between computation and intelligence. Coursework primarily involves paper-and-pencil problem solving and a very small amount of programming to provide students with hands-on-experience with the concepts we introduce.', 'Can you elaborate on that?', 'suggesting courses, overview of CS or narrowed focus?', 'Please tell me more.'), ()), 'Can you elaborate on that?')  :  2.74\n",
      "((('Mistake', 'information description Great Insights in Computer Science', 'Mistake', 'recommend', 'recommend', 'Mistake', 'information credits 01:198:105'), ('Type to chat!', 'Can you elaborate on that?', 'The class is a tour of the big ideas that make computer science an academic discipline. We tour the architecture of modern computers from bits and logic all the way up to programming languages and software libraries. We probe the insights in computability and algorithm design that make possible massive search engines like Google and help us understand the relation between computation and intelligence. Coursework primarily involves paper-and-pencil problem solving and a very small amount of programming to provide students with hands-on-experience with the concepts we introduce.', 'Can you elaborate on that?', 'suggesting courses, overview of CS or narrowed focus?', 'Please tell me more.', 'Can you elaborate on that?'), ()), \"I don't understand. Can you rephrase? \")  :  2.74\n",
      "((('recommend', 'Mistake', 'recommend'), ('Type to chat!', 'suggesting courses, overview of CS or narrowed focus?', 'Can you elaborate on that?'), ()), 'suggesting courses, overview of CS or narrowed focus?')  :  2.74\n",
      "((('Mistake', 'Mistake'), ('Type to chat!', \"I don't understand. Can you rephrase? \"), ()), \"I don't understand. Can you rephrase? \")  :  2.74\n",
      "((('Mistake', 'Mistake', 'recommend'), ('Type to chat!', \"I don't understand. Can you rephrase? \", \"I don't understand. Can you rephrase? \"), ()), 'Can you elaborate on that?')  :  2.74\n",
      "((('information description Great Insights in Computer Science',), ('Type to chat!',), ()), 'Please tell me more.')  :  2.74\n",
      "((('information description Great Insights in Computer Science', 'recommend'), ('Type to chat!', 'Please tell me more.'), ()), 'suggesting courses, overview of CS or narrowed focus?')  :  2.74\n",
      "((('recommend', 'Mistake'), ('Type to chat!', 'suggesting courses, overview of CS or narrowed focus?'), ()), \"I don't understand. Can you rephrase? \")  :  2.74\n",
      "((('recommend', 'Mistake', 'Mistake'), ('Type to chat!', 'suggesting courses, overview of CS or narrowed focus?', \"I don't understand. Can you rephrase? \"), ()), 'Please tell me more.')  :  2.74\n",
      "((('recommend', 'Mistake', 'Mistake', 'Mistake'), ('Type to chat!', 'suggesting courses, overview of CS or narrowed focus?', \"I don't understand. Can you rephrase? \", 'Please tell me more.'), ()), 'Can you elaborate on that?')  :  2.74\n",
      "((('recommend', 'Mistake', 'Mistake', 'Mistake', 'Mistake'), ('Type to chat!', 'suggesting courses, overview of CS or narrowed focus?', \"I don't understand. Can you rephrase? \", 'Please tell me more.', 'Can you elaborate on that?'), ()), \"I don't understand. Can you rephrase? \")  :  2.74\n",
      "((('Mistake', 'Mistake'), ('Type to chat!', 'Can you elaborate on that?'), ()), \"I don't understand. Can you rephrase? \")  :  2.74\n",
      "((('recommend', 'information prerequisites Great Insights in Computer Science'), ('Type to chat!', 'suggesting courses, overview of CS or narrowed focus?'), ()), 'Please tell me more.')  :  2.74\n",
      "((('Mistake', 'recommend'), ('Type to chat!', 'Please tell me more.'), ()), 'suggesting courses, overview of CS or narrowed focus?')  :  2.74\n",
      "((('information id Great Insights in Computer Science', 'Mistake'), ('Type to chat!', '01:198:105'), ()), 'Can you elaborate on that?')  :  2.74\n",
      "((('information id Great Insights in Computer Science', 'Mistake', 'Mistake'), ('Type to chat!', '01:198:105', 'Can you elaborate on that?'), ()), 'Please tell me more.')  :  2.74\n",
      "((('Mistake', 'information keywords 01:198:105'), ('Type to chat!', 'Please tell me more.'), ()), 'Please tell me more.')  :  2.74\n",
      "((('Mistake', 'information keywords 01:198:105', 'recommend'), ('Type to chat!', 'Please tell me more.', 'Please tell me more.'), ()), 'suggesting courses, overview of CS or narrowed focus?')  :  2.74\n",
      "((('Mistake', 'information keywords 01:198:105', 'recommend', 'Mistake'), ('Type to chat!', 'Please tell me more.', 'Please tell me more.', 'suggesting courses, overview of CS or narrowed focus?'), ()), 'Can you elaborate on that?')  :  2.74\n",
      "((('recommend', 'information credits Great Insights in Computer Science', 'recommend'), ('Type to chat!', 'Please tell me more.', 3), ()), 'suggesting courses, overview of CS or narrowed focus?')  :  2.74\n",
      "((('recommend', 'information credits Great Insights in Computer Science', 'recommend', 'Mistake'), ('Type to chat!', 'Please tell me more.', 3, 'suggesting courses, overview of CS or narrowed focus?'), ()), 'Please tell me more.')  :  2.74\n",
      "((('recommend', 'information credits Great Insights in Computer Science', 'recommend', 'Mistake', 'information credits 01:198:105', 'Mistake'), ('Type to chat!', 'Please tell me more.', 3, 'suggesting courses, overview of CS or narrowed focus?', 'Please tell me more.', 3), ()), 'Please tell me more.')  :  2.74\n",
      "((('information link 01:198:105', 'recommend'), ('Type to chat!', 'https://www.cs.rutgers.edu/academics/undergraduate/course-synopses/course-details/01-198-105-great-insights-in-computer-science'), ()), 'Please tell me more.')  :  2.74\n",
      "((('information link 01:198:105', 'recommend', 'information description 01:198:105', 'information prerequisites Great Insights in Computer Science'), ('Type to chat!', 'https://www.cs.rutgers.edu/academics/undergraduate/course-synopses/course-details/01-198-105-great-insights-in-computer-science', 'Please tell me more.', 'The class is a tour of the big ideas that make computer science an academic discipline. We tour the architecture of modern computers from bits and logic all the way up to programming languages and software libraries. We probe the insights in computability and algorithm design that make possible massive search engines like Google and help us understand the relation between computation and intelligence. Coursework primarily involves paper-and-pencil problem solving and a very small amount of programming to provide students with hands-on-experience with the concepts we introduce.'), ()), 'Can you elaborate on that?')  :  2.74\n",
      "((('information link 01:198:105', 'recommend', 'information description 01:198:105', 'information prerequisites Great Insights in Computer Science', 'recommend'), ('Type to chat!', 'https://www.cs.rutgers.edu/academics/undergraduate/course-synopses/course-details/01-198-105-great-insights-in-computer-science', 'Please tell me more.', 'The class is a tour of the big ideas that make computer science an academic discipline. We tour the architecture of modern computers from bits and logic all the way up to programming languages and software libraries. We probe the insights in computability and algorithm design that make possible massive search engines like Google and help us understand the relation between computation and intelligence. Coursework primarily involves paper-and-pencil problem solving and a very small amount of programming to provide students with hands-on-experience with the concepts we introduce.', 'Can you elaborate on that?'), ()), 'Please tell me more.')  :  2.74\n",
      "((('recommend', 'recommend', 'information link 01:198:105'), ('Type to chat!', 'Please tell me more.', 'suggesting courses, overview of CS or narrowed focus?'), ()), 'Can you elaborate on that?')  :  2.74\n",
      "((('recommend', 'recommend', 'information link 01:198:105', 'Mistake'), ('Type to chat!', 'Please tell me more.', 'suggesting courses, overview of CS or narrowed focus?', 'Can you elaborate on that?'), ()), \"I don't understand. Can you rephrase? \")  :  2.74\n",
      "((('information prerequisites 01:198:105',), ('Type to chat!',), ()), 'Please tell me more.')  :  2.74\n",
      "((('information prerequisites 01:198:105', 'Mistake'), ('Type to chat!', 'Please tell me more.'), ()), \"I don't understand. Can you rephrase? \")  :  2.74\n",
      "((('information prerequisites 01:198:105', 'Mistake', 'information SAS core Great Insights in Computer Science', 'recommend'), ('Type to chat!', 'Please tell me more.', \"I don't understand. Can you rephrase? \", 'QR, ITR'), ()), 'suggesting courses, overview of CS or narrowed focus?')  :  2.74\n",
      "((('information prerequisites 01:198:105', 'Mistake', 'information SAS core Great Insights in Computer Science', 'recommend', 'recommend'), ('Type to chat!', 'Please tell me more.', \"I don't understand. Can you rephrase? \", 'QR, ITR', 'suggesting courses, overview of CS or narrowed focus?'), ()), 'Please tell me more.')  :  2.74\n",
      "((('information prerequisites 01:198:105', 'Mistake', 'information SAS core Great Insights in Computer Science', 'recommend', 'recommend', 'information keywords 01:198:105', 'recommend'), ('Type to chat!', 'Please tell me more.', \"I don't understand. Can you rephrase? \", 'QR, ITR', 'suggesting courses, overview of CS or narrowed focus?', 'Please tell me more.', 'introduction, elementary,'), ()), \"I don't understand. Can you rephrase? \")  :  2.74\n",
      "((('Mistake', 'recommend'), ('Type to chat!', 'Can you elaborate on that?'), ()), 'Please tell me more.')  :  2.74\n",
      "((('Mistake', 'recommend', 'recommend'), ('Type to chat!', 'Can you elaborate on that?', 'Please tell me more.'), ()), 'suggesting courses, overview of CS or narrowed focus?')  :  2.74\n",
      "((('Mistake', 'recommend', 'recommend', 'information keywords 01:198:105'), ('Type to chat!', 'Can you elaborate on that?', 'Please tell me more.', 'suggesting courses, overview of CS or narrowed focus?'), ()), \"I don't understand. Can you rephrase? \")  :  2.74\n",
      "((('recommend', 'Mistake', 'recommend'), ('Type to chat!', 'suggesting courses, overview of CS or narrowed focus?', 'Can you elaborate on that?'), ()), \"I don't understand. Can you rephrase? \")  :  2.74\n",
      "((('information name Great Insights in Computer Science', 'Mistake'), ('Type to chat!', 'Can you elaborate on that?'), ()), 'Can you elaborate on that?')  :  2.74\n",
      "((('information name Great Insights in Computer Science', 'Mistake', 'Mistake'), ('Type to chat!', 'Can you elaborate on that?', 'Can you elaborate on that?'), ()), 'Can you elaborate on that?')  :  2.74\n",
      "((('Mistake', 'information link Great Insights in Computer Science'), ('Type to chat!', 'Can you elaborate on that?'), ()), 'Please tell me more.')  :  2.74\n",
      "((('Mistake', 'information link Great Insights in Computer Science', 'information prerequisites 01:198:105', 'recommend'), ('Type to chat!', 'Can you elaborate on that?', 'Please tell me more.', '01:640:026 or 01:640:027'), ()), 'suggesting courses, overview of CS or narrowed focus?')  :  2.74\n",
      "((('Mistake', 'information link Great Insights in Computer Science', 'information prerequisites 01:198:105', 'recommend', 'Mistake'), ('Type to chat!', 'Can you elaborate on that?', 'Please tell me more.', '01:640:026 or 01:640:027', 'suggesting courses, overview of CS or narrowed focus?'), ()), \"I don't understand. Can you rephrase? \")  :  2.74\n",
      "((('information name 01:198:105',), ('Type to chat!',), ()), 'Can you elaborate on that?')  :  2.74\n",
      "((('information name 01:198:105', 'Mistake'), ('Type to chat!', 'Can you elaborate on that?'), ()), \"I don't understand. Can you rephrase? \")  :  2.74\n",
      "((('information name 01:198:105', 'Mistake', 'information name Great Insights in Computer Science'), ('Type to chat!', 'Can you elaborate on that?', \"I don't understand. Can you rephrase? \"), ()), 'Please tell me more.')  :  2.74\n",
      "((('Mistake', 'information name 01:198:105'), ('Type to chat!', 'Can you elaborate on that?'), ()), \"I don't understand. Can you rephrase? \")  :  2.74\n",
      "((('Mistake', 'information name 01:198:105', 'information link 01:198:105'), ('Type to chat!', 'Can you elaborate on that?', \"I don't understand. Can you rephrase? \"), ()), 'Please tell me more.')  :  2.74\n",
      "((('information description Great Insights in Computer Science', 'recommend'), ('Type to chat!', 'The class is a tour of the big ideas that make computer science an academic discipline. We tour the architecture of modern computers from bits and logic all the way up to programming languages and software libraries. We probe the insights in computability and algorithm design that make possible massive search engines like Google and help us understand the relation between computation and intelligence. Coursework primarily involves paper-and-pencil problem solving and a very small amount of programming to provide students with hands-on-experience with the concepts we introduce.'), ()), \"I don't understand. Can you rephrase? \")  :  2.74\n",
      "((('Mistake', 'information credits Great Insights in Computer Science', 'information link Great Insights in Computer Science'), ('Type to chat!', \"I don't understand. Can you rephrase? \", 3), ()), 'Can you elaborate on that?')  :  2.74\n",
      "((('Mistake', 'information credits Great Insights in Computer Science', 'information link Great Insights in Computer Science', 'information prerequisites Great Insights in Computer Science'), ('Type to chat!', \"I don't understand. Can you rephrase? \", 3, 'Can you elaborate on that?'), ()), 'Please tell me more.')  :  2.74\n",
      "((('information name Great Insights in Computer Science',), ('Type to chat!',), ()), 'Can you elaborate on that?')  :  2.614\n",
      "((('recommend', 'recommend'), ('Type to chat!', 'Please tell me more.'), ()), 'suggesting courses, overview of CS or narrowed focus?')  :  2.614\n",
      "((('recommend', 'Mistake'), ('Type to chat!', 'suggesting courses, overview of CS or narrowed focus?'), ()), 'Can you elaborate on that?')  :  2.6014\n",
      "((('recommend',), ('Type to chat!',), ()), 'Can you elaborate on that?')  :  2.60014\n",
      "((('recommend',), ('Type to chat!',), ()), \"I don't understand. Can you rephrase? \")  :  2.6000140000000003\n",
      "((('recommend',), ('Type to chat!',), ()), 'Please tell me more.')  :  2.6000140000000003\n",
      "((('Mistake',), ('Type to chat!',), ()), 'Please tell me more.')  :  2.6000014\n",
      "((('Mistake',), ('Type to chat!',), ()), 'Can you elaborate on that?')  :  2.60000000014\n",
      "((('recommend',), ('Type to chat!',), ()), 'suggesting courses, overview of CS or narrowed focus?')  :  2.600000000014\n",
      "((('Mistake',), ('Type to chat!',), ()), \"I don't understand. Can you rephrase? \")  :  2.60000000000014\n",
      "(((), (), ()), 'Type to chat!')  :  2.6\n"
     ]
    }
   ],
   "source": [
    "# dicitionary to hold Q-values for each state & action pair(key)\n",
    "q_values = {}\n",
    "# {(state, action) : q_value}\n",
    "\n",
    "# define training params\n",
    "epsilon = 0.9\n",
    "discount_factor = 0.9\n",
    "learning_rate = 0.9\n",
    "\n",
    "default = 4\n",
    "\n",
    "for episode in range(100):\n",
    "    # begin conversation and iterate till it finishes\n",
    "    # state0 = {\"u\": [], \"a\": [], \"task\": []}\n",
    "    state0 = ((), (), ())\n",
    "    utterance = None\n",
    "    \n",
    "    while(True):\n",
    "        # determine chatbot action\n",
    "        plans = possible(state0)\n",
    "        action = deliberate(plans, state0)\n",
    "        userTurnState = do(action, state0)\n",
    "        \n",
    "        # determine user utterance\n",
    "        utterance = random.choice(userUtterance(userTurnState))\n",
    "        # print(utterance)\n",
    "        nextState = understand(utterance, userTurnState)\n",
    "        \n",
    "        # handle rewards (reward for action that transitions to nextState)\n",
    "        reward = getReward(state0, action, nextState)\n",
    "        old_q_value = q_values.get((state0, action), default)\n",
    "        \n",
    "        \n",
    "        # if newState is not in dictionary, add it\n",
    "        found = False\n",
    "        for k in q_values:\n",
    "            if(k[0] == nextState):\n",
    "                found = True\n",
    "                break\n",
    "        if not found:\n",
    "            q_values[(nextState, None)] = default\n",
    "        \n",
    "        \n",
    "        # get q_values associated with next state\n",
    "        vals = []\n",
    "        for key, val in q_values.items():\n",
    "            if(key == nextState):\n",
    "                vals.append(val)\n",
    "        if(len(vals) == 0): vals.append(default)\n",
    "        td = reward + (discount_factor * max(vals) - old_q_value)\n",
    "        newqq = old_q_value + learning_rate * (td)\n",
    "                      \n",
    "        q_values.update({(state0, action):newqq})\n",
    "                      \n",
    "        if utterance == \"quit\":\n",
    "            break\n",
    "            \n",
    "        state0 = nextState\n",
    "        # print(state0)\n",
    "\n",
    "print(\"Training complete!\")\n",
    "# print q-value dictionary\n",
    "for key, value in sorted(q_values.items(), key=lambda kv: kv[1], reverse=True):\n",
    "        print(key,' : ',value)\n",
    "\n",
    "# for key, value in q_values.items():\n",
    "#     print(key,' : ',value)"
   ]
  },
  {
   "cell_type": "code",
   "execution_count": null,
   "id": "d3027f3d",
   "metadata": {
    "collapsed": false
   },
   "outputs": [],
   "source": []
  }
 ],
 "metadata": {
  "kernelspec": {
   "argv": [
    "C:/ProgramData/Anaconda3\\python.exe",
    "-m",
    "ipykernel_launcher",
    "-f",
    "{connection_file}"
   ],
   "display_name": "Python 3 (ipykernel)",
   "env": null,
   "interrupt_mode": "signal",
   "language": "python",
   "metadata": {
    "debugger": true
   },
   "name": "python3"
  },
  "language_info": {
   "codemirror_mode": {
    "name": "ipython",
    "version": 3
   },
   "file_extension": ".py",
   "mimetype": "text/x-python",
   "name": "python",
   "nbconvert_exporter": "python",
   "pygments_lexer": "ipython3",
   "version": "3.10.0"
  },
  "name": "Chatbot2.ipynb"
 },
 "nbformat": 4,
 "nbformat_minor": 5
}
