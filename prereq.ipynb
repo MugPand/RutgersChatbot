{
  "cells": [
    {
      "cell_type": "markdown",
      "metadata": {
        "id": "view-in-github",
        "colab_type": "text"
      },
      "source": [
        "<a href=\"https://colab.research.google.com/github/MugPand/RutgersChatbot/blob/main/prereq.ipynb\" target=\"_parent\"><img src=\"https://colab.research.google.com/assets/colab-badge.svg\" alt=\"Open In Colab\"/></a>"
      ]
    },
    {
      "cell_type": "code",
      "execution_count": null,
      "metadata": {
        "id": "EqB84xuuywd-",
        "colab": {
          "base_uri": "https://localhost:8080/"
        },
        "outputId": "056cd549-625c-4c46-8b49-aff20003141f"
      },
      "outputs": [
        {
          "output_type": "stream",
          "name": "stdout",
          "text": [
            "Drive already mounted at /content/gdrive; to attempt to forcibly remount, call drive.mount(\"/content/gdrive\", force_remount=True).\n",
            "10    01:198:205 or 14:332:202; 01:640:152\n",
            "Name: Prereq Info, dtype: object\n",
            "10    False\n",
            "Name: Prereq Info, dtype: bool\n",
            "01:198:205 or 14:332:202; 01:640:152\n",
            "prereq ['01:198:205\\xa0or\\xa014:332:202', '01:640:152']\n",
            "stud_prev ['01:640:115']\n",
            "\n",
            "[['01:198:205', '14:332:202'], '01:640:152']\n",
            "\n",
            "10    01:198:205 or 14:332:202; 01:640:152\n",
            "Name: Prereq Info, dtype: object\n",
            "10    False\n",
            "Name: Prereq Info, dtype: bool\n",
            "01:198:205 or 14:332:202; 01:640:152\n",
            "prereq ['01:198:205\\xa0or\\xa014:332:202', '01:640:152']\n",
            "stud_prev ['01:640:115', '01:198:205']\n",
            "\n",
            "[['14:332:202'], '01:640:152']\n"
          ]
        }
      ],
      "source": [
        "from google.colab import drive\n",
        "drive.mount('/content/gdrive')\n",
        "\n",
        "import sys\n",
        "import pandas as pd\n",
        "import re\n",
        "def calc_prereqs(taken, check_course):\n",
        "\n",
        "    data=pd.read_csv('/content/gdrive/MyDrive/IRT/CSClass_info.csv')\n",
        "    row = data['Course Number']\n",
        "    # print(row)\n",
        "    tempPrereq = data.loc[data['Course Number']==check_course]['Prereq Info']     #from database\n",
        "    print(tempPrereq)\n",
        "    print(pd.isna(tempPrereq))\n",
        "    if tempPrereq.size == 0 or pd.isna(tempPrereq.iloc[0]):\n",
        "      tempPrereq = ''\n",
        "    else:\n",
        "      tempPrereq = tempPrereq.iloc[0].replace('.','')\n",
        "    # prereq = tempPrereq.split(\";\")\n",
        "    print(tempPrereq)\n",
        "    prereq = re.split(r';\\xa0|; ', tempPrereq)\n",
        "\n",
        "    tempPrev = \"; \".join(taken)       #from input\n",
        "    stud_prev = tempPrev.split(\"; \")\n",
        "\n",
        "    print('prereq', prereq)\n",
        "    print('stud_prev', stud_prev)\n",
        "    \n",
        "    ret = []\n",
        "\n",
        "    for i in range (len(prereq)):\n",
        "        temp = prereq[i]\n",
        "        \n",
        "        if len(temp) == 10:\n",
        "            contains = False\n",
        "            for j in range (len(stud_prev)):\n",
        "                if stud_prev[j] == temp:\n",
        "                    contains = True\n",
        "            if contains == False:\n",
        "                ret.append(temp)\n",
        "\n",
        "        # else:\n",
        "        #     temp_list = re.split(r\"\\xa0or\\xa0\", temp)\n",
        "        #     temp_ret = []\n",
        "\n",
        "        #     for j in range (len(temp_list)):\n",
        "        #         temp_item = temp_list[j]\n",
        "        #         contains = False\n",
        "        #         for k in range (len(stud_prev)):\n",
        "        #             if stud_prev[k] == temp_item:\n",
        "        #                 contains = True\n",
        "        #         if contains == False:\n",
        "        #             temp_ret.append(temp_item)\n",
        "\n",
        "        #     if len(temp_ret) != 0:\n",
        "        #         ret.append(temp_ret)\n",
        "\n",
        "        else:\n",
        "            temp_list = re.split(r\"\\xa0or\\xa0\", temp)\n",
        "            temp_ret = []\n",
        "\n",
        "            contains = False\n",
        "            for j in range (len(temp_list)):\n",
        "                temp_item = temp_list[j]\n",
        "                # contains = False\n",
        "                for k in range (len(stud_prev)):\n",
        "                    if stud_prev[k] == temp_item:\n",
        "                        contains = True\n",
        "            if contains == False:\n",
        "                temp_ret.append(temp_item)\n",
        "\n",
        "            if len(temp_ret) != 0:\n",
        "                ret.append(temp_ret)\n",
        "\n",
        "    print()\n",
        "    return ret\n",
        "    exit\n",
        "\n",
        "\n",
        "if __name__ == \"__main__\":\n",
        "    taken=[\"01:640:115\"]\n",
        "    check_course=\"01:198:206\"\n",
        "    print(calc_prereqs(taken, check_course))\n",
        "    print()\n",
        "    taken.append('01:198:205')\n",
        "    print('205 is taken', calc_prereqs(taken, check_course))"
      ]
    },
    {
      "cell_type": "code",
      "source": [
        "taken=[\"01:198:105\", \"01:198:111\"]\n",
        "check_course=\"01:198:107\"\n",
        "main(taken, check_course)"
      ],
      "metadata": {
        "colab": {
          "base_uri": "https://localhost:8080/"
        },
        "id": "rkV8-UEifW_z",
        "outputId": "75526aca-4bc4-472c-936e-bc104585af43"
      },
      "execution_count": null,
      "outputs": [
        {
          "output_type": "stream",
          "name": "stdout",
          "text": [
            "0     01:198:105\n",
            "1     01:198:107\n",
            "2     01:198:110\n",
            "3     01:198:111\n",
            "4     01:198:112\n",
            "5     01:198:142\n",
            "6     01:198:143\n",
            "7     01:198:170\n",
            "8     01:198:195\n",
            "9     01:198:205\n",
            "10    01:198:206\n",
            "11    01:198:210\n",
            "12    01:198:211\n",
            "13    01:198:213\n",
            "14    01:198:214\n",
            "15    01:198:310\n",
            "16    01:198:314\n",
            "17    01:198:323\n",
            "18    01:198:324\n",
            "19    01:198:334\n",
            "20    01:198:336\n",
            "21    01:198:344\n",
            "22    01:198:352\n",
            "23    01:198:405\n",
            "24    01:198:411\n",
            "25    01:198:415\n",
            "26    01:198:416\n",
            "27    01:198:417\n",
            "28    01:198:419\n",
            "29    01:198:424\n",
            "30    01:198:425\n",
            "31    01:198:428\n",
            "32    01:198:431\n",
            "33    01:198:437\n",
            "34    01:198:439\n",
            "35    01:198:440\n",
            "36    01:198:442\n",
            "37    01:198:443\n",
            "38    01:198:444\n",
            "39    01:198:445\n",
            "40    01:198:452\n",
            "41    01:198:460\n",
            "42    01:198:461\n",
            "43    01:198:462\n",
            "44    01:198:493\n",
            "45    01:198:494\n",
            "Name: Course Number, dtype: object\n"
          ]
        },
        {
          "output_type": "execute_result",
          "data": {
            "text/plain": [
              "[]"
            ]
          },
          "metadata": {},
          "execution_count": 6
        }
      ]
    },
    {
      "cell_type": "code",
      "source": [
        ""
      ],
      "metadata": {
        "id": "KzWiEv1Sfnl5"
      },
      "execution_count": null,
      "outputs": []
    }
  ],
  "metadata": {
    "language_info": {
      "name": "python"
    },
    "orig_nbformat": 4,
    "colab": {
      "name": "prereq.ipynb",
      "provenance": [],
      "collapsed_sections": [],
      "include_colab_link": true
    },
    "kernelspec": {
      "name": "python3",
      "display_name": "Python 3"
    }
  },
  "nbformat": 4,
  "nbformat_minor": 0
}