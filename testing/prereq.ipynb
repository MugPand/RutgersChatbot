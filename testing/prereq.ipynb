{
 "cells": [
  {
   "cell_type": "code",
   "execution_count": null,
   "metadata": {},
   "outputs": [],
   "source": [
    "import sys\n",
    "\n",
    "def main():\n",
    "    tempPrereq = \"\"     #from database\n",
    "    prereq = tempPrereq.split(\";\")\n",
    "\n",
    "    tempPrev = \"\"       #from input\n",
    "    stud_prev = tempPrev.split(\";\")\n",
    "    \n",
    "    ret = []\n",
    "\n",
    "    for i in range (len(prereq)):\n",
    "        temp = prereq[i]\n",
    "        \n",
    "        if len(temp) == 10:\n",
    "            contains = False\n",
    "            for j in range (len(stud_prev)):\n",
    "                if stud_prev[j] == temp:\n",
    "                    contains = True\n",
    "            if contains == False:\n",
    "                ret.insert(temp)\n",
    "\n",
    "        else:\n",
    "            temp_list = temp.split(\"or\")\n",
    "            temp_ret = []\n",
    "\n",
    "            for j in range (len(temp_list)):\n",
    "                temp_item = temp_list[j]\n",
    "                contains = False\n",
    "                for k in range (len(stud_prev)):\n",
    "                    if stud_prev[k] == temp_item:\n",
    "                        contains = True\n",
    "                if contains == False:\n",
    "                    temp_ret.insert(temp_item)\n",
    "\n",
    "            if len(temp_ret) != 0:\n",
    "                ret.insert(temp_ret)\n",
    "\n",
    "\n",
    "    sys.exit()\n",
    "\n",
    "\n",
    "if __name__ == \"__main__\":\n",
    "    main()"
   ]
  }
 ],
 "metadata": {
  "language_info": {
   "name": "python"
  },
  "orig_nbformat": 4
 },
 "nbformat": 4,
 "nbformat_minor": 2
}
